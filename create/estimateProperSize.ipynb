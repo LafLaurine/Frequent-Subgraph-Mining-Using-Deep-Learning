{
 "cells": [
  {
   "cell_type": "code",
   "execution_count": 43,
   "metadata": {},
   "outputs": [],
   "source": [
    "import torch\n",
    "import copy\n",
    "\n",
    "import seaborn as sns\n",
    "from pylab import rcParams\n",
    "import matplotlib.pyplot as plt\n",
    "from matplotlib import rc\n",
    "\n",
    "import numpy as np\n",
    "import glob, os\n",
    "import string\n",
    "from sklearn.model_selection import train_test_split\n",
    "from sklearn.metrics import f1_score, precision_score, recall_score, confusion_matrix\n",
    "from sklearn.metrics import precision_recall_fscore_support\n",
    "\n",
    "from torch import nn, optim\n",
    "from sklearn.metrics.pairwise import cosine_similarity\n",
    "from sklearn.metrics.pairwise import pairwise_distances\n",
    "from sklearn.metrics.pairwise import euclidean_distances\n",
    "import torch.nn.functional as F\n",
    "\n",
    "import pandas as pd\n",
    "import numpy as np\n",
    "import matplotlib.pyplot as plt\n",
    "import seaborn as sns\n",
    "\n",
    "import random\n",
    "from pathlib import Path\n",
    "from scipy import stats\n"
   ]
  },
  {
   "cell_type": "code",
   "execution_count": 44,
   "metadata": {},
   "outputs": [
    {
     "name": "stdout",
     "output_type": "stream",
     "text": [
      "../models/estimate_size15/*\n"
     ]
    },
    {
     "data": {
      "text/plain": [
       "device(type='cuda')"
      ]
     },
     "execution_count": 44,
     "metadata": {},
     "output_type": "execute_result"
    }
   ],
   "source": [
    "device = torch.device(\"cuda\" if torch.cuda.is_available() else \"cpu\")\n",
    "dir = '../models/estimate_size15/*'\n",
    "print(dir)\n",
    "model_files = glob.glob(dir)\n",
    "device"
   ]
  },
  {
   "cell_type": "code",
   "execution_count": 47,
   "metadata": {},
   "outputs": [
    {
     "data": {
      "text/plain": [
       "'../models/estimate_size15/model_char_15data_MSE_epoch200.pth'"
      ]
     },
     "execution_count": 47,
     "metadata": {},
     "output_type": "execute_result"
    }
   ],
   "source": [
    "model_files[1]"
   ]
  },
  {
   "cell_type": "code",
   "execution_count": 48,
   "metadata": {},
   "outputs": [],
   "source": [
    "class Encoder(nn.Module):\n",
    "    def __init__(self, seq_len, n_features, embedding_dim=64):\n",
    "        super(Encoder, self).__init__()\n",
    "        \n",
    "        self.seq_len, self.n_features = seq_len, n_features\n",
    "        self.embedding_dim, self.hidden_dim = embedding_dim, 2 * embedding_dim\n",
    "        \n",
    "        self.rnn1 = nn.LSTM(\n",
    "          input_size=n_features,\n",
    "          hidden_size=self.hidden_dim,\n",
    "          num_layers=1,\n",
    "          batch_first=True\n",
    "        )\n",
    "        self.rnn2 = nn.LSTM(\n",
    "          input_size=self.hidden_dim,\n",
    "          hidden_size=embedding_dim,\n",
    "          num_layers=1,\n",
    "          batch_first=True\n",
    "        )\n",
    "    def forward(self, x):\n",
    "\n",
    "        x = x.reshape((1, self.seq_len, self.n_features))\n",
    "        \n",
    "        x, (_, _) = self.rnn1(x)\n",
    "        x, (hidden_n, _) = self.rnn2(x)\n",
    "        \n",
    "        return hidden_n.reshape((self.seq_len, self.embedding_dim))"
   ]
  },
  {
   "cell_type": "code",
   "execution_count": 49,
   "metadata": {},
   "outputs": [],
   "source": [
    "class Decoder(nn.Module):\n",
    "    def __init__(self, seq_len, input_dim=64, n_features=1):\n",
    "        super(Decoder, self).__init__()\n",
    "        \n",
    "        self.seq_len, self.input_dim = seq_len, input_dim\n",
    "        self.hidden_dim, self.n_features = 2 * input_dim, n_features\n",
    "       \n",
    "        self.rnn1 = nn.LSTM(\n",
    "            input_size=input_dim,\n",
    "            hidden_size=input_dim,\n",
    "            num_layers=1,\n",
    "            batch_first=True\n",
    "        )\n",
    "        self.rnn2 = nn.LSTM(\n",
    "            input_size=input_dim,\n",
    "            hidden_size=self.hidden_dim,\n",
    "            num_layers=1,\n",
    "            batch_first=True\n",
    "        )\n",
    "        \n",
    "        self.output_layer = nn.Linear(self.hidden_dim, n_features)\n",
    "    def forward(self, x):\n",
    "        x = x.repeat(self.seq_len, self.n_features)\n",
    "        x = x.reshape((self.n_features, self.seq_len, self.input_dim))\n",
    "        \n",
    "        x, (hidden_n, cell_n) = self.rnn1(x)\n",
    "        x, (hidden_n, ce1ll_n) = self.rnn2(x)\n",
    "        x = x.reshape((self.n_features, self.hidden_dim))\n",
    "        return self.output_layer(x)"
   ]
  },
  {
   "cell_type": "code",
   "execution_count": 50,
   "metadata": {},
   "outputs": [],
   "source": [
    "class RecurrentAutoencoder(nn.Module):\n",
    "    def __init__(self, seq_len, n_features, embedding_dim=64):\n",
    "        super(RecurrentAutoencoder, self).__init__()\n",
    "        self.encoder = Encoder(seq_len, n_features, embedding_dim).to(device)\n",
    "        self.decoder = Decoder(seq_len, embedding_dim, n_features).to(device)\n",
    "    def forward(self, x):\n",
    "        x = self.encoder(x)\n",
    "        x = self.decoder(x)\n",
    "        return x"
   ]
  },
  {
   "cell_type": "code",
   "execution_count": 51,
   "metadata": {},
   "outputs": [
    {
     "data": {
      "text/plain": [
       "RecurrentAutoencoder(\n",
       "  (encoder): Encoder(\n",
       "    (rnn1): LSTM(45, 256, batch_first=True)\n",
       "    (rnn2): LSTM(256, 128, batch_first=True)\n",
       "  )\n",
       "  (decoder): Decoder(\n",
       "    (rnn1): LSTM(128, 128, batch_first=True)\n",
       "    (rnn2): LSTM(128, 256, batch_first=True)\n",
       "    (output_layer): Linear(in_features=256, out_features=45, bias=True)\n",
       "  )\n",
       ")"
      ]
     },
     "execution_count": 51,
     "metadata": {},
     "output_type": "execute_result"
    }
   ],
   "source": [
    "model = torch.load(model_files[1])\n",
    "model"
   ]
  },
  {
   "cell_type": "code",
   "execution_count": 52,
   "metadata": {},
   "outputs": [
    {
     "data": {
      "text/plain": [
       "'../datasets/estimate_size15/test/3test89.txt'"
      ]
     },
     "execution_count": 52,
     "metadata": {},
     "output_type": "execute_result"
    }
   ],
   "source": [
    "dir = '../datasets/estimate_size15/test/*'\n",
    "# file read\n",
    "all_names = []\n",
    "all_data = []\n",
    "sequence_length = []\n",
    "alpha = list(string.ascii_uppercase)\n",
    "data_length = len(glob.glob(dir))\n",
    "\n",
    "files = glob.glob(dir)\n",
    "files[0]"
   ]
  },
  {
   "cell_type": "code",
   "execution_count": 53,
   "metadata": {},
   "outputs": [
    {
     "data": {
      "text/plain": [
       "'3test89'"
      ]
     },
     "execution_count": 53,
     "metadata": {},
     "output_type": "execute_result"
    }
   ],
   "source": [
    "all_names = []\n",
    "\n",
    "for file in files:\n",
    "    all_names.append(file.split('/')[-1].replace('.txt', ''))\n",
    "all_names[0]\n"
   ]
  },
  {
   "cell_type": "code",
   "execution_count": 54,
   "metadata": {},
   "outputs": [
    {
     "data": {
      "text/plain": [
       "['1test14',\n",
       " '1test8',\n",
       " '1test12',\n",
       " '1test11',\n",
       " '1test1',\n",
       " '1test7',\n",
       " '1test2',\n",
       " '1test13',\n",
       " '1test0',\n",
       " '1test9',\n",
       " '1test4',\n",
       " '1test6',\n",
       " '1test10',\n",
       " '1test3',\n",
       " '1test5']"
      ]
     },
     "execution_count": 54,
     "metadata": {},
     "output_type": "execute_result"
    }
   ],
   "source": [
    "namesbysize = []\n",
    "for _ in range(15):\n",
    "    line = []\n",
    "    namesbysize.append(line)\n",
    "    \n",
    "\n",
    "for names in all_names:\n",
    "    namesbysize[int(names[:names.find('test')])].append(names)\n",
    "namesbysize[1]"
   ]
  },
  {
   "cell_type": "code",
   "execution_count": null,
   "metadata": {},
   "outputs": [],
   "source": []
  },
  {
   "cell_type": "code",
   "execution_count": 11,
   "metadata": {},
   "outputs": [],
   "source": [
    "# onehot\n",
    "alpha = list(string.ascii_uppercase)\n",
    "chr2index = {alpha[i]:i for i in range(len(alpha))}\n",
    "def chr2OH(alphabet):\n",
    "    oh = [0 for i in range(len(alpha))]\n",
    "    #ndex = chr2index[alphabet]\n",
    "    oh[alphabet] = 1\n",
    "    #rint(oh)\n",
    "    return oh"
   ]
  },
  {
   "cell_type": "code",
   "execution_count": 55,
   "metadata": {},
   "outputs": [
    {
     "data": {
      "text/plain": [
       "[0, 1, 0, 0, 0, 0, 0, 0, 0, 0, 0, 0, 0, 0, 0, 0, 0, 0, 0, 0, 0, 0, 0, 0, 0, 0]"
      ]
     },
     "execution_count": 55,
     "metadata": {},
     "output_type": "execute_result"
    }
   ],
   "source": [
    "# char\n",
    "alpha = list(string.ascii_uppercase)\n",
    "chr2index = {i:alpha[i] for i in range(len(alpha))}\n",
    "\n",
    "def OH2char(alphabet):\n",
    "    oh = [0 for i in range(len(alpha))]\n",
    "    index = chr2index[alphabet]\n",
    "\n",
    "    return index\n",
    "chr2OH(1)"
   ]
  },
  {
   "cell_type": "code",
   "execution_count": 12,
   "metadata": {},
   "outputs": [],
   "source": [
    "def loadData_onehot(directory):\n",
    "    all_names = []\n",
    "    all_data = []\n",
    "    sequence_length = []\n",
    "    alpha = list(string.ascii_uppercase)\n",
    "    data_length = len(glob.glob(directory))\n",
    "    #file_predix = './datasets/estimate_size/seq'\n",
    "    files = glob.glob(directory)\n",
    "\n",
    "    for file in files:\n",
    "        datasets = []\n",
    "        #all_names.append(file.split('/')[-1].replace('.txt', ''))\n",
    "        for rf in open(file, 'r'):\n",
    "            (u, v, w) = rf[1:-2].split(', ')\n",
    "            #print(u, v, w)\n",
    "            datasets.append(chr2OH(int(u)) + chr2OH(int(v)) +[float(w)])\n",
    "        if datasets != []:\n",
    "            sequence_length.append(len(datasets))\n",
    "            all_data.append(datasets)\n",
    "            all_names.append(file.split('/')[-1].replace('.txt', ''))\n",
    "   \n",
    "\n",
    "    all_data = np.array([np.array(arr) for arr in all_data])\n",
    "\n",
    "    return all_data, all_names, max(sequence_length)"
   ]
  },
  {
   "cell_type": "code",
   "execution_count": 17,
   "metadata": {},
   "outputs": [],
   "source": [
    "#onehot\n",
    "def loadData_onehot(directory):\n",
    "    files = glob.glob(directory)\n",
    "    all_data = []\n",
    "    all_names = []\n",
    "    sequence_length = []\n",
    "    for file in files:\n",
    "        all_names.append(file.split('/')[-1].replace('.txt', ''))\n",
    "        datasets = []\n",
    "        for rf in open(file, 'r'):\n",
    "            (u, v, w) = rf[1:-2].split(', ')\n",
    "            #print(u, v, w)\n",
    "            datasets.append(chr2OH(int(u)) + chr2OH(int(v)) +[float(w)])\n",
    "            #datasets.append([chr2index[u[1]], chr2index[v[1]], float(w)])\n",
    "        sequence_length.append(len(datasets))\n",
    "        all_data.append(datasets)\n",
    "\n",
    "    all_data = np.array([np.array(arr) for arr in all_data])\n",
    "\n",
    "    return all_data, all_names, max(sequence_length)"
   ]
  },
  {
   "cell_type": "code",
   "execution_count": 56,
   "metadata": {},
   "outputs": [],
   "source": [
    "def loadData_char(directory):\n",
    "    all_names = []\n",
    "    all_data = []\n",
    "    sequence_length = []\n",
    "    alpha = list(string.ascii_uppercase)\n",
    "    data_length = len(glob.glob(directory))\n",
    "    #file_predix = './datasets/estimate_size/seq'\n",
    "    files = glob.glob(directory)\n",
    "\n",
    "    for file in files:\n",
    "        datasets = []\n",
    "        #all_names.append(file.split('/')[-1].replace('.txt', ''))\n",
    "        for rf in open(file, 'r'):\n",
    "            (u, v, w) = rf[1:-2].split(', ')\n",
    "            #print(u, v, w)\n",
    "            datasets.append([(float(u)) , (float(v)), float(w)])\n",
    "        if datasets != []:\n",
    "            sequence_length.append(len(datasets))\n",
    "            all_data.append(datasets)\n",
    "            all_names.append(file.split('/')[-1].replace('.txt', ''))\n",
    "   \n",
    "\n",
    "    all_data = np.array([np.array(arr) for arr in all_data])\n",
    "\n",
    "    return all_data, all_names, max(sequence_length)"
   ]
  },
  {
   "cell_type": "code",
   "execution_count": 57,
   "metadata": {},
   "outputs": [],
   "source": [
    "def preprocessData_char(all_data, max_sequence_length):\n",
    "    #max_sequence_length = max(sequence_length)\n",
    "    zeros = np.zeros(3)\n",
    "\n",
    "    for ind, data in enumerate(all_data):\n",
    "\n",
    "        if len(data) != max_sequence_length:\n",
    "            for i in range(len(data), max_sequence_length):\n",
    "                all_data[ind] = np.vstack([all_data[ind], zeros]) \n",
    "    all_d = []\n",
    "    for ind, data in enumerate(all_data):\n",
    "        all_d.append(data.flatten())\n",
    "        #all_d[ind] = data.flat1ten()\n",
    " \n",
    "\n",
    "    return all_d"
   ]
  },
  {
   "cell_type": "code",
   "execution_count": 13,
   "metadata": {},
   "outputs": [],
   "source": [
    "def preprocessData_onehot(all_data, max_sequence_length):\n",
    "    #max_sequence_length = max(sequence_length)\n",
    "    zeros = np.zeros(53)\n",
    "\n",
    "    for ind, data in enumerate(all_data):\n",
    "\n",
    "        if len(data) != max_sequence_length:\n",
    "            for i in range(len(data), max_sequence_length):\n",
    "                all_data[ind] = np.vstack([all_data[ind], zeros]) \n",
    "    all_d = []\n",
    "    for ind, data in enumerate(all_data):\n",
    "        all_d.append(data.flatten())\n",
    "        #all_d[ind] = data.flat1ten()\n",
    " \n",
    "\n",
    "    return all_d"
   ]
  },
  {
   "cell_type": "code",
   "execution_count": 58,
   "metadata": {},
   "outputs": [],
   "source": [
    "def create_dataset_1(nparrays):\n",
    "    dataset = [torch.tensor(s).unsqueeze(0).float() for s in nparrays]\n",
    "  #step_per_epoch, seq_len, llen, n_features = torch.stack(dataset).shape\n",
    "    #n_seq, m ,seq_len, n_features = print(torch.stack(dataset).shape)\n",
    "    print(torch.stack(dataset).shape)\n",
    "    n_seq, seq_len, n_features = torch.stack(dataset).shape\n",
    "    #print( n_seq, m , seq_len, n_features )\n",
    "    return dataset, seq_len, n_features"
   ]
  },
  {
   "cell_type": "markdown",
   "metadata": {},
   "source": [
    "# represent 0 graph"
   ]
  },
  {
   "cell_type": "code",
   "execution_count": 59,
   "metadata": {},
   "outputs": [
    {
     "name": "stdout",
     "output_type": "stream",
     "text": [
      "torch.Size([1000, 1, 45])\n"
     ]
    }
   ],
   "source": [
    "# char\n",
    "rep0dir = '../datasets/estimate_size15/seq/0graph*'\n",
    "rep0data, rep0names, rep0seqLength = loadData_char(rep0dir)\n",
    "len(rep0names)\n",
    "rep0d = preprocessData_char(rep0data, rep0seqLength)\n",
    "rep0testdata, rep0seq_len , rep0n_features = create_dataset_1(rep0d)"
   ]
  },
  {
   "cell_type": "code",
   "execution_count": 15,
   "metadata": {},
   "outputs": [
    {
     "name": "stdout",
     "output_type": "stream",
     "text": [
      "torch.Size([1000, 1, 689])\n"
     ]
    }
   ],
   "source": [
    "# onehot\n",
    "rep0dir = '../datasets/estimate_size15/seq/0graph*'\n",
    "rep0data, rep0names, rep0seqLength = loadData_onehot(rep0dir)\n",
    "len(rep0names)\n",
    "rep0d = preprocessData_onehot(rep0data, rep0seqLength)\n",
    "rep0testdata, rep0seq_len , rep0n_features = create_dataset_1(rep0d)\n"
   ]
  },
  {
   "cell_type": "markdown",
   "metadata": {},
   "source": [
    "# represent 1 graph"
   ]
  },
  {
   "cell_type": "code",
   "execution_count": 60,
   "metadata": {},
   "outputs": [
    {
     "name": "stdout",
     "output_type": "stream",
     "text": [
      "torch.Size([1000, 1, 45])\n"
     ]
    }
   ],
   "source": [
    "# char\n",
    "rep1dir = '../datasets/estimate_size15/seq/1graph*'\n",
    "rep1data, rep1names, rep1seqLength = loadData_char(rep1dir)\n",
    "len(rep1names)\n",
    "rep1d = preprocessData_char(rep1data, rep1seqLength)\n",
    "rep1testdata, rep1seq_len , rep1n_features = create_dataset_1(rep1d)"
   ]
  },
  {
   "cell_type": "code",
   "execution_count": 16,
   "metadata": {},
   "outputs": [
    {
     "name": "stdout",
     "output_type": "stream",
     "text": [
      "torch.Size([1000, 1, 689])\n"
     ]
    }
   ],
   "source": [
    "# onehot\n",
    "rep1dir = '../datasets/estimate_size15/seq/1graph*'\n",
    "rep1data, rep1names, rep1seqLength = loadData_onehot(rep1dir)\n",
    "len(rep1names)\n",
    "rep1d = preprocessData_onehot(rep1data, rep1seqLength)\n",
    "rep1testdata, rep1seq_len , rep1n_features = create_dataset_1(rep1d)"
   ]
  },
  {
   "cell_type": "markdown",
   "metadata": {},
   "source": [
    "# represent 2 graph"
   ]
  },
  {
   "cell_type": "code",
   "execution_count": 61,
   "metadata": {},
   "outputs": [
    {
     "name": "stdout",
     "output_type": "stream",
     "text": [
      "torch.Size([1000, 1, 45])\n"
     ]
    }
   ],
   "source": [
    "# char\n",
    "rep2dir = '../datasets/estimate_size15/seq/2graph*'\n",
    "rep2data, rep2names, rep2seqLength = loadData_char(rep2dir)\n",
    "len(rep2names)\n",
    "rep2d = preprocessData_char(rep2data, rep2seqLength)\n",
    "rep2testdata, rep2seq_len , rep2n_features = create_dataset_1(rep2d)"
   ]
  },
  {
   "cell_type": "code",
   "execution_count": 17,
   "metadata": {},
   "outputs": [
    {
     "name": "stdout",
     "output_type": "stream",
     "text": [
      "torch.Size([1000, 1, 689])\n"
     ]
    }
   ],
   "source": [
    "# onehot\n",
    "rep2dir = '../datasets/estimate_size15/seq/2graph*'\n",
    "rep2data, rep2names, rep2seqLength = loadData_onehot(rep2dir)\n",
    "len(rep2names)\n",
    "rep2d = preprocessData_onehot(rep2data, rep2seqLength)\n",
    "rep2testdata, rep2seq_len , rep2n_features = create_dataset_1(rep2d)"
   ]
  },
  {
   "cell_type": "markdown",
   "metadata": {},
   "source": [
    "# represent 3 graph"
   ]
  },
  {
   "cell_type": "code",
   "execution_count": 62,
   "metadata": {},
   "outputs": [
    {
     "name": "stdout",
     "output_type": "stream",
     "text": [
      "torch.Size([1000, 1, 45])\n"
     ]
    }
   ],
   "source": [
    "# char\n",
    "rep3dir = '../datasets/estimate_size15/seq/3graph*'\n",
    "rep3data, rep3names, rep3seqLength = loadData_char(rep3dir)\n",
    "len(rep3names)\n",
    "rep3d = preprocessData_char(rep3data, rep3seqLength)\n",
    "rep3testdata, rep3seq_len , rep3n_features = create_dataset_1(rep3d)"
   ]
  },
  {
   "cell_type": "code",
   "execution_count": 18,
   "metadata": {},
   "outputs": [
    {
     "name": "stdout",
     "output_type": "stream",
     "text": [
      "torch.Size([1000, 1, 689])\n"
     ]
    }
   ],
   "source": [
    "# onehot\n",
    "rep3dir = '../datasets/estimate_size15/seq/3graph*'\n",
    "rep3data, rep3names, rep3seqLength = loadData_onehot(rep3dir)\n",
    "len(rep3names)\n",
    "rep3d = preprocessData_onehot(rep3data, rep3seqLength)\n",
    "rep3testdata, rep3seq_len , rep3n_features = create_dataset_1(rep3d)"
   ]
  },
  {
   "cell_type": "markdown",
   "metadata": {},
   "source": [
    "# represent 4 graph"
   ]
  },
  {
   "cell_type": "code",
   "execution_count": 63,
   "metadata": {},
   "outputs": [
    {
     "name": "stdout",
     "output_type": "stream",
     "text": [
      "torch.Size([1000, 1, 45])\n"
     ]
    }
   ],
   "source": [
    "# char\n",
    "rep4dir = '../datasets/estimate_size15/seq/4graph*'\n",
    "rep4data, rep4names, rep4seqLength = loadData_char(rep4dir)\n",
    "len(rep4names)\n",
    "rep4d = preprocessData_char(rep4data, rep4seqLength)\n",
    "rep4testdata, rep4seq_len , rep4n_features = create_dataset_1(rep4d)"
   ]
  },
  {
   "cell_type": "code",
   "execution_count": null,
   "metadata": {},
   "outputs": [],
   "source": [
    "# onehot\n",
    "rep4dir = '../datasets/estimate_size15/seq/4graph*'\n",
    "rep4data, rep4names, rep4seqLength = loadData_onehot(rep4dir)\n",
    "len(rep4names)\n",
    "rep4d = preprocessData_onehot(rep4data, rep4seqLength)\n",
    "rep4testdata, rep4seq_len , rep4n_features = create_dataset_1(rep4d)"
   ]
  },
  {
   "cell_type": "markdown",
   "metadata": {},
   "source": [
    "# represent 5 graph"
   ]
  },
  {
   "cell_type": "code",
   "execution_count": 64,
   "metadata": {},
   "outputs": [
    {
     "name": "stdout",
     "output_type": "stream",
     "text": [
      "torch.Size([1000, 1, 45])\n"
     ]
    }
   ],
   "source": [
    "# char\n",
    "rep5dir = '../datasets/estimate_size15/seq/5graph*'\n",
    "rep5data, rep5names, rep5seqLength = loadData_char(rep5dir)\n",
    "len(rep5names)\n",
    "rep5d = preprocessData_char(rep5data, rep5seqLength)\n",
    "rep5testdata, rep5seq_len , rep5n_features = create_dataset_1(rep5d)"
   ]
  },
  {
   "cell_type": "code",
   "execution_count": null,
   "metadata": {},
   "outputs": [],
   "source": [
    "# onehot\n",
    "rep5dir = '../datasets/estimate_size15/seq/5graph*'\n",
    "rep5data, rep5names, rep5seqLength = loadData_onehot(rep5dir)\n",
    "len(rep5names)\n",
    "rep5d = preprocessData_onehot(rep5data, rep5seqLength)\n",
    "rep5testdata, rep5seq_len , rep5n_features = create_dataset_1(rep5d)"
   ]
  },
  {
   "cell_type": "markdown",
   "metadata": {},
   "source": [
    "# Test data"
   ]
  },
  {
   "cell_type": "code",
   "execution_count": 65,
   "metadata": {},
   "outputs": [
    {
     "name": "stdout",
     "output_type": "stream",
     "text": [
      "torch.Size([336, 1, 45])\n"
     ]
    },
    {
     "name": "stderr",
     "output_type": "stream",
     "text": [
      "<ipython-input-56-3241c10fd6cb>:23: VisibleDeprecationWarning: Creating an ndarray from ragged nested sequences (which is a list-or-tuple of lists-or-tuples-or ndarrays with different lengths or shapes) is deprecated. If you meant to do this, you must specify 'dtype=object' when creating the ndarray\n",
      "  all_data = np.array([np.array(arr) for arr in all_data])\n"
     ]
    },
    {
     "data": {
      "text/plain": [
       "'3test89'"
      ]
     },
     "execution_count": 65,
     "metadata": {},
     "output_type": "execute_result"
    }
   ],
   "source": [
    "# char\n",
    "testdir = '../datasets/estimate_size15/test/*'\n",
    "testdata, testnames, testseqLength = loadData_char(testdir)\n",
    "len(testnames)\n",
    "testd = preprocessData_char(testdata, testseqLength+1)\n",
    "testtestdata, testseq_len , testn_features = create_dataset_1(testd)\n",
    "testtestdata[0]\n",
    "testnames[0]"
   ]
  },
  {
   "cell_type": "code",
   "execution_count": 19,
   "metadata": {},
   "outputs": [
    {
     "name": "stdout",
     "output_type": "stream",
     "text": [
      "torch.Size([296, 1, 689])\n"
     ]
    },
    {
     "name": "stderr",
     "output_type": "stream",
     "text": [
      "<ipython-input-12-cede117762aa>:23: VisibleDeprecationWarning: Creating an ndarray from ragged nested sequences (which is a list-or-tuple of lists-or-tuples-or ndarrays with different lengths or shapes) is deprecated. If you meant to do this, you must specify 'dtype=object' when creating the ndarray\n",
      "  all_data = np.array([np.array(arr) for arr in all_data])\n"
     ]
    },
    {
     "data": {
      "text/plain": [
       "'3test72'"
      ]
     },
     "execution_count": 19,
     "metadata": {},
     "output_type": "execute_result"
    }
   ],
   "source": [
    "# onehot\n",
    "testdir = '../datasets/estimate_size15/test/*'\n",
    "testdata, testnames, testseqLength = loadData_onehot(testdir)\n",
    "\n",
    "testd = preprocessData_onehot(testdata, testseqLength+1)\n",
    "testtestdata, testseq_len , testn_features = create_dataset_1(testd)\n",
    "testtestdata[0]\n",
    "testnames[0]"
   ]
  },
  {
   "cell_type": "code",
   "execution_count": 66,
   "metadata": {
    "scrolled": true
   },
   "outputs": [],
   "source": [
    "namesbysize = []\n",
    "indexsbysize = []\n",
    "\n",
    "\n",
    "for _ in range(15):\n",
    "    line = []\n",
    "    namesbysize.append(line)\n",
    "\n",
    "for _ in range(15):\n",
    "    line = []\n",
    "    indexsbysize.append(line)\n",
    "    \n",
    "for ind, names in enumerate(testnames):\n",
    "    namesbysize[int(names[:names.find('test')])].append(names)\n",
    "    indexsbysize[int(names[:names.find('test')])].append(ind)\n",
    "\n",
    "testdatabysize = []    \n",
    "testnamebysize = []\n",
    "for ind, size in enumerate(indexsbysize):\n",
    "    graphs = []\n",
    "    names = []\n",
    "    for indx, index in enumerate(size):\n",
    "        graphs.append(testtestdata[index])\n",
    "        names.append(testnames[index])\n",
    "    testdatabysize.append(graphs)  \n",
    "    testnamebysize.append(names)\n"
   ]
  },
  {
   "cell_type": "markdown",
   "metadata": {},
   "source": [
    "# Predict"
   ]
  },
  {
   "cell_type": "code",
   "execution_count": 67,
   "metadata": {},
   "outputs": [],
   "source": [
    "def predict(model, dataset):\n",
    "    predictions, losses = [], []\n",
    "    criterion = nn.MSELoss(reduction='mean').to(device)\n",
    "    with torch.no_grad():\n",
    "        model = model.eval()\n",
    "        for seq_true in dataset:\n",
    "            seq_true = seq_true.to(device)\n",
    "            seq_pred = model(seq_true)\n",
    "            #print(seq_pred.shape)\n",
    "            loss = criterion(seq_pred, seq_true)\n",
    "            #print(loss)\n",
    "            #print(seq_pred.cpu().numpy().flatten())\n",
    "            predictions.append(seq_pred.cpu().numpy().flatten())\n",
    "            losses.append(loss.item())\n",
    "    return predictions"
   ]
  },
  {
   "cell_type": "code",
   "execution_count": 68,
   "metadata": {
    "scrolled": true
   },
   "outputs": [
    {
     "name": "stderr",
     "output_type": "stream",
     "text": [
      "/home/yujeong/anaconda3/envs/pytorch/lib/python3.8/site-packages/torch/nn/modules/loss.py:445: UserWarning: Using a target size (torch.Size([1, 45])) that is different to the input size (torch.Size([45, 45])). This will likely lead to incorrect results due to broadcasting. Please ensure they have the same size.\n",
      "  return F.mse_loss(input, target, reduction=self.reduction)\n"
     ]
    }
   ],
   "source": [
    "predictbysize = []\n",
    "for size in testdatabysize:\n",
    "    predictbysize.append(predict(model, size))"
   ]
  },
  {
   "cell_type": "code",
   "execution_count": 69,
   "metadata": {},
   "outputs": [],
   "source": [
    "rep0predict = predict(model,rep0testdata)"
   ]
  },
  {
   "cell_type": "code",
   "execution_count": 70,
   "metadata": {},
   "outputs": [],
   "source": [
    "rep1predict = predict(model,rep1testdata)"
   ]
  },
  {
   "cell_type": "code",
   "execution_count": 71,
   "metadata": {},
   "outputs": [],
   "source": [
    "rep2predict = predict(model,rep2testdata)"
   ]
  },
  {
   "cell_type": "code",
   "execution_count": 72,
   "metadata": {},
   "outputs": [],
   "source": [
    "rep3predict = predict(model,rep3testdata)"
   ]
  },
  {
   "cell_type": "code",
   "execution_count": 73,
   "metadata": {},
   "outputs": [],
   "source": [
    "rep4predict = predict(model,rep4testdata)"
   ]
  },
  {
   "cell_type": "code",
   "execution_count": 74,
   "metadata": {},
   "outputs": [],
   "source": [
    "rep5predict = predict(model,rep5testdata)"
   ]
  },
  {
   "cell_type": "code",
   "execution_count": null,
   "metadata": {},
   "outputs": [],
   "source": [
    "rep0predict = predict(model,rep0testdata)\n",
    "rep1predict = predict(model,rep1testdata)\n",
    "rep2predict = predict(model,rep2testdata)\n",
    "rep3predict = predict(model,rep3testdata)\n",
    "print(rep0predict[0].shape)\n",
    "print(predictbysize[1][0])\n",
    "print(len(predictbysize[1][0]))\n",
    "euclidean_distances([rep0predict[0]], [predictbysize[1][0]])"
   ]
  },
  {
   "cell_type": "code",
   "execution_count": 75,
   "metadata": {},
   "outputs": [
    {
     "data": {
      "text/plain": [
       "[array([[1766.4036]], dtype=float32),\n",
       " array([[1766.7454]], dtype=float32),\n",
       " array([[1778.0967]], dtype=float32),\n",
       " array([[1777.8389]], dtype=float32),\n",
       " array([[1766.884]], dtype=float32),\n",
       " array([[1777.29]], dtype=float32),\n",
       " array([[1777.9415]], dtype=float32),\n",
       " array([[1768.3362]], dtype=float32),\n",
       " array([[1776.7852]], dtype=float32),\n",
       " array([[1765.9915]], dtype=float32),\n",
       " array([[12698.965]], dtype=float32),\n",
       " array([[12699.139]], dtype=float32),\n",
       " array([[12716.228]], dtype=float32),\n",
       " array([[12715.962]], dtype=float32),\n",
       " array([[12699.334]], dtype=float32),\n",
       " array([[12715.024]], dtype=float32),\n",
       " array([[12715.499]], dtype=float32),\n",
       " array([[12700.26]], dtype=float32),\n",
       " array([[12714.431]], dtype=float32),\n",
       " array([[12703.464]], dtype=float32),\n",
       " array([[8595.761]], dtype=float32),\n",
       " array([[8595.918]], dtype=float32),\n",
       " array([[8612.236]], dtype=float32),\n",
       " array([[8611.977]], dtype=float32),\n",
       " array([[8596.093]], dtype=float32),\n",
       " array([[8613.585]], dtype=float32),\n",
       " array([[8613.959]], dtype=float32),\n",
       " array([[8596.598]], dtype=float32),\n",
       " array([[8613.066]], dtype=float32),\n",
       " array([[8599.083]], dtype=float32),\n",
       " array([[1639.3041]], dtype=float32),\n",
       " array([[1639.6959]], dtype=float32),\n",
       " array([[1647.3499]], dtype=float32),\n",
       " array([[1647.1035]], dtype=float32),\n",
       " array([[1639.8148]], dtype=float32),\n",
       " array([[1644.5206]], dtype=float32),\n",
       " array([[1645.2109]], dtype=float32),\n",
       " array([[1641.3859]], dtype=float32),\n",
       " array([[1644.0531]], dtype=float32),\n",
       " array([[1637.1117]], dtype=float32),\n",
       " array([[12291.557]], dtype=float32),\n",
       " array([[12291.61]], dtype=float32),\n",
       " array([[12310.251]], dtype=float32),\n",
       " array([[12310.035]], dtype=float32),\n",
       " array([[12291.747]], dtype=float32),\n",
       " array([[12314.8545]], dtype=float32),\n",
       " array([[12314.796]], dtype=float32),\n",
       " array([[12292.1875]], dtype=float32),\n",
       " array([[12314.565]], dtype=float32),\n",
       " array([[12293.654]], dtype=float32),\n",
       " array([[10588.062]], dtype=float32),\n",
       " array([[10588.207]], dtype=float32),\n",
       " array([[10602.194]], dtype=float32),\n",
       " array([[10601.949]], dtype=float32),\n",
       " array([[10588.362]], dtype=float32),\n",
       " array([[10602.829]], dtype=float32),\n",
       " array([[10603.319]], dtype=float32),\n",
       " array([[10588.96]], dtype=float32),\n",
       " array([[10602.352]], dtype=float32),\n",
       " array([[10591.354]], dtype=float32),\n",
       " array([[10977.173]], dtype=float32),\n",
       " array([[10977.345]], dtype=float32),\n",
       " array([[10991.123]], dtype=float32),\n",
       " array([[10990.875]], dtype=float32),\n",
       " array([[10977.493]], dtype=float32),\n",
       " array([[10991.18]], dtype=float32),\n",
       " array([[10991.724]], dtype=float32),\n",
       " array([[10978.34]], dtype=float32),\n",
       " array([[10990.692]], dtype=float32),\n",
       " array([[10979.096]], dtype=float32),\n",
       " array([[1737.1335]], dtype=float32),\n",
       " array([[1737.415]], dtype=float32),\n",
       " array([[1750.9325]], dtype=float32),\n",
       " array([[1750.6714]], dtype=float32),\n",
       " array([[1737.5674]], dtype=float32),\n",
       " array([[1751.2069]], dtype=float32),\n",
       " array([[1751.7609]], dtype=float32),\n",
       " array([[1738.8206]], dtype=float32),\n",
       " array([[1750.6965]], dtype=float32),\n",
       " array([[1738.1368]], dtype=float32),\n",
       " array([[12182.094]], dtype=float32),\n",
       " array([[12182.043]], dtype=float32),\n",
       " array([[12203.457]], dtype=float32),\n",
       " array([[12203.239]], dtype=float32),\n",
       " array([[12182.188]], dtype=float32),\n",
       " array([[12209.738]], dtype=float32),\n",
       " array([[12209.507]], dtype=float32),\n",
       " array([[12181.716]], dtype=float32),\n",
       " array([[12209.388]], dtype=float32),\n",
       " array([[12183.427]], dtype=float32),\n",
       " array([[11944.994]], dtype=float32),\n",
       " array([[11945.147]], dtype=float32),\n",
       " array([[11961.896]], dtype=float32),\n",
       " array([[11961.636]], dtype=float32),\n",
       " array([[11945.333]], dtype=float32),\n",
       " array([[11961.328]], dtype=float32),\n",
       " array([[11961.764]], dtype=float32),\n",
       " array([[11946.094]], dtype=float32),\n",
       " array([[11960.764]], dtype=float32),\n",
       " array([[11949.096]], dtype=float32),\n",
       " array([[10657.926]], dtype=float32),\n",
       " array([[10658.078]], dtype=float32),\n",
       " array([[10672.496]], dtype=float32),\n",
       " array([[10672.245]], dtype=float32),\n",
       " array([[10658.242]], dtype=float32),\n",
       " array([[10673.076]], dtype=float32),\n",
       " array([[10673.573]], dtype=float32),\n",
       " array([[10658.801]], dtype=float32),\n",
       " array([[10672.579]], dtype=float32),\n",
       " array([[10661.554]], dtype=float32),\n",
       " array([[10794.302]], dtype=float32),\n",
       " array([[10794.446]], dtype=float32),\n",
       " array([[10809.191]], dtype=float32),\n",
       " array([[10808.946]], dtype=float32),\n",
       " array([[10794.6045]], dtype=float32),\n",
       " array([[10810.184]], dtype=float32),\n",
       " array([[10810.658]], dtype=float32),\n",
       " array([[10795.297]], dtype=float32),\n",
       " array([[10809.706]], dtype=float32),\n",
       " array([[10797.722]], dtype=float32),\n",
       " array([[10775.065]], dtype=float32),\n",
       " array([[10775.207]], dtype=float32),\n",
       " array([[10790.993]], dtype=float32),\n",
       " array([[10790.739]], dtype=float32),\n",
       " array([[10775.379]], dtype=float32),\n",
       " array([[10792.268]], dtype=float32),\n",
       " array([[10792.665]], dtype=float32),\n",
       " array([[10775.884]], dtype=float32),\n",
       " array([[10791.763]], dtype=float32),\n",
       " array([[10779.004]], dtype=float32),\n",
       " array([[12616.489]], dtype=float32),\n",
       " array([[12616.666]], dtype=float32),\n",
       " array([[12633.63]], dtype=float32),\n",
       " array([[12633.364]], dtype=float32),\n",
       " array([[12616.859]], dtype=float32),\n",
       " array([[12632.536]], dtype=float32),\n",
       " array([[12633.022]], dtype=float32),\n",
       " array([[12617.8]], dtype=float32),\n",
       " array([[12631.942]], dtype=float32),\n",
       " array([[12620.996]], dtype=float32),\n",
       " array([[10870.159]], dtype=float32),\n",
       " array([[10870.318]], dtype=float32),\n",
       " array([[10885.276]], dtype=float32),\n",
       " array([[10885.0205]], dtype=float32),\n",
       " array([[10870.489]], dtype=float32),\n",
       " array([[10885.85]], dtype=float32),\n",
       " array([[10886.348]], dtype=float32),\n",
       " array([[10871.043]], dtype=float32),\n",
       " array([[10885.335]], dtype=float32),\n",
       " array([[10874.107]], dtype=float32)]"
      ]
     },
     "execution_count": 75,
     "metadata": {},
     "output_type": "execute_result"
    }
   ],
   "source": [
    "rep0dist = []\n",
    "for size in predictbysize:\n",
    "    dist = []\n",
    "    for testvec in size:\n",
    "        for repvec in rep0predict[:10]:\n",
    "            dist.append(euclidean_distances([testvec], [repvec]))\n",
    "    rep0dist.append(dist)\n",
    "rep0dist[1]"
   ]
  },
  {
   "cell_type": "code",
   "execution_count": 76,
   "metadata": {},
   "outputs": [
    {
     "data": {
      "text/plain": [
       "[array([[1812.9735]], dtype=float32),\n",
       " array([[1791.8934]], dtype=float32),\n",
       " array([[1793.1322]], dtype=float32),\n",
       " array([[1799.5079]], dtype=float32),\n",
       " array([[1782.6183]], dtype=float32),\n",
       " array([[1799.6517]], dtype=float32),\n",
       " array([[1799.6061]], dtype=float32),\n",
       " array([[1792.9208]], dtype=float32),\n",
       " array([[1805.7905]], dtype=float32),\n",
       " array([[1806.6416]], dtype=float32),\n",
       " array([[12743.734]], dtype=float32),\n",
       " array([[12730.207]], dtype=float32),\n",
       " array([[12731.698]], dtype=float32),\n",
       " array([[12734.867]], dtype=float32),\n",
       " array([[12718.956]], dtype=float32),\n",
       " array([[12735.148]], dtype=float32),\n",
       " array([[12735.068]], dtype=float32),\n",
       " array([[12731.489]], dtype=float32),\n",
       " array([[12740.246]], dtype=float32),\n",
       " array([[12742.948]], dtype=float32),\n",
       " array([[8644.608]], dtype=float32),\n",
       " array([[8627.078]], dtype=float32),\n",
       " array([[8628.057]], dtype=float32),\n",
       " array([[8632.961]], dtype=float32),\n",
       " array([[8617.013]], dtype=float32),\n",
       " array([[8633.195]], dtype=float32),\n",
       " array([[8633.126]], dtype=float32),\n",
       " array([[8627.837]], dtype=float32),\n",
       " array([[8639.019]], dtype=float32),\n",
       " array([[8641.413]], dtype=float32),\n",
       " array([[1677.255]], dtype=float32),\n",
       " array([[1659.23]], dtype=float32),\n",
       " array([[1660.8441]], dtype=float32),\n",
       " array([[1666.123]], dtype=float32),\n",
       " array([[1649.3982]], dtype=float32),\n",
       " array([[1666.3698]], dtype=float32),\n",
       " array([[1666.3018]], dtype=float32),\n",
       " array([[1660.6615]], dtype=float32),\n",
       " array([[1670.6813]], dtype=float32),\n",
       " array([[1671.283]], dtype=float32),\n",
       " array([[12344.474]], dtype=float32),\n",
       " array([[12324.136]], dtype=float32),\n",
       " array([[12324.273]], dtype=float32),\n",
       " array([[12328.994]], dtype=float32),\n",
       " array([[12317.016]], dtype=float32),\n",
       " array([[12329.111]], dtype=float32),\n",
       " array([[12329.07]], dtype=float32),\n",
       " array([[12324.074]], dtype=float32),\n",
       " array([[12337.649]], dtype=float32),\n",
       " array([[12339.566]], dtype=float32),\n",
       " array([[10634.956]], dtype=float32),\n",
       " array([[10615.826]], dtype=float32),\n",
       " array([[10617.341]], dtype=float32),\n",
       " array([[10622.904]], dtype=float32),\n",
       " array([[10606.015]], dtype=float32),\n",
       " array([[10623.136]], dtype=float32),\n",
       " array([[10623.069]], dtype=float32),\n",
       " array([[10617.125]], dtype=float32),\n",
       " array([[10628.12]], dtype=float32),\n",
       " array([[10630.375]], dtype=float32),\n",
       " array([[11024.83]], dtype=float32),\n",
       " array([[11004.747]], dtype=float32),\n",
       " array([[11006.439]], dtype=float32),\n",
       " array([[11012.015]], dtype=float32),\n",
       " array([[10995.009]], dtype=float32),\n",
       " array([[11012.216]], dtype=float32),\n",
       " array([[11012.155]], dtype=float32),\n",
       " array([[11006.221]], dtype=float32),\n",
       " array([[11017.968]], dtype=float32),\n",
       " array([[11019.952]], dtype=float32),\n",
       " array([[1788.0232]], dtype=float32),\n",
       " array([[1765.5189]], dtype=float32),\n",
       " array([[1766.591]], dtype=float32),\n",
       " array([[1773.4834]], dtype=float32),\n",
       " array([[1756.3947]], dtype=float32),\n",
       " array([[1773.5886]], dtype=float32),\n",
       " array([[1773.5509]], dtype=float32),\n",
       " array([[1766.3667]], dtype=float32),\n",
       " array([[1780.4371]], dtype=float32),\n",
       " array([[1781.6129]], dtype=float32),\n",
       " array([[12238.578]], dtype=float32),\n",
       " array([[12219.087]], dtype=float32),\n",
       " array([[12218.426]], dtype=float32),\n",
       " array([[12222.64]], dtype=float32),\n",
       " array([[12211.478]], dtype=float32),\n",
       " array([[12222.721]], dtype=float32),\n",
       " array([[12222.686]], dtype=float32),\n",
       " array([[12218.21]], dtype=float32),\n",
       " array([[12232.793]], dtype=float32),\n",
       " array([[12235.683]], dtype=float32),\n",
       " array([[11991.031]], dtype=float32),\n",
       " array([[11976.]], dtype=float32),\n",
       " array([[11977.426]], dtype=float32),\n",
       " array([[11981.131]], dtype=float32),\n",
       " array([[11964.94]], dtype=float32),\n",
       " array([[11981.4]], dtype=float32),\n",
       " array([[11981.323]], dtype=float32),\n",
       " array([[11977.212]], dtype=float32),\n",
       " array([[11986.694]], dtype=float32),\n",
       " array([[11989.369]], dtype=float32),\n",
       " array([[10704.467]], dtype=float32),\n",
       " array([[10686.468]], dtype=float32),\n",
       " array([[10687.786]], dtype=float32),\n",
       " array([[10693.045]], dtype=float32),\n",
       " array([[10676.335]], dtype=float32),\n",
       " array([[10693.289]], dtype=float32),\n",
       " array([[10693.219]], dtype=float32),\n",
       " array([[10687.57]], dtype=float32),\n",
       " array([[10698.177]], dtype=float32),\n",
       " array([[10700.521]], dtype=float32),\n",
       " array([[10842.505]], dtype=float32),\n",
       " array([[10822.939]], dtype=float32),\n",
       " array([[10824.454]], dtype=float32),\n",
       " array([[10830.077]], dtype=float32),\n",
       " array([[10813.602]], dtype=float32),\n",
       " array([[10830.282]], dtype=float32),\n",
       " array([[10830.221]], dtype=float32),\n",
       " array([[10824.236]], dtype=float32),\n",
       " array([[10835.741]], dtype=float32),\n",
       " array([[10837.929]], dtype=float32),\n",
       " array([[10823.169]], dtype=float32),\n",
       " array([[10805.493]], dtype=float32),\n",
       " array([[10806.577]], dtype=float32),\n",
       " array([[10811.747]], dtype=float32),\n",
       " array([[10795.519]], dtype=float32),\n",
       " array([[10811.983]], dtype=float32),\n",
       " array([[10811.914]], dtype=float32),\n",
       " array([[10806.358]], dtype=float32),\n",
       " array([[10817.266]], dtype=float32),\n",
       " array([[10819.705]], dtype=float32),\n",
       " array([[12661.583]], dtype=float32),\n",
       " array([[12647.558]], dtype=float32),\n",
       " array([[12649.129]], dtype=float32),\n",
       " array([[12652.52]], dtype=float32),\n",
       " array([[12636.564]], dtype=float32),\n",
       " array([[12652.789]], dtype=float32),\n",
       " array([[12652.712]], dtype=float32),\n",
       " array([[12648.918]], dtype=float32),\n",
       " array([[12657.922]], dtype=float32),\n",
       " array([[12660.561]], dtype=float32),\n",
       " array([[10916.496]], dtype=float32),\n",
       " array([[10899.61]], dtype=float32),\n",
       " array([[10900.702]], dtype=float32),\n",
       " array([[10905.669]], dtype=float32),\n",
       " array([[10889.217]], dtype=float32),\n",
       " array([[10905.923]], dtype=float32),\n",
       " array([[10905.851]], dtype=float32),\n",
       " array([[10900.487]], dtype=float32),\n",
       " array([[10910.765]], dtype=float32),\n",
       " array([[10913.202]], dtype=float32)]"
      ]
     },
     "execution_count": 76,
     "metadata": {},
     "output_type": "execute_result"
    }
   ],
   "source": [
    "rep1dist = []\n",
    "for size in predictbysize:\n",
    "    dist = []\n",
    "    for testvec in size:\n",
    "        for repvec in rep1predict[:10]:\n",
    "            dist.append(euclidean_distances([testvec], [repvec]))\n",
    "    rep1dist.append(dist)\n",
    "rep1dist[1]"
   ]
  },
  {
   "cell_type": "code",
   "execution_count": 77,
   "metadata": {},
   "outputs": [
    {
     "data": {
      "text/plain": [
       "[array([[1009.5532]], dtype=float32),\n",
       " array([[1494.4829]], dtype=float32),\n",
       " array([[1293.4066]], dtype=float32),\n",
       " array([[1095.2976]], dtype=float32),\n",
       " array([[809.21875]], dtype=float32),\n",
       " array([[1494.5631]], dtype=float32),\n",
       " array([[1265.8127]], dtype=float32),\n",
       " array([[1454.6154]], dtype=float32),\n",
       " array([[1521.3591]], dtype=float32),\n",
       " array([[1522.8195]], dtype=float32),\n",
       " array([[11815.735]], dtype=float32),\n",
       " array([[11883.239]], dtype=float32),\n",
       " array([[11820.952]], dtype=float32),\n",
       " array([[11821.33]], dtype=float32),\n",
       " array([[11540.611]], dtype=float32),\n",
       " array([[11883.241]], dtype=float32),\n",
       " array([[11850.276]], dtype=float32),\n",
       " array([[11865.565]], dtype=float32),\n",
       " array([[11958.594]], dtype=float32),\n",
       " array([[11958.467]], dtype=float32),\n",
       " array([[7617.9087]], dtype=float32),\n",
       " array([[7811.0513]], dtype=float32),\n",
       " array([[7695.7495]], dtype=float32),\n",
       " array([[7607.9346]], dtype=float32),\n",
       " array([[7473.2354]], dtype=float32),\n",
       " array([[7811.0635]], dtype=float32),\n",
       " array([[7726.8403]], dtype=float32),\n",
       " array([[7778.544]], dtype=float32),\n",
       " array([[7845.345]], dtype=float32),\n",
       " array([[7845.246]], dtype=float32),\n",
       " array([[1032.2721]], dtype=float32),\n",
       " array([[1506.6636]], dtype=float32),\n",
       " array([[1279.4001]], dtype=float32),\n",
       " array([[1086.8154]], dtype=float32),\n",
       " array([[778.9943]], dtype=float32),\n",
       " array([[1506.7404]], dtype=float32),\n",
       " array([[1256.3922]], dtype=float32),\n",
       " array([[1395.8923]], dtype=float32),\n",
       " array([[1539.9728]], dtype=float32),\n",
       " array([[1541.6344]], dtype=float32),\n",
       " array([[11137.212]], dtype=float32),\n",
       " array([[11498.659]], dtype=float32),\n",
       " array([[11382.155]], dtype=float32),\n",
       " array([[11252.615]], dtype=float32),\n",
       " array([[11340.837]], dtype=float32),\n",
       " array([[11498.665]], dtype=float32),\n",
       " array([[11378.77]], dtype=float32),\n",
       " array([[11575.948]], dtype=float32),\n",
       " array([[11472.925]], dtype=float32),\n",
       " array([[11472.359]], dtype=float32),\n",
       " array([[9603.358]], dtype=float32),\n",
       " array([[9851.581]], dtype=float32),\n",
       " array([[9743.046]], dtype=float32),\n",
       " array([[9594.628]], dtype=float32),\n",
       " array([[9474.214]], dtype=float32),\n",
       " array([[9851.595]], dtype=float32),\n",
       " array([[9781.271]], dtype=float32),\n",
       " array([[9780.938]], dtype=float32),\n",
       " array([[9829.724]], dtype=float32),\n",
       " array([[9829.608]], dtype=float32),\n",
       " array([[9966.269]], dtype=float32),\n",
       " array([[10243.216]], dtype=float32),\n",
       " array([[10125.167]], dtype=float32),\n",
       " array([[9966.292]], dtype=float32),\n",
       " array([[9866.988]], dtype=float32),\n",
       " array([[10243.233]], dtype=float32),\n",
       " array([[10156.766]], dtype=float32),\n",
       " array([[10203.277]], dtype=float32),\n",
       " array([[10244.869]], dtype=float32),\n",
       " array([[10244.828]], dtype=float32),\n",
       " array([[936.092]], dtype=float32),\n",
       " array([[1396.8431]], dtype=float32),\n",
       " array([[1207.0594]], dtype=float32),\n",
       " array([[1043.1154]], dtype=float32),\n",
       " array([[731.8443]], dtype=float32),\n",
       " array([[1396.923]], dtype=float32),\n",
       " array([[1181.842]], dtype=float32),\n",
       " array([[1364.7302]], dtype=float32),\n",
       " array([[1414.4241]], dtype=float32),\n",
       " array([[1415.7358]], dtype=float32),\n",
       " array([[11077.634]], dtype=float32),\n",
       " array([[11254.216]], dtype=float32),\n",
       " array([[11151.028]], dtype=float32),\n",
       " array([[11089.55]], dtype=float32),\n",
       " array([[11280.248]], dtype=float32),\n",
       " array([[11254.214]], dtype=float32),\n",
       " array([[11169.048]], dtype=float32),\n",
       " array([[11401.108]], dtype=float32),\n",
       " array([[11356.422]], dtype=float32),\n",
       " array([[11355.797]], dtype=float32),\n",
       " array([[11023.929]], dtype=float32),\n",
       " array([[11130.164]], dtype=float32),\n",
       " array([[11058.239]], dtype=float32),\n",
       " array([[11018.748]], dtype=float32),\n",
       " array([[10790.341]], dtype=float32),\n",
       " array([[11130.169]], dtype=float32),\n",
       " array([[11092.154]], dtype=float32),\n",
       " array([[11097.555]], dtype=float32),\n",
       " array([[11180.066]], dtype=float32),\n",
       " array([[11179.875]], dtype=float32),\n",
       " array([[9688.572]], dtype=float32),\n",
       " array([[9914.244]], dtype=float32),\n",
       " array([[9803.3545]], dtype=float32),\n",
       " array([[9674.978]], dtype=float32),\n",
       " array([[9537.789]], dtype=float32),\n",
       " array([[9914.259]], dtype=float32),\n",
       " array([[9841.586]], dtype=float32),\n",
       " array([[9847.239]], dtype=float32),\n",
       " array([[9909.976]], dtype=float32),\n",
       " array([[9909.903]], dtype=float32),\n",
       " array([[9788.161]], dtype=float32),\n",
       " array([[10045.166]], dtype=float32),\n",
       " array([[9940.286]], dtype=float32),\n",
       " array([[9804.006]], dtype=float32),\n",
       " array([[9680.287]], dtype=float32),\n",
       " array([[10045.179]], dtype=float32),\n",
       " array([[9971.052]], dtype=float32),\n",
       " array([[10005.223]], dtype=float32),\n",
       " array([[10025.764]], dtype=float32),\n",
       " array([[10025.6455]], dtype=float32),\n",
       " array([[9798.256]], dtype=float32),\n",
       " array([[9998.698]], dtype=float32),\n",
       " array([[9900.736]], dtype=float32),\n",
       " array([[9793.613]], dtype=float32),\n",
       " array([[9646.914]], dtype=float32),\n",
       " array([[9998.71]], dtype=float32),\n",
       " array([[9935.514]], dtype=float32),\n",
       " array([[9946.887]], dtype=float32),\n",
       " array([[9994.408]], dtype=float32),\n",
       " array([[9994.165]], dtype=float32),\n",
       " array([[11730.83]], dtype=float32),\n",
       " array([[11805.846]], dtype=float32),\n",
       " array([[11742.437]], dtype=float32),\n",
       " array([[11738.639]], dtype=float32),\n",
       " array([[11458.21]], dtype=float32),\n",
       " array([[11805.85]], dtype=float32),\n",
       " array([[11771.139]], dtype=float32),\n",
       " array([[11790.435]], dtype=float32),\n",
       " array([[11875.6]], dtype=float32),\n",
       " array([[11875.476]], dtype=float32),\n",
       " array([[9909.736]], dtype=float32),\n",
       " array([[10117.248]], dtype=float32),\n",
       " array([[10006.343]], dtype=float32),\n",
       " array([[9899.084]], dtype=float32),\n",
       " array([[9743.179]], dtype=float32),\n",
       " array([[10117.263]], dtype=float32),\n",
       " array([[10042.685]], dtype=float32),\n",
       " array([[10060.057]], dtype=float32),\n",
       " array([[10129.529]], dtype=float32),\n",
       " array([[10129.476]], dtype=float32)]"
      ]
     },
     "execution_count": 77,
     "metadata": {},
     "output_type": "execute_result"
    }
   ],
   "source": [
    "rep2dist = []\n",
    "for size in predictbysize:\n",
    "    dist = []\n",
    "    for testvec in size:\n",
    "        for repvec in rep2predict[:10]:\n",
    "            dist.append(euclidean_distances([testvec], [repvec]))\n",
    "    rep2dist.append(dist)\n",
    "rep2dist[1]"
   ]
  },
  {
   "cell_type": "code",
   "execution_count": 78,
   "metadata": {},
   "outputs": [
    {
     "data": {
      "text/plain": [
       "[array([[11425.39]], dtype=float32),\n",
       " array([[11425.488]], dtype=float32),\n",
       " array([[11549.516]], dtype=float32),\n",
       " array([[11735.84]], dtype=float32),\n",
       " array([[11722.848]], dtype=float32),\n",
       " array([[11956.706]], dtype=float32),\n",
       " array([[11956.706]], dtype=float32),\n",
       " array([[11549.516]], dtype=float32),\n",
       " array([[12034.727]], dtype=float32),\n",
       " array([[11776.515]], dtype=float32),\n",
       " array([[8105.0767]], dtype=float32),\n",
       " array([[8105.1304]], dtype=float32),\n",
       " array([[9094.057]], dtype=float32),\n",
       " array([[9016.333]], dtype=float32),\n",
       " array([[8212.746]], dtype=float32),\n",
       " array([[9266.092]], dtype=float32),\n",
       " array([[9266.092]], dtype=float32),\n",
       " array([[9094.057]], dtype=float32),\n",
       " array([[9854.028]], dtype=float32),\n",
       " array([[9397.505]], dtype=float32),\n",
       " array([[6755.916]], dtype=float32),\n",
       " array([[6756.004]], dtype=float32),\n",
       " array([[7475.574]], dtype=float32),\n",
       " array([[8146.274]], dtype=float32),\n",
       " array([[7820.0317]], dtype=float32),\n",
       " array([[8762.855]], dtype=float32),\n",
       " array([[8762.855]], dtype=float32),\n",
       " array([[7475.574]], dtype=float32),\n",
       " array([[9236.087]], dtype=float32),\n",
       " array([[8459.896]], dtype=float32),\n",
       " array([[11644.304]], dtype=float32),\n",
       " array([[11644.4]], dtype=float32),\n",
       " array([[11731.461]], dtype=float32),\n",
       " array([[11913.388]], dtype=float32),\n",
       " array([[11890.004]], dtype=float32),\n",
       " array([[12074.991]], dtype=float32),\n",
       " array([[12074.991]], dtype=float32),\n",
       " array([[11731.461]], dtype=float32),\n",
       " array([[12247.673]], dtype=float32),\n",
       " array([[11943.734]], dtype=float32),\n",
       " array([[1623.7035]], dtype=float32),\n",
       " array([[1623.7809]], dtype=float32),\n",
       " array([[6655.9253]], dtype=float32),\n",
       " array([[7823.119]], dtype=float32),\n",
       " array([[7993.1475]], dtype=float32),\n",
       " array([[10592.198]], dtype=float32),\n",
       " array([[10592.198]], dtype=float32),\n",
       " array([[6655.9253]], dtype=float32),\n",
       " array([[9521.634]], dtype=float32),\n",
       " array([[9047.014]], dtype=float32),\n",
       " array([[6269.8447]], dtype=float32),\n",
       " array([[6269.911]], dtype=float32),\n",
       " array([[7278.489]], dtype=float32),\n",
       " array([[8983.156]], dtype=float32),\n",
       " array([[8344.235]], dtype=float32),\n",
       " array([[8959.63]], dtype=float32),\n",
       " array([[8959.63]], dtype=float32),\n",
       " array([[7278.489]], dtype=float32),\n",
       " array([[10031.3955]], dtype=float32),\n",
       " array([[9165.223]], dtype=float32),\n",
       " array([[5837.941]], dtype=float32),\n",
       " array([[5838.0107]], dtype=float32),\n",
       " array([[7061.3774]], dtype=float32),\n",
       " array([[8946.841]], dtype=float32),\n",
       " array([[8280.682]], dtype=float32),\n",
       " array([[9444.365]], dtype=float32),\n",
       " array([[9444.365]], dtype=float32),\n",
       " array([[7061.3774]], dtype=float32),\n",
       " array([[10111.61]], dtype=float32),\n",
       " array([[9229.771]], dtype=float32),\n",
       " array([[11401.389]], dtype=float32),\n",
       " array([[11401.486]], dtype=float32),\n",
       " array([[11532.211]], dtype=float32),\n",
       " array([[11681.804]], dtype=float32),\n",
       " array([[11668.439]], dtype=float32),\n",
       " array([[11883.953]], dtype=float32),\n",
       " array([[11883.953]], dtype=float32),\n",
       " array([[11532.211]], dtype=float32),\n",
       " array([[11949.7]], dtype=float32),\n",
       " array([[11720.391]], dtype=float32),\n",
       " array([[3751.852]], dtype=float32),\n",
       " array([[3751.8984]], dtype=float32),\n",
       " array([[5467.8433]], dtype=float32),\n",
       " array([[6172.1294]], dtype=float32),\n",
       " array([[5964.6895]], dtype=float32),\n",
       " array([[9794.656]], dtype=float32),\n",
       " array([[9794.656]], dtype=float32),\n",
       " array([[5467.8433]], dtype=float32),\n",
       " array([[7467.662]], dtype=float32),\n",
       " array([[6976.7734]], dtype=float32),\n",
       " array([[7316.5835]], dtype=float32),\n",
       " array([[7316.6406]], dtype=float32),\n",
       " array([[8228.217]], dtype=float32),\n",
       " array([[8655.078]], dtype=float32),\n",
       " array([[7989.7393]], dtype=float32),\n",
       " array([[8805.385]], dtype=float32),\n",
       " array([[8805.385]], dtype=float32),\n",
       " array([[8228.217]], dtype=float32),\n",
       " array([[9551.421]], dtype=float32),\n",
       " array([[9028.904]], dtype=float32),\n",
       " array([[6464.1895]], dtype=float32),\n",
       " array([[6464.256]], dtype=float32),\n",
       " array([[7390.928]], dtype=float32),\n",
       " array([[8894.677]], dtype=float32),\n",
       " array([[8191.011]], dtype=float32),\n",
       " array([[8938.761]], dtype=float32),\n",
       " array([[8938.761]], dtype=float32),\n",
       " array([[7390.928]], dtype=float32),\n",
       " array([[9983.699]], dtype=float32),\n",
       " array([[9036.744]], dtype=float32),\n",
       " array([[5893.532]], dtype=float32),\n",
       " array([[5893.6035]], dtype=float32),\n",
       " array([[7297.226]], dtype=float32),\n",
       " array([[8839.265]], dtype=float32),\n",
       " array([[8185.9624]], dtype=float32),\n",
       " array([[9221.497]], dtype=float32),\n",
       " array([[9221.497]], dtype=float32),\n",
       " array([[7297.226]], dtype=float32),\n",
       " array([[9905.047]], dtype=float32),\n",
       " array([[9124.348]], dtype=float32),\n",
       " array([[6339.507]], dtype=float32),\n",
       " array([[6339.574]], dtype=float32),\n",
       " array([[7354.3496]], dtype=float32),\n",
       " array([[8534.051]], dtype=float32),\n",
       " array([[8053.5386]], dtype=float32),\n",
       " array([[8736.532]], dtype=float32),\n",
       " array([[8736.532]], dtype=float32),\n",
       " array([[7354.3496]], dtype=float32),\n",
       " array([[9619.1045]], dtype=float32),\n",
       " array([[8837.381]], dtype=float32),\n",
       " array([[8044.587]], dtype=float32),\n",
       " array([[8044.643]], dtype=float32),\n",
       " array([[9068.7705]], dtype=float32),\n",
       " array([[9038.463]], dtype=float32),\n",
       " array([[8230.4375]], dtype=float32),\n",
       " array([[9333.174]], dtype=float32),\n",
       " array([[9333.174]], dtype=float32),\n",
       " array([[9068.7705]], dtype=float32),\n",
       " array([[9881.327]], dtype=float32),\n",
       " array([[9408.153]], dtype=float32),\n",
       " array([[6569.414]], dtype=float32),\n",
       " array([[6569.4795]], dtype=float32),\n",
       " array([[7526.578]], dtype=float32),\n",
       " array([[8838.307]], dtype=float32),\n",
       " array([[8028.8086]], dtype=float32),\n",
       " array([[8992.732]], dtype=float32),\n",
       " array([[8992.732]], dtype=float32),\n",
       " array([[7526.578]], dtype=float32),\n",
       " array([[9948.874]], dtype=float32),\n",
       " array([[8949.005]], dtype=float32)]"
      ]
     },
     "execution_count": 78,
     "metadata": {},
     "output_type": "execute_result"
    }
   ],
   "source": [
    "rep3dist = []\n",
    "for size in predictbysize:\n",
    "    dist = []\n",
    "    for testvec in size:\n",
    "        for repvec in rep3predict[:10]:\n",
    "            dist.append(euclidean_distances([testvec], [repvec]))\n",
    "    rep3dist.append(dist)\n",
    "rep3dist[1]"
   ]
  },
  {
   "cell_type": "code",
   "execution_count": 79,
   "metadata": {},
   "outputs": [
    {
     "data": {
      "text/plain": [
       "[array([[1381.3137]], dtype=float32),\n",
       " array([[1381.079]], dtype=float32),\n",
       " array([[1136.0881]], dtype=float32),\n",
       " array([[1452.7268]], dtype=float32),\n",
       " array([[1136.0887]], dtype=float32),\n",
       " array([[1391.5562]], dtype=float32),\n",
       " array([[1381.0795]], dtype=float32),\n",
       " array([[1381.079]], dtype=float32),\n",
       " array([[1391.6752]], dtype=float32),\n",
       " array([[1276.7393]], dtype=float32),\n",
       " array([[12119.284]], dtype=float32),\n",
       " array([[12119.308]], dtype=float32),\n",
       " array([[12031.063]], dtype=float32),\n",
       " array([[12169.666]], dtype=float32),\n",
       " array([[12031.064]], dtype=float32),\n",
       " array([[12066.298]], dtype=float32),\n",
       " array([[12119.309]], dtype=float32),\n",
       " array([[12119.307]], dtype=float32),\n",
       " array([[12066.023]], dtype=float32),\n",
       " array([[12036.426]], dtype=float32),\n",
       " array([[7974.1875]], dtype=float32),\n",
       " array([[7974.271]], dtype=float32),\n",
       " array([[7868.633]], dtype=float32),\n",
       " array([[8039.273]], dtype=float32),\n",
       " array([[7868.6343]], dtype=float32),\n",
       " array([[7957.151]], dtype=float32),\n",
       " array([[7974.271]], dtype=float32),\n",
       " array([[7974.2695]], dtype=float32),\n",
       " array([[7956.836]], dtype=float32),\n",
       " array([[7939.7534]], dtype=float32),\n",
       " array([[1314.2335]], dtype=float32),\n",
       " array([[1313.8856]], dtype=float32),\n",
       " array([[1074.0162]], dtype=float32),\n",
       " array([[1469.0237]], dtype=float32),\n",
       " array([[1074.0162]], dtype=float32),\n",
       " array([[1340.6212]], dtype=float32),\n",
       " array([[1313.8861]], dtype=float32),\n",
       " array([[1313.886]], dtype=float32),\n",
       " array([[1340.8401]], dtype=float32),\n",
       " array([[1268.4576]], dtype=float32),\n",
       " array([[11685.932]], dtype=float32),\n",
       " array([[11686.145]], dtype=float32),\n",
       " array([[11625.36]], dtype=float32),\n",
       " array([[11637.177]], dtype=float32),\n",
       " array([[11625.362]], dtype=float32),\n",
       " array([[11650.914]], dtype=float32),\n",
       " array([[11686.145]], dtype=float32),\n",
       " array([[11686.143]], dtype=float32),\n",
       " array([[11650.412]], dtype=float32),\n",
       " array([[11619.242]], dtype=float32),\n",
       " array([[9964.594]], dtype=float32),\n",
       " array([[9964.635]], dtype=float32),\n",
       " array([[9881.968]], dtype=float32),\n",
       " array([[10048.129]], dtype=float32),\n",
       " array([[9881.969]], dtype=float32),\n",
       " array([[9957.57]], dtype=float32),\n",
       " array([[9964.635]], dtype=float32),\n",
       " array([[9964.634]], dtype=float32),\n",
       " array([[9957.253]], dtype=float32),\n",
       " array([[9951.367]], dtype=float32),\n",
       " array([[10355.323]], dtype=float32),\n",
       " array([[10355.394]], dtype=float32),\n",
       " array([[10270.783]], dtype=float32),\n",
       " array([[10432.745]], dtype=float32),\n",
       " array([[10270.785]], dtype=float32),\n",
       " array([[10352.709]], dtype=float32),\n",
       " array([[10355.394]], dtype=float32),\n",
       " array([[10355.393]], dtype=float32),\n",
       " array([[10352.395]], dtype=float32),\n",
       " array([[10323.451]], dtype=float32),\n",
       " array([[1335.3068]], dtype=float32),\n",
       " array([[1335.0933]], dtype=float32),\n",
       " array([[1102.1302]], dtype=float32),\n",
       " array([[1386.8439]], dtype=float32),\n",
       " array([[1102.1311]], dtype=float32),\n",
       " array([[1341.425]], dtype=float32),\n",
       " array([[1335.0936]], dtype=float32),\n",
       " array([[1335.0929]], dtype=float32),\n",
       " array([[1341.5172]], dtype=float32),\n",
       " array([[1208.8534]], dtype=float32),\n",
       " array([[11510.899]], dtype=float32),\n",
       " array([[11511.326]], dtype=float32),\n",
       " array([[11498.459]], dtype=float32),\n",
       " array([[11532.986]], dtype=float32),\n",
       " array([[11498.462]], dtype=float32),\n",
       " array([[11534.199]], dtype=float32),\n",
       " array([[11511.326]], dtype=float32),\n",
       " array([[11511.324]], dtype=float32),\n",
       " array([[11533.703]], dtype=float32),\n",
       " array([[11491.481]], dtype=float32),\n",
       " array([[11342.049]], dtype=float32),\n",
       " array([[11342.085]], dtype=float32),\n",
       " array([[11262.354]], dtype=float32),\n",
       " array([[11397.419]], dtype=float32),\n",
       " array([[11262.355]], dtype=float32),\n",
       " array([[11297.385]], dtype=float32),\n",
       " array([[11342.086]], dtype=float32),\n",
       " array([[11342.084]], dtype=float32),\n",
       " array([[11297.081]], dtype=float32),\n",
       " array([[11281.148]], dtype=float32),\n",
       " array([[10040.6455]], dtype=float32),\n",
       " array([[10040.696]], dtype=float32),\n",
       " array([[9943.144]], dtype=float32),\n",
       " array([[10120.001]], dtype=float32),\n",
       " array([[9943.1455]], dtype=float32),\n",
       " array([[10029.538]], dtype=float32),\n",
       " array([[10040.696]], dtype=float32),\n",
       " array([[10040.694]], dtype=float32),\n",
       " array([[10029.234]], dtype=float32),\n",
       " array([[10017.294]], dtype=float32),\n",
       " array([[10178.276]], dtype=float32),\n",
       " array([[10178.337]], dtype=float32),\n",
       " array([[10089.24]], dtype=float32),\n",
       " array([[10240.267]], dtype=float32),\n",
       " array([[10089.241]], dtype=float32),\n",
       " array([[10162.799]], dtype=float32),\n",
       " array([[10178.337]], dtype=float32),\n",
       " array([[10178.336]], dtype=float32),\n",
       " array([[10162.47]], dtype=float32),\n",
       " array([[10142.398]], dtype=float32),\n",
       " array([[10158.431]], dtype=float32),\n",
       " array([[10158.472]], dtype=float32),\n",
       " array([[10066.909]], dtype=float32),\n",
       " array([[10206.4375]], dtype=float32),\n",
       " array([[10066.91]], dtype=float32),\n",
       " array([[10125.0625]], dtype=float32),\n",
       " array([[10158.472]], dtype=float32),\n",
       " array([[10158.471]], dtype=float32),\n",
       " array([[10124.728]], dtype=float32),\n",
       " array([[10125.405]], dtype=float32),\n",
       " array([[12039.008]], dtype=float32),\n",
       " array([[12039.031]], dtype=float32),\n",
       " array([[11947.507]], dtype=float32),\n",
       " array([[12087.282]], dtype=float32),\n",
       " array([[11947.507]], dtype=float32),\n",
       " array([[11987.203]], dtype=float32),\n",
       " array([[12039.031]], dtype=float32),\n",
       " array([[12039.029]], dtype=float32),\n",
       " array([[11986.932]], dtype=float32),\n",
       " array([[11954.474]], dtype=float32),\n",
       " array([[10261.699]], dtype=float32),\n",
       " array([[10261.753]], dtype=float32),\n",
       " array([[10153.157]], dtype=float32),\n",
       " array([[10330.873]], dtype=float32),\n",
       " array([[10153.159]], dtype=float32),\n",
       " array([[10242.013]], dtype=float32),\n",
       " array([[10261.753]], dtype=float32),\n",
       " array([[10261.752]], dtype=float32),\n",
       " array([[10241.718]], dtype=float32),\n",
       " array([[10223.93]], dtype=float32)]"
      ]
     },
     "execution_count": 79,
     "metadata": {},
     "output_type": "execute_result"
    }
   ],
   "source": [
    "rep4dist = []\n",
    "for size in predictbysize:\n",
    "    dist = []\n",
    "    for testvec in size:\n",
    "        for repvec in rep4predict[:10]:\n",
    "            dist.append(euclidean_distances([testvec], [repvec]))\n",
    "    rep4dist.append(dist)\n",
    "rep4dist[1]"
   ]
  },
  {
   "cell_type": "code",
   "execution_count": 80,
   "metadata": {},
   "outputs": [
    {
     "data": {
      "text/plain": [
       "[array([[8890.862]], dtype=float32),\n",
       " array([[9247.199]], dtype=float32),\n",
       " array([[9129.303]], dtype=float32),\n",
       " array([[9357.123]], dtype=float32),\n",
       " array([[9357.122]], dtype=float32),\n",
       " array([[8890.862]], dtype=float32),\n",
       " array([[9121.328]], dtype=float32),\n",
       " array([[9357.122]], dtype=float32),\n",
       " array([[9366.5625]], dtype=float32),\n",
       " array([[9357.122]], dtype=float32),\n",
       " array([[7939.882]], dtype=float32),\n",
       " array([[8849.907]], dtype=float32),\n",
       " array([[8235.791]], dtype=float32),\n",
       " array([[10271.674]], dtype=float32),\n",
       " array([[10271.675]], dtype=float32),\n",
       " array([[7939.882]], dtype=float32),\n",
       " array([[7689.071]], dtype=float32),\n",
       " array([[10271.676]], dtype=float32),\n",
       " array([[9242.18]], dtype=float32),\n",
       " array([[10271.675]], dtype=float32),\n",
       " array([[5223.2466]], dtype=float32),\n",
       " array([[6993.544]], dtype=float32),\n",
       " array([[6417.7754]], dtype=float32),\n",
       " array([[7503.306]], dtype=float32),\n",
       " array([[7503.3066]], dtype=float32),\n",
       " array([[5223.2466]], dtype=float32),\n",
       " array([[6321.7544]], dtype=float32),\n",
       " array([[7503.307]], dtype=float32),\n",
       " array([[7378.05]], dtype=float32),\n",
       " array([[7503.3066]], dtype=float32),\n",
       " array([[9058.871]], dtype=float32),\n",
       " array([[9408.576]], dtype=float32),\n",
       " array([[9297.416]], dtype=float32),\n",
       " array([[9512.728]], dtype=float32),\n",
       " array([[9512.728]], dtype=float32),\n",
       " array([[9058.871]], dtype=float32),\n",
       " array([[9378.149]], dtype=float32),\n",
       " array([[9512.728]], dtype=float32),\n",
       " array([[9559.371]], dtype=float32),\n",
       " array([[9512.728]], dtype=float32),\n",
       " array([[7487.7266]], dtype=float32),\n",
       " array([[8339.145]], dtype=float32),\n",
       " array([[7570.0854]], dtype=float32),\n",
       " array([[8884.067]], dtype=float32),\n",
       " array([[8884.067]], dtype=float32),\n",
       " array([[7487.7266]], dtype=float32),\n",
       " array([[7054.8315]], dtype=float32),\n",
       " array([[8884.067]], dtype=float32),\n",
       " array([[9538.307]], dtype=float32),\n",
       " array([[8884.067]], dtype=float32),\n",
       " array([[6031.368]], dtype=float32),\n",
       " array([[7770.76]], dtype=float32),\n",
       " array([[7171.91]], dtype=float32),\n",
       " array([[8139.922]], dtype=float32),\n",
       " array([[8139.9224]], dtype=float32),\n",
       " array([[6031.368]], dtype=float32),\n",
       " array([[7080.4165]], dtype=float32),\n",
       " array([[8139.9233]], dtype=float32),\n",
       " array([[8235.242]], dtype=float32),\n",
       " array([[8139.923]], dtype=float32),\n",
       " array([[6219.999]], dtype=float32),\n",
       " array([[8026.306]], dtype=float32),\n",
       " array([[7399.509]], dtype=float32),\n",
       " array([[8425.821]], dtype=float32),\n",
       " array([[8425.821]], dtype=float32),\n",
       " array([[6219.999]], dtype=float32),\n",
       " array([[7028.193]], dtype=float32),\n",
       " array([[8425.823]], dtype=float32),\n",
       " array([[8454.506]], dtype=float32),\n",
       " array([[8425.822]], dtype=float32),\n",
       " array([[8898.104]], dtype=float32),\n",
       " array([[9209.81]], dtype=float32),\n",
       " array([[9094.566]], dtype=float32),\n",
       " array([[9323.402]], dtype=float32),\n",
       " array([[9323.402]], dtype=float32),\n",
       " array([[8898.104]], dtype=float32),\n",
       " array([[9053.11]], dtype=float32),\n",
       " array([[9323.401]], dtype=float32),\n",
       " array([[9302.055]], dtype=float32),\n",
       " array([[9323.401]], dtype=float32),\n",
       " array([[6825.111]], dtype=float32),\n",
       " array([[8058.1255]], dtype=float32),\n",
       " array([[7413.7334]], dtype=float32),\n",
       " array([[7762.7017]], dtype=float32),\n",
       " array([[7762.7017]], dtype=float32),\n",
       " array([[6825.111]], dtype=float32),\n",
       " array([[6850.0083]], dtype=float32),\n",
       " array([[7762.7026]], dtype=float32),\n",
       " array([[8281.04]], dtype=float32),\n",
       " array([[7762.702]], dtype=float32),\n",
       " array([[7198.013]], dtype=float32),\n",
       " array([[8165.114]], dtype=float32),\n",
       " array([[7597.6494]], dtype=float32),\n",
       " array([[9372.274]], dtype=float32),\n",
       " array([[9372.274]], dtype=float32),\n",
       " array([[7198.013]], dtype=float32),\n",
       " array([[7206.4375]], dtype=float32),\n",
       " array([[9372.275]], dtype=float32),\n",
       " array([[8633.672]], dtype=float32),\n",
       " array([[9372.274]], dtype=float32),\n",
       " array([[5859.2534]], dtype=float32),\n",
       " array([[7845.881]], dtype=float32),\n",
       " array([[7176.2417]], dtype=float32),\n",
       " array([[8287.202]], dtype=float32),\n",
       " array([[8287.203]], dtype=float32),\n",
       " array([[5859.2534]], dtype=float32),\n",
       " array([[7061.506]], dtype=float32),\n",
       " array([[8287.204]], dtype=float32),\n",
       " array([[8151.731]], dtype=float32),\n",
       " array([[8287.203]], dtype=float32),\n",
       " array([[6157.7705]], dtype=float32),\n",
       " array([[7841.071]], dtype=float32),\n",
       " array([[7156.7974]], dtype=float32),\n",
       " array([[8336.82]], dtype=float32),\n",
       " array([[8336.82]], dtype=float32),\n",
       " array([[6157.7705]], dtype=float32),\n",
       " array([[6905.658]], dtype=float32),\n",
       " array([[8336.821]], dtype=float32),\n",
       " array([[8369.755]], dtype=float32),\n",
       " array([[8336.821]], dtype=float32),\n",
       " array([[6062.1025]], dtype=float32),\n",
       " array([[7549.848]], dtype=float32),\n",
       " array([[6946.209]], dtype=float32),\n",
       " array([[8313.541]], dtype=float32),\n",
       " array([[8313.542]], dtype=float32),\n",
       " array([[6062.1025]], dtype=float32),\n",
       " array([[6900.9595]], dtype=float32),\n",
       " array([[8313.543]], dtype=float32),\n",
       " array([[8107.225]], dtype=float32),\n",
       " array([[8313.542]], dtype=float32),\n",
       " array([[7870.998]], dtype=float32),\n",
       " array([[8853.658]], dtype=float32),\n",
       " array([[8221.972]], dtype=float32),\n",
       " array([[10238.965]], dtype=float32),\n",
       " array([[10238.965]], dtype=float32),\n",
       " array([[7870.998]], dtype=float32),\n",
       " array([[7667.6963]], dtype=float32),\n",
       " array([[10238.966]], dtype=float32),\n",
       " array([[9228.995]], dtype=float32),\n",
       " array([[10238.965]], dtype=float32),\n",
       " array([[5891.617]], dtype=float32),\n",
       " array([[7956.4727]], dtype=float32),\n",
       " array([[7202.8794]], dtype=float32),\n",
       " array([[8558.601]], dtype=float32),\n",
       " array([[8558.601]], dtype=float32),\n",
       " array([[5891.617]], dtype=float32),\n",
       " array([[7061.23]], dtype=float32),\n",
       " array([[8558.602]], dtype=float32),\n",
       " array([[8167.468]], dtype=float32),\n",
       " array([[8558.602]], dtype=float32)]"
      ]
     },
     "execution_count": 80,
     "metadata": {},
     "output_type": "execute_result"
    }
   ],
   "source": [
    "rep5dist = []\n",
    "for size in predictbysize:\n",
    "    dist = []\n",
    "    for testvec in size:\n",
    "        for repvec in rep5predict[:10]:\n",
    "            dist.append(euclidean_distances([testvec], [repvec]))\n",
    "    rep5dist.append(dist)\n",
    "rep5dist[1]"
   ]
  },
  {
   "cell_type": "code",
   "execution_count": 81,
   "metadata": {},
   "outputs": [],
   "source": [
    "rep0flatten = []\n",
    "rep1flatten = []\n",
    "rep2flatten = []\n",
    "rep3flatten = []\n",
    "rep4flatten = []\n",
    "rep5flatten = []\n",
    "\n",
    "for size in rep0dist:\n",
    "    distbysize = [] \n",
    "    for dist in size:\n",
    "        distbysize.extend(dist[0])\n",
    "    rep0flatten.append(distbysize)\n",
    "    \n",
    "for size in rep1dist:\n",
    "    distbysize = [] \n",
    "    for dist in size:\n",
    "        distbysize.extend(dist[0])\n",
    "    rep1flatten.append(distbysize)\n",
    "    \n",
    "for size in rep2dist:\n",
    "    distbysize = [] \n",
    "    for dist in size:\n",
    "        distbysize.extend(dist[0])\n",
    "    rep2flatten.append(distbysize)\n",
    "    \n",
    "for size in rep3dist:\n",
    "    distbysize = [] \n",
    "    for dist in size:\n",
    "        distbysize.extend(dist[0])\n",
    "    rep3flatten.append(distbysize)\n",
    "    \n",
    "for size in rep4dist:\n",
    "    distbysize = [] \n",
    "    for dist in size:\n",
    "        distbysize.extend(dist[0])\n",
    "    rep4flatten.append(distbysize)\n",
    "    \n",
    "for size in rep5dist:\n",
    "    distbysize = [] \n",
    "    for dist in size:\n",
    "        distbysize.extend(dist[0])\n",
    "    rep5flatten.append(distbysize)"
   ]
  },
  {
   "cell_type": "code",
   "execution_count": 82,
   "metadata": {},
   "outputs": [
    {
     "data": {
      "text/plain": [
       "[267.00317,\n",
       " 267.42548,\n",
       " 252.51054,\n",
       " 252.68445,\n",
       " 267.3602,\n",
       " 219.4108,\n",
       " 218.67274,\n",
       " 269.40265,\n",
       " 219.94702,\n",
       " 255.38817,\n",
       " 334.865,\n",
       " 335.2289,\n",
       " 323.06567,\n",
       " 323.2124,\n",
       " 335.1798,\n",
       " 294.0025,\n",
       " 293.34686,\n",
       " 337.00583,\n",
       " 294.40588,\n",
       " 324.6316,\n",
       " 332.70126,\n",
       " 333.06552,\n",
       " 320.70734,\n",
       " 320.85675,\n",
       " 333.01517,\n",
       " 291.6632,\n",
       " 290.988,\n",
       " 334.80362,\n",
       " 292.07846,\n",
       " 322.46216,\n",
       " 118.83159,\n",
       " 119.316925,\n",
       " 104.39714,\n",
       " 104.59255,\n",
       " 119.23345,\n",
       " 62.97867,\n",
       " 61.565952,\n",
       " 121.936,\n",
       " 63.82047,\n",
       " 106.34931,\n",
       " 144.43875,\n",
       " 144.89592,\n",
       " 128.93585,\n",
       " 129.14827,\n",
       " 144.81142,\n",
       " 90.80846,\n",
       " 89.57085,\n",
       " 147.14047,\n",
       " 91.60954,\n",
       " 132.66772,\n",
       " 175.35674,\n",
       " 175.81258,\n",
       " 160.32693,\n",
       " 160.52007,\n",
       " 175.73712,\n",
       " 122.852135,\n",
       " 121.85365,\n",
       " 178.1045,\n",
       " 123.527954,\n",
       " 162.93288,\n",
       " 175.99712,\n",
       " 176.44504,\n",
       " 160.68112,\n",
       " 160.88191,\n",
       " 176.36801,\n",
       " 124.95668,\n",
       " 123.913956,\n",
       " 178.53992,\n",
       " 125.65265,\n",
       " 164.44972,\n",
       " 143.48605,\n",
       " 143.96649,\n",
       " 128.88817,\n",
       " 129.0828,\n",
       " 143.89197,\n",
       " 88.47733,\n",
       " 87.29451,\n",
       " 146.35475,\n",
       " 89.25205,\n",
       " 131.23296]"
      ]
     },
     "execution_count": 82,
     "metadata": {},
     "output_type": "execute_result"
    }
   ],
   "source": [
    "rep0flatten[12]"
   ]
  },
  {
   "cell_type": "code",
   "execution_count": 84,
   "metadata": {},
   "outputs": [
    {
     "name": "stdout",
     "output_type": "stream",
     "text": [
      "[9350.609099934896, 1550.2758883158365, 1058.0068069045608, 560.031493100253, 293.9724005005576, 341.94621939886184, 85.79736250800056, 385.8061749903361, 251.34376049041748, 167.6277414560318, 276.05590875799004, 193.01222801208496]\n",
      "[9377.303352050782, 1575.1238619486492, 1082.9736649796769, 579.7783428538929, 307.8201834938743, 321.9715767633347, 99.90895029531943, 360.030547320048, 212.93711718645963, 127.85658091306686, 223.71140726262874, 132.08589651584626]\n",
      "[8556.110623779297, 1248.1552417755126, 794.3839776941248, 973.9610473632813, 1118.9230092135342, 1192.8241912841797, 1172.7078603383657, 1128.3531486002605, 1225.6528234308416, 1217.7025382995605, 1264.5491122159092, 1246.507794189453]\n",
      "[8793.86685546875, 11893.35122680664, 12076.235692039696, 12538.997414328835, 12790.030690696023, 12846.819966052828, 12878.406698690878, 12759.7815625, 12906.714781605113, 12916.249145507812, 12945.970720880681, 12938.061767578125]\n",
      "[8752.185812988282, 1166.3267491658528, 707.0306766819309, 714.7050722989169, 835.599553749778, 896.4594086419968, 875.0734587798247, 820.3773445129394, 908.7633911132813, 908.5294185638428, 939.7103243741122, 926.0621215820313]\n",
      "[8152.841516927083, 9298.879064941406, 9540.6552734375, 9962.46328125, 10202.02852894176, 10250.611655970983, 10282.243195734798, 10154.051412760416, 10298.02803622159, 10311.747668457032, 10334.604820667613, 10331.223754882812]\n"
     ]
    }
   ],
   "source": [
    "rep0avg = []\n",
    "rep1avg = []\n",
    "rep2avg = []\n",
    "rep3avg = []\n",
    "rep4avg = []\n",
    "rep5avg = []\n",
    "\n",
    "for size in range(1,13):\n",
    "    rep0avg.append(sum(rep0flatten[size])/len(rep0flatten[size]))\n",
    "    rep1avg.append(sum(rep1flatten[size])/len(rep1flatten[size]))\n",
    "    rep2avg.append(sum(rep2flatten[size])/len(rep2flatten[size]))\n",
    "    rep3avg.append(sum(rep3flatten[size])/len(rep3flatten[size]))\n",
    "    rep4avg.append(sum(rep4flatten[size])/len(rep4flatten[size]))\n",
    "    rep5avg.append(sum(rep5flatten[size])/len(rep5flatten[size]))\n",
    "\n",
    "print(rep0avg)\n",
    "print(rep1avg)\n",
    "print(rep2avg)\n",
    "print(rep3avg)\n",
    "print(rep4avg)\n",
    "print(rep5avg)"
   ]
  },
  {
   "cell_type": "code",
   "execution_count": 85,
   "metadata": {},
   "outputs": [
    {
     "name": "stdout",
     "output_type": "stream",
     "text": [
      "[10829.359, 1083.1302, 1078.5424, 514.1001, 269.12036, 288.9539, 70.21236, 326.44498, 235.46394, 143.45284, 268.30444, 181.70451, 50.735535, 31.105202]\n",
      "[10856.379, 1110.4565, 1104.3491, 534.32275, 281.86456, 260.8845, 85.74444, 293.9866, 188.97366, 92.687645, 210.71219, 118.45746, 48.810974, 98.91787]\n",
      "[9945.075, 853.56573, 828.22974, 996.314, 1135.8556, 1244.9049, 1176.6528, 1176.097, 1241.1903, 1230.5809, 1268.5068, 1242.1681, 1196.454, 1170.8947]\n",
      "[8756.049, 12042.776, 12073.7295, 12573.121, 12824.898, 12928.861, 12888.099, 12843.921, 12939.593, 12938.272, 12957.788, 12939.62, 12913.065, 12893.243]\n",
      "[10181.938, 727.461, 710.04724, 714.58014, 847.98175, 925.9712, 876.3906, 873.85767, 921.8503, 919.4079, 945.001, 928.11993, 895.68115, 879.68]\n",
      "[8228.631, 9505.703, 9524.88, 9987.915, 10238.022, 10326.937, 10289.627, 10239.076, 10330.222, 10333.3955, 10354.581, 10337.301, 10307.76, 10289.12]\n"
     ]
    }
   ],
   "source": [
    "\n",
    "rep0trimavg = []\n",
    "rep1trimavg = []\n",
    "rep2trimavg = []\n",
    "rep3trimavg = []\n",
    "rep4trimavg = []\n",
    "rep5trimavg = []\n",
    "\n",
    "for size in range(1, len(rep0flatten)):\n",
    "    rep0trimavg.append(stats.trim_mean(rep0flatten[size], 0.2))\n",
    "    rep1trimavg.append(stats.trim_mean(rep1flatten[size], 0.2))\n",
    "    rep2trimavg.append(stats.trim_mean(rep2flatten[size], 0.2))\n",
    "    rep3trimavg.append(stats.trim_mean(rep3flatten[size], 0.2))\n",
    "    rep4trimavg.append(stats.trim_mean(rep4flatten[size], 0.2))\n",
    "    rep5trimavg.append(stats.trim_mean(rep5flatten[size], 0.2))\n",
    "\n",
    "print(rep0trimavg)\n",
    "print(rep1trimavg)\n",
    "print(rep2trimavg)\n",
    "print(rep3trimavg)\n",
    "print(rep4trimavg)\n",
    "print(rep5trimavg)"
   ]
  },
  {
   "cell_type": "code",
   "execution_count": null,
   "metadata": {},
   "outputs": [],
   "source": []
  },
  {
   "cell_type": "code",
   "execution_count": null,
   "metadata": {},
   "outputs": [],
   "source": []
  },
  {
   "cell_type": "code",
   "execution_count": null,
   "metadata": {},
   "outputs": [],
   "source": []
  },
  {
   "cell_type": "code",
   "execution_count": null,
   "metadata": {},
   "outputs": [],
   "source": [
    "tips = sns.load_dataset('tips')\n",
    "print(tips.shape)\n",
    "print(tips.head)\n"
   ]
  },
  {
   "cell_type": "code",
   "execution_count": null,
   "metadata": {},
   "outputs": [],
   "source": []
  },
  {
   "cell_type": "code",
   "execution_count": null,
   "metadata": {
    "scrolled": true
   },
   "outputs": [],
   "source": []
  },
  {
   "cell_type": "code",
   "execution_count": null,
   "metadata": {},
   "outputs": [],
   "source": []
  },
  {
   "cell_type": "code",
   "execution_count": null,
   "metadata": {},
   "outputs": [],
   "source": [
    "\n"
   ]
  },
  {
   "cell_type": "code",
   "execution_count": 263,
   "metadata": {},
   "outputs": [
    {
     "ename": "IndentationError",
     "evalue": "unexpected indent (<ipython-input-263-7426b1d0bda2>, line 17)",
     "output_type": "error",
     "traceback": [
      "\u001b[0;36m  File \u001b[0;32m\"<ipython-input-263-7426b1d0bda2>\"\u001b[0;36m, line \u001b[0;32m17\u001b[0m\n\u001b[0;31m    all_names.append(file.split('\\\\')[-1].replace('.txt', ''))\u001b[0m\n\u001b[0m    ^\u001b[0m\n\u001b[0;31mIndentationError\u001b[0m\u001b[0;31m:\u001b[0m unexpected indent\n"
     ]
    }
   ],
   "source": [
    "# -*- coding: utf-8 -*-\n",
    "\"\"\"\n",
    "Created on Sun Nov 15 14:48:46 2020\n",
    "\n",
    "@author: sookmyung\n",
    "\"\"\"\n",
    "import os \n",
    "import random\n",
    "from pathlib import Path\n",
    "import glob\n",
    "\n",
    "path = str(Path(__file__).parent.parent) \n",
    "files = glob.glob(path +  '\\\\datasets\\\\estimate_size\\\\test\\\\*') \n",
    "all_names = []\n",
    "\n",
    "for file in files:aa\n",
    "    all_names.append(file.split('\\\\')[-1].replace('.txt', ''))\n",
    "\n",
    "namesbysize = []\n",
    "for _ in range(15):\n",
    "    line = []\n",
    "    namesbysize.append(line)\n",
    "    \n",
    "\n",
    "for names in all_names:\n",
    "    namesbysize[int(names[:names.find('test')])].append(names)\n",
    "    \n",
    "predicts = []\n",
    "for _ in range(15):\n",
    "    line = []\n",
    "    predicts.append(line)\n",
    "\n",
    "precision = []    \n",
    "for ind, name in enumerate(namesbysize):\n",
    "    precision.extend(len(predicts[ind])/len(namesbysize))\n",
    "    \n",
    "print('Best size in test case: ', max(precision) )"
   ]
  },
  {
   "cell_type": "code",
   "execution_count": null,
   "metadata": {},
   "outputs": [],
   "source": []
  },
  {
   "cell_type": "code",
   "execution_count": null,
   "metadata": {},
   "outputs": [],
   "source": []
  },
  {
   "cell_type": "code",
   "execution_count": null,
   "metadata": {},
   "outputs": [],
   "source": [
    "model = torch.load(model_path)  "
   ]
  },
  {
   "cell_type": "code",
   "execution_count": null,
   "metadata": {},
   "outputs": [],
   "source": []
  }
 ],
 "metadata": {
  "kernelspec": {
   "display_name": "Python 3",
   "language": "python",
   "name": "python3"
  },
  "language_info": {
   "codemirror_mode": {
    "name": "ipython",
    "version": 3
   },
   "file_extension": ".py",
   "mimetype": "text/x-python",
   "name": "python",
   "nbconvert_exporter": "python",
   "pygments_lexer": "ipython3",
   "version": "3.8.5"
  }
 },
 "nbformat": 4,
 "nbformat_minor": 4
}
