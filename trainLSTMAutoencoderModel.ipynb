{
 "cells": [
  {
   "cell_type": "code",
   "execution_count": 380,
   "metadata": {},
   "outputs": [],
   "source": [
    "import torch\n",
    "import copy\n",
    "\n",
    "import seaborn as sns\n",
    "from pylab import rcParams\n",
    "import matplotlib.pyplot as plt\n",
    "from matplotlib import rc\n",
    "\n",
    "import numpy as np\n",
    "import glob, os\n",
    "import string\n",
    "from sklearn.model_selection import train_test_split\n",
    "from sklearn.metrics import f1_score, precision_score, recall_score, confusion_matrix\n",
    "from sklearn.metrics import precision_recall_fscore_support\n",
    "\n",
    "from torch import nn, optim\n",
    "\n",
    "import torch.nn.functional as F"
   ]
  },
  {
   "cell_type": "code",
   "execution_count": 381,
   "metadata": {},
   "outputs": [
    {
     "data": {
      "text/plain": [
       "'1.6.0'"
      ]
     },
     "execution_count": 381,
     "metadata": {},
     "output_type": "execute_result"
    }
   ],
   "source": [
    "torch.__version__"
   ]
  },
  {
   "cell_type": "code",
   "execution_count": 383,
   "metadata": {},
   "outputs": [
    {
     "data": {
      "text/plain": [
       "'/home/yujeong/Frequent-Subgraph-Mining-Using-Deep-Learning'"
      ]
     },
     "execution_count": 383,
     "metadata": {},
     "output_type": "execute_result"
    }
   ],
   "source": [
    "RANDOM_SEED = 42\n",
    "np.random.seed(RANDOM_SEED)\n",
    "torch.manual_seed(RANDOM_SEED)\n",
    "dir = './datasets/fsm/seq/*'\n",
    "os.getcwd()"
   ]
  },
  {
   "cell_type": "code",
   "execution_count": 384,
   "metadata": {},
   "outputs": [
    {
     "name": "stdout",
     "output_type": "stream",
     "text": [
      "./datasets/fsm/seq/*\n"
     ]
    }
   ],
   "source": [
    "print(dir)"
   ]
  },
  {
   "cell_type": "code",
   "execution_count": 385,
   "metadata": {},
   "outputs": [],
   "source": [
    "alpha = list(string.ascii_uppercase)\n",
    "chr2index = {alpha[i]:i for i in range(len(alpha))}"
   ]
  },
  {
   "cell_type": "code",
   "execution_count": 386,
   "metadata": {},
   "outputs": [
    {
     "data": {
      "text/plain": [
       "<torch._C.Generator at 0x7fdef40de1f0>"
      ]
     },
     "execution_count": 386,
     "metadata": {},
     "output_type": "execute_result"
    }
   ],
   "source": [
    "%matplotlib inline\n",
    "%config InlineBackend.figure_format='retina'\n",
    "\n",
    "sns.set(style='whitegrid', palette='muted', font_scale=1.2)\n",
    "\n",
    "HAPPY_COLORS_PALETTE = [\"#01BEFE\", \"#FFDD00\", \"#FF7D00\", \"#FF006D\", \"#ADFF02\", \"#8F00FF\"]\n",
    "\n",
    "sns.set_palette(sns.color_palette(HAPPY_COLORS_PALETTE))\n",
    "\n",
    "rcParams['figure.figsize'] = 12, 8\n",
    "\n",
    "RANDOM_SEED = 42\n",
    "np.random.seed(RANDOM_SEED)\n",
    "torch.manual_seed(RANDOM_SEED)"
   ]
  },
  {
   "cell_type": "code",
   "execution_count": 387,
   "metadata": {},
   "outputs": [],
   "source": [
    "def chr2OH(alphabet):\n",
    "    oh = [0 for i in range(len(alpha))]\n",
    "    index = chr2index[alphabet]\n",
    "    oh[index] = 1\n",
    "    return oh\n"
   ]
  },
  {
   "cell_type": "code",
   "execution_count": 392,
   "metadata": {},
   "outputs": [],
   "source": [
    "# file read\n",
    "all_names = []\n",
    "all_data = []\n",
    "sequence_length = []\n",
    "alpha = list(string.ascii_uppercase)\n",
    "data_length = len(glob.glob(dir))\n",
    "file_predix = './datasets/fsm/seq'\n",
    "files = glob.glob(dir)\n"
   ]
  },
  {
   "cell_type": "code",
   "execution_count": 393,
   "metadata": {},
   "outputs": [
    {
     "name": "stdout",
     "output_type": "stream",
     "text": [
      "<class 'numpy.ndarray'>\n"
     ]
    },
    {
     "data": {
      "text/plain": [
       "array([ 1.    ,  0.    ,  0.    ,  0.    ,  0.    ,  0.    ,  0.    ,\n",
       "        0.    ,  0.    ,  0.    ,  0.    ,  0.    ,  0.    ,  0.    ,\n",
       "        0.    ,  0.    ,  0.    ,  0.    ,  0.    ,  0.    ,  0.    ,\n",
       "        0.    ,  0.    ,  0.    ,  0.    ,  0.    ,  0.    ,  1.    ,\n",
       "        0.    ,  0.    ,  0.    ,  0.    ,  0.    ,  0.    ,  0.    ,\n",
       "        0.    ,  0.    ,  0.    ,  0.    ,  0.    ,  0.    ,  0.    ,\n",
       "        0.    ,  0.    ,  0.    ,  0.    ,  0.    ,  0.    ,  0.    ,\n",
       "        0.    ,  0.    ,  0.    , 10.9955,  0.    ,  1.    ,  0.    ,\n",
       "        0.    ,  0.    ,  0.    ,  0.    ,  0.    ,  0.    ,  0.    ,\n",
       "        0.    ,  0.    ,  0.    ,  0.    ,  0.    ,  0.    ,  0.    ,\n",
       "        0.    ,  0.    ,  0.    ,  0.    ,  0.    ,  0.    ,  0.    ,\n",
       "        0.    ,  0.    ,  0.    ,  0.    ,  1.    ,  0.    ,  0.    ,\n",
       "        0.    ,  0.    ,  0.    ,  0.    ,  0.    ,  0.    ,  0.    ,\n",
       "        0.    ,  0.    ,  0.    ,  0.    ,  0.    ,  0.    ,  0.    ,\n",
       "        0.    ,  0.    ,  0.    ,  0.    ,  0.    ,  0.    ,  0.    ,\n",
       "        2.0545,  0.    ,  1.    ,  0.    ,  0.    ,  0.    ,  0.    ,\n",
       "        0.    ,  0.    ,  0.    ,  0.    ,  0.    ,  0.    ,  0.    ,\n",
       "        0.    ,  0.    ,  0.    ,  0.    ,  0.    ,  0.    ,  0.    ,\n",
       "        0.    ,  0.    ,  0.    ,  0.    ,  0.    ,  0.    ,  0.    ,\n",
       "        0.    ,  0.    ,  1.    ,  0.    ,  0.    ,  0.    ,  0.    ,\n",
       "        0.    ,  0.    ,  0.    ,  0.    ,  0.    ,  0.    ,  0.    ,\n",
       "        0.    ,  0.    ,  0.    ,  0.    ,  0.    ,  0.    ,  0.    ,\n",
       "        0.    ,  0.    ,  0.    ,  0.    ,  4.1901,  0.    ,  0.    ,\n",
       "        1.    ,  0.    ,  0.    ,  0.    ,  0.    ,  0.    ,  0.    ,\n",
       "        0.    ,  0.    ,  0.    ,  0.    ,  0.    ,  0.    ,  0.    ,\n",
       "        0.    ,  0.    ,  0.    ,  0.    ,  0.    ,  0.    ,  0.    ,\n",
       "        0.    ,  0.    ,  0.    ,  0.    ,  0.    ,  0.    ,  1.    ,\n",
       "        0.    ,  0.    ,  0.    ,  0.    ,  0.    ,  0.    ,  0.    ,\n",
       "        0.    ,  0.    ,  0.    ,  0.    ,  0.    ,  0.    ,  0.    ,\n",
       "        0.    ,  0.    ,  0.    ,  0.    ,  0.    ,  0.    ,  0.    ,\n",
       "        0.    ,  7.0531,  0.    ,  0.    ,  1.    ,  0.    ,  0.    ,\n",
       "        0.    ,  0.    ,  0.    ,  0.    ,  0.    ,  0.    ,  0.    ,\n",
       "        0.    ,  0.    ,  0.    ,  0.    ,  0.    ,  0.    ,  0.    ,\n",
       "        0.    ,  0.    ,  0.    ,  0.    ,  0.    ,  0.    ,  0.    ,\n",
       "        0.    ,  0.    ,  0.    ,  0.    ,  1.    ,  0.    ,  0.    ,\n",
       "        0.    ,  0.    ,  0.    ,  0.    ,  0.    ,  0.    ,  0.    ,\n",
       "        0.    ,  0.    ,  0.    ,  0.    ,  0.    ,  0.    ,  0.    ,\n",
       "        0.    ,  0.    ,  0.    ,  0.    ,  0.    ,  2.2903])"
      ]
     },
     "execution_count": 393,
     "metadata": {},
     "output_type": "execute_result"
    }
   ],
   "source": [
    "files = glob.glob(dir)\n",
    "for file in files:\n",
    "    datasets = []\n",
    "    all_names.append(file.split('\\\\')[-1].replace('.txt', ''))\n",
    "    for rf in open(file, 'r'):\n",
    "        (u, v, w) = rf[1:-2].split(', ')\n",
    "        datasets.append(chr2OH(u[1]) + chr2OH(v[1]) +[float(w)])\n",
    "        #datasets.append([chr2index[u[1]], chr2index[v[1]], float(w)])\n",
    "    sequence_length.append(len(datasets))\n",
    "    all_data.append(datasets)\n",
    "all_data = np.array([np.array(arr) for arr in all_data])\n",
    "\n",
    "max_sequence_length = max(sequence_length)\n",
    "zeros = np.zeros(53)\n",
    "     \n",
    "\n",
    "for ind, data in enumerate(all_data):\n",
    "    if len(data) != max_sequence_length:\n",
    "        for i in range(len(data), max_sequence_length):\n",
    "            all_data[ind] = np.vstack([all_data[ind], zeros])\n",
    "\n",
    "all_d = []\n",
    "for ind, data in enumerate(all_data):\n",
    "    all_d.append(data.flatten())\n",
    "    #all_d[ind] = data.flatten()\n",
    "    \n",
    "all_d[0]\n",
    "all_d = np.array(all_d)\n",
    "print(type(all_d))\n",
    "all_d[0]"
   ]
  },
  {
   "cell_type": "code",
   "execution_count": 394,
   "metadata": {},
   "outputs": [
    {
     "data": {
      "text/plain": [
       "device(type='cuda')"
      ]
     },
     "execution_count": 394,
     "metadata": {},
     "output_type": "execute_result"
    }
   ],
   "source": [
    "device = torch.device(\"cuda\" if torch.cuda.is_available() else \"cpu\")\n",
    "device\n"
   ]
  },
  {
   "cell_type": "code",
   "execution_count": 395,
   "metadata": {},
   "outputs": [
    {
     "data": {
      "text/plain": [
       "numpy.ndarray"
      ]
     },
     "execution_count": 395,
     "metadata": {},
     "output_type": "execute_result"
    }
   ],
   "source": [
    "x_train, x_test, train_name, test_name = train_test_split(all_data, all_names, test_size=0.3)\n",
    "x_test, x_val, test_name, val_name = train_test_split(x_test, test_name, test_size=0.33)\n",
    "type(x_train)"
   ]
  },
  {
   "cell_type": "code",
   "execution_count": 396,
   "metadata": {},
   "outputs": [],
   "source": [
    "tr_names= []\n",
    "for name in train_name:\n",
    "    tr_names.append(name.split('graph')[0])\n",
    "    #tr_names.append(name.split('-')[0].replace('graph', ''))"
   ]
  },
  {
   "cell_type": "code",
   "execution_count": 397,
   "metadata": {},
   "outputs": [
    {
     "data": {
      "text/plain": [
       "'./datasets/fsm/seq/0'"
      ]
     },
     "execution_count": 397,
     "metadata": {},
     "output_type": "execute_result"
    }
   ],
   "source": [
    "tr_names[0]"
   ]
  },
  {
   "cell_type": "code",
   "execution_count": 398,
   "metadata": {},
   "outputs": [
    {
     "data": {
      "text/plain": [
       "5"
      ]
     },
     "execution_count": 398,
     "metadata": {},
     "output_type": "execute_result"
    }
   ],
   "source": [
    "max_sequence_length = max(sequence_length) #sequence_len\n",
    "n_features = 3\n",
    "batch_size = 32\n",
    "#epochs = 200\n",
    "epochs = 10\n",
    "steps_per_epoch = len(x_train) #n_sequence\n",
    "max_sequence_length"
   ]
  },
  {
   "cell_type": "code",
   "execution_count": 399,
   "metadata": {},
   "outputs": [],
   "source": [
    "\n",
    "def create_dataset_1(nparrays):\n",
    "    dataset = [torch.tensor(s).unsqueeze(0).float() for s in nparrays]\n",
    "  #step_per_epoch, seq_len, llen, n_features = torch.stack(dataset).shape\n",
    "    #n_seq, m ,seq_len, n_features = print(torch.stack(dataset).shape)\n",
    "    print(torch.stack(dataset).shape)\n",
    "    n_seq, seq_len, n_features = torch.stack(dataset).shape\n",
    "    #print( n_seq, m , seq_len, n_features )\n",
    "    return dataset, seq_len, n_features"
   ]
  },
  {
   "cell_type": "code",
   "execution_count": 400,
   "metadata": {},
   "outputs": [],
   "source": [
    "\n",
    "def create_dataset_0(nparrays):\n",
    "    #dataset = [torch.tensor(s).float() for s in nparrays]\n",
    "  #step_per_epoch, seq_len, llen, n_features = torch.stack(dataset).shape\n",
    "    dataset = torch.from_numpy(nparrays)\n",
    "    #n_features  = torch.stack(dataset).shape\n",
    "    shape_list = list(dataset.shape)\n",
    "    print(\"dataset: \" , shape_list)\n",
    "    seq_len = shape_list[1]\n",
    "    n_features = shape_list[2]\n",
    "    return dataset, seq_len, n_features"
   ]
  },
  {
   "cell_type": "code",
   "execution_count": 401,
   "metadata": {},
   "outputs": [],
   "source": [
    "x_train_2d, x_test_2d, train_name_2d, test_name_2d = train_test_split(all_data, all_names, test_size=0.3)\n",
    "x_test_2d, x_val_2d, test_name_2d, val_name_2d = train_test_split(x_test_2d, test_name_2d, test_size=0.33)"
   ]
  },
  {
   "cell_type": "code",
   "execution_count": 402,
   "metadata": {},
   "outputs": [
    {
     "name": "stdout",
     "output_type": "stream",
     "text": [
      "dataset:  [525, 5, 53]\n",
      "dataset:  [75, 5, 53]\n",
      "5\n",
      "53\n",
      "tensor([[ 0.0000,  0.0000,  1.0000,  0.0000,  0.0000,  0.0000,  0.0000,  0.0000,\n",
      "          0.0000,  0.0000,  0.0000,  0.0000,  0.0000,  0.0000,  0.0000,  0.0000,\n",
      "          0.0000,  0.0000,  0.0000,  0.0000,  0.0000,  0.0000,  0.0000,  0.0000,\n",
      "          0.0000,  0.0000,  0.0000,  1.0000,  0.0000,  0.0000,  0.0000,  0.0000,\n",
      "          0.0000,  0.0000,  0.0000,  0.0000,  0.0000,  0.0000,  0.0000,  0.0000,\n",
      "          0.0000,  0.0000,  0.0000,  0.0000,  0.0000,  0.0000,  0.0000,  0.0000,\n",
      "          0.0000,  0.0000,  0.0000,  0.0000,  2.0282],\n",
      "        [ 0.0000,  0.0000,  1.0000,  0.0000,  0.0000,  0.0000,  0.0000,  0.0000,\n",
      "          0.0000,  0.0000,  0.0000,  0.0000,  0.0000,  0.0000,  0.0000,  0.0000,\n",
      "          0.0000,  0.0000,  0.0000,  0.0000,  0.0000,  0.0000,  0.0000,  0.0000,\n",
      "          0.0000,  0.0000,  0.0000,  0.0000,  0.0000,  1.0000,  0.0000,  0.0000,\n",
      "          0.0000,  0.0000,  0.0000,  0.0000,  0.0000,  0.0000,  0.0000,  0.0000,\n",
      "          0.0000,  0.0000,  0.0000,  0.0000,  0.0000,  0.0000,  0.0000,  0.0000,\n",
      "          0.0000,  0.0000,  0.0000,  0.0000,  7.5512],\n",
      "        [ 0.0000,  0.0000,  1.0000,  0.0000,  0.0000,  0.0000,  0.0000,  0.0000,\n",
      "          0.0000,  0.0000,  0.0000,  0.0000,  0.0000,  0.0000,  0.0000,  0.0000,\n",
      "          0.0000,  0.0000,  0.0000,  0.0000,  0.0000,  0.0000,  0.0000,  0.0000,\n",
      "          0.0000,  0.0000,  0.0000,  0.0000,  0.0000,  0.0000,  1.0000,  0.0000,\n",
      "          0.0000,  0.0000,  0.0000,  0.0000,  0.0000,  0.0000,  0.0000,  0.0000,\n",
      "          0.0000,  0.0000,  0.0000,  0.0000,  0.0000,  0.0000,  0.0000,  0.0000,\n",
      "          0.0000,  0.0000,  0.0000,  0.0000,  2.2989],\n",
      "        [ 0.0000,  1.0000,  0.0000,  0.0000,  0.0000,  0.0000,  0.0000,  0.0000,\n",
      "          0.0000,  0.0000,  0.0000,  0.0000,  0.0000,  0.0000,  0.0000,  0.0000,\n",
      "          0.0000,  0.0000,  0.0000,  0.0000,  0.0000,  0.0000,  0.0000,  0.0000,\n",
      "          0.0000,  0.0000,  1.0000,  0.0000,  0.0000,  0.0000,  0.0000,  0.0000,\n",
      "          0.0000,  0.0000,  0.0000,  0.0000,  0.0000,  0.0000,  0.0000,  0.0000,\n",
      "          0.0000,  0.0000,  0.0000,  0.0000,  0.0000,  0.0000,  0.0000,  0.0000,\n",
      "          0.0000,  0.0000,  0.0000,  0.0000, 10.1302],\n",
      "        [ 0.0000,  1.0000,  0.0000,  0.0000,  0.0000,  0.0000,  0.0000,  0.0000,\n",
      "          0.0000,  0.0000,  0.0000,  0.0000,  0.0000,  0.0000,  0.0000,  0.0000,\n",
      "          0.0000,  0.0000,  0.0000,  0.0000,  0.0000,  0.0000,  0.0000,  0.0000,\n",
      "          0.0000,  0.0000,  0.0000,  0.0000,  0.0000,  1.0000,  0.0000,  0.0000,\n",
      "          0.0000,  0.0000,  0.0000,  0.0000,  0.0000,  0.0000,  0.0000,  0.0000,\n",
      "          0.0000,  0.0000,  0.0000,  0.0000,  0.0000,  0.0000,  0.0000,  0.0000,\n",
      "          0.0000,  0.0000,  0.0000,  0.0000,  4.1369]], dtype=torch.float64)\n"
     ]
    }
   ],
   "source": [
    "x_train_2d, x_test_2d, train_name_2d, test_name_2d = train_test_split(all_data, all_names, test_size=0.3)\n",
    "x_test_2d, x_val_2d, test_name_2d, val_name_2d = train_test_split(x_test_2d, test_name_2d, test_size=0.33)\n",
    "type(x_train_2d)\n",
    "train_dataset_2d, seq_len_2d, n_features_2d = create_dataset_0(x_train_2d)\n",
    "val_dataset_2d, _, _ = create_dataset_0(x_val_2d)\n",
    "\n",
    "print(seq_len_2d)\n",
    "print(n_features_2d)\n",
    "print(train_dataset_2d[0])"
   ]
  },
  {
   "cell_type": "code",
   "execution_count": 403,
   "metadata": {},
   "outputs": [
    {
     "name": "stdout",
     "output_type": "stream",
     "text": [
      "torch.Size([525, 1, 265])\n",
      "torch.Size([75, 1, 265])\n",
      "1\n",
      "265\n"
     ]
    }
   ],
   "source": [
    "x_train_1d , x_test_1d , train_name_1d , test_name_1d = train_test_split(all_d, all_names, test_size=0.3)\n",
    "x_test_1d , x_val_1d , test_name_1d , val_name_1d  = train_test_split(x_test_1d, test_name_1d, test_size=0.33)\n",
    "type(x_train_1d )\n",
    "train_dataset_1d , seq_len_1d , n_features_1d  = create_dataset_1(x_train_1d )\n",
    "val_dataset_1d , _, _ = create_dataset_1(x_val_1d )\n",
    "train_dataset_1d[0]\n",
    "print(seq_len_1d)\n",
    "print(n_features_1d)"
   ]
  },
  {
   "cell_type": "code",
   "execution_count": null,
   "metadata": {},
   "outputs": [],
   "source": []
  },
  {
   "cell_type": "code",
   "execution_count": null,
   "metadata": {},
   "outputs": [],
   "source": []
  },
  {
   "cell_type": "code",
   "execution_count": 420,
   "metadata": {},
   "outputs": [],
   "source": [
    "class Encoder(nn.Module):\n",
    "    def __init__(self, seq_len, n_features, embedding_dim=64):\n",
    "        super(Encoder, self).__init__()\n",
    "        \n",
    "        self.seq_len, self.n_features = seq_len, n_features\n",
    "        self.embedding_dim, self.hidden_dim = embedding_dim, 2 * embedding_dim\n",
    "        \n",
    "        self.rnn1 = nn.LSTM(\n",
    "          input_size=n_features,\n",
    "          hidden_size=self.hidden_dim,\n",
    "          num_layers=1,\n",
    "          batch_first=True\n",
    "        )\n",
    "        self.rnn2 = nn.LSTM(\n",
    "          input_size=self.hidden_dim,\n",
    "          hidden_size=embedding_dim,\n",
    "          num_layers=1,\n",
    "          batch_first=True\n",
    "        )\n",
    "    def forward(self, x):\n",
    "\n",
    "        x = x.reshape((1, self.seq_len, self.n_features))\n",
    "        \n",
    "        x, (_, _) = self.rnn1(x)\n",
    "        x, (hidden_n, _) = self.rnn2(x)\n",
    "        \n",
    "        return hidden_n.reshape((self.seq_len, self.embedding_dim))"
   ]
  },
  {
   "cell_type": "code",
   "execution_count": 421,
   "metadata": {},
   "outputs": [],
   "source": [
    "class Decoder(nn.Module):\n",
    "    def __init__(self, seq_len, input_dim=64, n_features=1):\n",
    "        super(Decoder, self).__init__()\n",
    "        \n",
    "        self.seq_len, self.input_dim = seq_len, input_dim\n",
    "        self.hidden_dim, self.n_features = 2 * input_dim, n_features\n",
    "       \n",
    "        self.rnn1 = nn.LSTM(\n",
    "            input_size=input_dim,\n",
    "            hidden_size=input_dim,\n",
    "            num_layers=1,\n",
    "            batch_first=True\n",
    "        )\n",
    "        self.rnn2 = nn.LSTM(\n",
    "            input_size=input_dim,\n",
    "            hidden_size=self.hidden_dim,\n",
    "            num_layers=1,\n",
    "            batch_first=True\n",
    "        )\n",
    "        \n",
    "        self.output_layer = nn.Linear(self.hidden_dim, n_features)\n",
    "    def forward(self, x):\n",
    "        x = x.repeat(self.seq_len, self.n_features)\n",
    "        x = x.reshape((self.n_features, self.seq_len, self.input_dim))\n",
    "        \n",
    "        x, (hidden_n, cell_n) = self.rnn1(x)\n",
    "        x, (hidden_n, cell_n) = self.rnn2(x)\n",
    "        x = x.reshape((self.n_features, self.hidden_dim))\n",
    "        return self.output_layer(x)"
   ]
  },
  {
   "cell_type": "code",
   "execution_count": 422,
   "metadata": {},
   "outputs": [],
   "source": [
    "class RecurrentAutoencoder(nn.Module):\n",
    "    def __init__(self, seq_len, n_features, embedding_dim=64):\n",
    "        super(RecurrentAutoencoder, self).__init__()\n",
    "        self.encoder = Encoder(seq_len, n_features, embedding_dim).to(device)\n",
    "        self.decoder = Decoder(seq_len, embedding_dim, n_features).to(device)\n",
    "    def forward(self, x):\n",
    "        x = self.encoder(x)\n",
    "        x = self.decoder(x)\n",
    "        return x"
   ]
  },
  {
   "cell_type": "code",
   "execution_count": 423,
   "metadata": {},
   "outputs": [],
   "source": [
    "\n",
    "model = RecurrentAutoencoder(seq_len_1d  , n_features_1d , 128) #alphabe 26 -> 26  weight 1\n",
    "model = model.to(device)"
   ]
  },
  {
   "cell_type": "code",
   "execution_count": 424,
   "metadata": {},
   "outputs": [],
   "source": [
    "class F1_Loss(nn.Module):\n",
    "\n",
    "    def __init__(self, epsilon=1e-1):\n",
    "        super().__init__()\n",
    "        self.epsilon = epsilon\n",
    "        \n",
    "    def forward(self, y_pred, y_true):\n",
    "      \n",
    "        print(y_pred);\n",
    "        y_true = y_true.flatten().to(torch.long)\n",
    "        assert y_pred.ndim == 2\n",
    "        assert y_true.ndim == 1\n",
    "        \n",
    "        y_true = F.one_hot(y_true, 10).to(torch.float64)\n",
    "        y_pred = F.softmax(y_pred, dim=1)\n",
    "        tp = (y_true * y_pred).sum(dim=0).to(torch.float64)\n",
    "        tn = ((1 - y_true) * (1 - y_pred)).sum(dim=0).to(torch.float64)\n",
    "        fp = ((1 - y_true) * y_pred).sum(dim=0).to(torch.float64)\n",
    "        fn = (y_true * (1 - y_pred)).sum(dim=0).to(torch.float64)\n",
    "        \n",
    "        precision = tp / (tp + fp + self.epsilon)\n",
    "        recall = tp / (tp + fn + self.epsilon)\n",
    "        f1 = 2* (precision*recall) / (precision + recall + self.epsilon)\n",
    "        \n",
    "        print(precision);\n",
    "        print(recall);\n",
    "     \n",
    "        f1 = f1.clamp(min=self.epsilon, max=1-self.epsilon)\n",
    "        '''\n",
    "        precision = precision.clamp(min=self.epsilon, max=1-self.epsilon)\n",
    "        recall = recall.clamp(min=self.epsilon, max=1-self.epsilon)\n",
    "        '''\n",
    "        \n",
    "        '''\n",
    "        for i in range(len(y_pred_pc)):\n",
    "            y_pred_pc[i] = round(y_pred_pc[i])\n",
    "            \n",
    "        precision_pc = precision_score(y_true_pc, y_pred_pc, average='macro')\n",
    "        recall_pc = recall_score(y_true_pc, y_pred_pc, average='macro')\n",
    "        '''\n",
    "        return 1 - f1.mean(), 1- precision.mean(), 1- recall.mean()\n",
    "    \n",
    "f1_loss = F1_Loss().cuda()"
   ]
  },
  {
   "cell_type": "code",
   "execution_count": 425,
   "metadata": {},
   "outputs": [],
   "source": [
    "def train_model(model, train_dataset, val_dataset, n_epochs):\n",
    "    optimizer = torch.optim.Adam(model.parameters(), lr=1e-3)\n",
    "  #criterion = nn.L1Loss(reduction='sum').to(device)\n",
    "    criterion = nn.MSELoss(reduction='mean').to(device)\n",
    "    history = dict(train=[], val=[])\n",
    "    \n",
    "    best_model_wts = copy.deepcopy(model.state_dict())\n",
    "    best_loss = 10000.0\n",
    "    \n",
    "    for epoch in range(1, n_epochs + 1):\n",
    "        model = model.train()\n",
    "        \n",
    "        train_losses = []\n",
    "        for seq_true in train_dataset:\n",
    "            optimizer.zero_grad()\n",
    "            \n",
    "            seq_true = seq_true.to(device)\n",
    "            seq_pred = model(seq_true)\n",
    "            \n",
    "            loss = criterion(seq_pred, seq_true)\n",
    "            \n",
    "            loss.backward()\n",
    "            optimizer.step()\n",
    "            \n",
    "        \n",
    "            train_losses.append(loss.item())\n",
    "            \n",
    "        val_losses = []\n",
    "        model = model.eval()\n",
    "    \n",
    "        with torch.no_grad():\n",
    "            for seq_true in val_dataset:\n",
    "            \n",
    "                seq_true = seq_true.to(device)\n",
    "                seq_pred = model(seq_true)\n",
    "\n",
    "                loss = criterion(seq_pred, seq_true)\n",
    "                val_losses.append(loss.item())\n",
    "            \n",
    "        train_loss = np.mean(train_losses)\n",
    "        val_loss = np.mean(val_losses)\n",
    "    \n",
    "        history['train'].append(train_loss)\n",
    "        history['val'].append(val_loss)\n",
    "\n",
    "        if val_loss < best_loss:\n",
    "            best_loss = val_loss\n",
    "            best_model_wts = copy.deepcopy(model.state_dict())\n",
    "        \n",
    "        print(f'Epoch {epoch}: train loss {train_loss} val loss {val_loss}')\n",
    "    \n",
    "    model.load_state_dict(best_model_wts)\n",
    "    return model.eval(), history"
   ]
  },
  {
   "cell_type": "code",
   "execution_count": 426,
   "metadata": {
    "scrolled": true
   },
   "outputs": [
    {
     "name": "stdout",
     "output_type": "stream",
     "text": [
      "Epoch 1: train loss 49.57662234901672 val loss 49.279576223641634\n",
      "Epoch 2: train loss 41.385006396387304 val loss 45.95118259285887\n",
      "Epoch 3: train loss 38.21369356794726 val loss 42.82547678108017\n",
      "Epoch 4: train loss 36.49317791628695 val loss 41.85345267340541\n",
      "Epoch 5: train loss 35.40774552294186 val loss 41.12230538119872\n",
      "Epoch 6: train loss 33.66084140324167 val loss 38.22598066240549\n",
      "Epoch 7: train loss 30.69789760216361 val loss 34.75031597107649\n",
      "Epoch 8: train loss 27.612148590783278 val loss 31.21819806824128\n",
      "Epoch 9: train loss 24.426582882581723 val loss 27.282702510605255\n",
      "Epoch 10: train loss 20.239744762666522 val loss 22.60461970668286\n",
      "Epoch 11: train loss 16.384484286579703 val loss 18.15005681787928\n",
      "Epoch 12: train loss 13.11575541614954 val loss 14.464010938232144\n",
      "Epoch 13: train loss 10.266243979654142 val loss 11.162878445858757\n",
      "Epoch 14: train loss 7.814675925051173 val loss 8.407288917054732\n",
      "Epoch 15: train loss 5.808023443817206 val loss 6.179627579140166\n",
      "Epoch 16: train loss 4.187455272988993 val loss 4.3891314180381595\n",
      "Epoch 17: train loss 2.948775974953813 val loss 2.975860918716838\n",
      "Epoch 18: train loss 1.9215159060229503 val loss 1.9226355730369686\n",
      "Epoch 19: train loss 1.2039804549524118 val loss 1.170195987302189\n",
      "Epoch 20: train loss 0.7137109741630654 val loss 0.672326011522673\n",
      "Epoch 21: train loss 0.39259294725200605 val loss 0.34403859604305276\n",
      "Epoch 22: train loss 0.19597552071768967 val loss 0.16121681635888915\n",
      "Epoch 23: train loss 0.08827990747489302 val loss 0.06555634233790139\n",
      "Epoch 24: train loss 0.03858027694691416 val loss 0.03173889856630315\n",
      "Epoch 25: train loss 0.02090409545394193 val loss 0.015973193894606084\n",
      "Epoch 26: train loss 0.01259832984368716 val loss 0.01486358323522533\n",
      "Epoch 27: train loss 0.013283121922452535 val loss 0.015717234501304727\n",
      "Epoch 28: train loss 0.011984659562308696 val loss 0.012676394670270383\n",
      "Epoch 29: train loss 0.01360633303921315 val loss 0.016122102059113484\n",
      "Epoch 30: train loss 0.01165845848819507 val loss 0.012875363662218054\n",
      "Epoch 31: train loss 0.012953690005399818 val loss 0.01701511915773153\n",
      "Epoch 32: train loss 0.012104660924856684 val loss 0.012496725878833482\n",
      "Epoch 33: train loss 0.012596546887874692 val loss 0.016390974766109137\n",
      "Epoch 34: train loss 0.012370386169724433 val loss 0.013578075321856887\n",
      "Epoch 35: train loss 0.012572376486579223 val loss 0.016326042793225498\n",
      "Epoch 36: train loss 0.0124015978962693 val loss 0.014583238394310078\n",
      "Epoch 37: train loss 0.012434922124846794 val loss 0.016095664692111312\n",
      "Epoch 38: train loss 0.012609999220696323 val loss 0.0152567930938676\n",
      "Epoch 39: train loss 2.003806105979297 val loss 0.5393853392001863\n",
      "Epoch 40: train loss 0.28776849435198876 val loss 0.11365547598339618\n",
      "Epoch 41: train loss 0.06867015222154026 val loss 0.0327244007276992\n",
      "Epoch 42: train loss 0.019862223466680873 val loss 0.01517718619822214\n",
      "Epoch 43: train loss 0.010609031324690607 val loss 0.012347674065579971\n",
      "Epoch 44: train loss 0.013547257181157225 val loss 0.01620471922059854\n",
      "Epoch 45: train loss 0.010894626112366539 val loss 0.011964743517649671\n",
      "Epoch 46: train loss 0.011491867114534779 val loss 0.013697504585919281\n",
      "Epoch 47: train loss 0.013092474974248381 val loss 0.015288137723691761\n",
      "Epoch 48: train loss 0.010264527820760296 val loss 0.012624454451724887\n",
      "Epoch 49: train loss 0.011885123654556948 val loss 0.01573834786657244\n",
      "Epoch 50: train loss 0.011182298171001354 val loss 0.013859449992887676\n",
      "Epoch 51: train loss 0.010578457759693264 val loss 0.012248362728084126\n",
      "Epoch 52: train loss 0.011334500411813634 val loss 0.013392350237506132\n",
      "Epoch 53: train loss 0.3415727168954687 val loss 3.4470173029135913\n",
      "Epoch 54: train loss 0.08514455308971394 val loss 0.015199967169513304\n",
      "Epoch 55: train loss 0.010512446045509672 val loss 0.010480118154082447\n",
      "Epoch 56: train loss 0.011125037778956105 val loss 0.01297049358021468\n",
      "Epoch 57: train loss 0.009047889734252489 val loss 0.00948338910859699\n",
      "Epoch 58: train loss 0.009597746565982345 val loss 0.01121324452571571\n",
      "Epoch 59: train loss 0.009740023097976865 val loss 0.011478390883033474\n",
      "Epoch 60: train loss 0.009525914830543722 val loss 0.011154031821837027\n",
      "Epoch 61: train loss 0.009036003221380746 val loss 0.011195174685368936\n",
      "Epoch 62: train loss 0.009513987661394779 val loss 0.01103386101545766\n",
      "Epoch 63: train loss 0.009791262359968165 val loss 0.01080008638324216\n",
      "Epoch 64: train loss 0.00991083019119244 val loss 0.011429391359755148\n",
      "Epoch 65: train loss 0.009451314904560734 val loss 0.011050398934166879\n",
      "Epoch 66: train loss 0.009470729501419035 val loss 0.011717432691560437\n",
      "Epoch 67: train loss 1.7058595720082077 val loss 0.5210455355358621\n",
      "Epoch 68: train loss 0.3372253677847662 val loss 0.012995721232146025\n",
      "Epoch 69: train loss 0.014647391973551185 val loss 0.011423685514988999\n",
      "Epoch 70: train loss 0.009238704836129078 val loss 0.007901716879568994\n",
      "Epoch 71: train loss 0.010407922756082068 val loss 0.010963740604929627\n",
      "Epoch 72: train loss 0.008443453377556233 val loss 0.00771438421914354\n",
      "Epoch 73: train loss 0.010084260865003757 val loss 0.01212197459768504\n",
      "Epoch 74: train loss 0.0092402354642261 val loss 0.009470264576375485\n",
      "Epoch 75: train loss 0.010148228353521388 val loss 0.015527394460514187\n",
      "Epoch 76: train loss 0.010125266234944797 val loss 0.011428843362567326\n",
      "Epoch 77: train loss 0.01070801161168631 val loss 0.01234309635280321\n",
      "Epoch 78: train loss 0.01047443823417693 val loss 0.008762085711738716\n",
      "Epoch 79: train loss 0.010620264263956675 val loss 0.012785261998263499\n",
      "Epoch 80: train loss 0.01035189685816433 val loss 0.019698583381250502\n",
      "Epoch 81: train loss 0.01186312845913649 val loss 0.012339685896877199\n",
      "Epoch 82: train loss 0.009112181009702562 val loss 0.009712374625572314\n",
      "Epoch 83: train loss 0.011530916390779782 val loss 0.010083421224262566\n",
      "Epoch 84: train loss 0.008962757918468144 val loss 0.010008476274864127\n",
      "Epoch 85: train loss 0.01052782774409501 val loss 0.01277285211874793\n",
      "Epoch 86: train loss 0.08855108559685981 val loss 3.816101346728392\n",
      "Epoch 87: train loss 0.1227039327391512 val loss 0.012770683365718773\n",
      "Epoch 88: train loss 0.011202615557149763 val loss 0.014556032264760385\n",
      "Epoch 89: train loss 0.011973813256204483 val loss 0.015198944149694095\n",
      "Epoch 90: train loss 0.011464008085063792 val loss 0.011160602497402578\n",
      "Epoch 91: train loss 0.01036450937357066 val loss 0.009944963377589981\n",
      "Epoch 92: train loss 0.010111175960794623 val loss 0.011633646269328892\n",
      "Epoch 93: train loss 0.00977490206936463 val loss 0.0100397551820303\n",
      "Epoch 94: train loss 0.010281858747669806 val loss 0.013546883792926867\n",
      "Epoch 95: train loss 0.010969922200310976 val loss 0.012432237744020918\n",
      "Epoch 96: train loss 0.010762221183866218 val loss 0.009344764857863386\n",
      "Epoch 97: train loss 0.009396591551069703 val loss 0.009053801042027772\n",
      "Epoch 98: train loss 0.009405384574673095 val loss 0.011341414861381054\n",
      "Epoch 99: train loss 0.009904934603476986 val loss 0.011284500072554996\n",
      "Epoch 100: train loss 0.010104226183168412 val loss 0.010679026713284353\n",
      "Epoch 101: train loss 0.009478812464013962 val loss 0.011700329179875553\n",
      "Epoch 102: train loss 0.009961905016209043 val loss 0.009925433083747824\n",
      "Epoch 103: train loss 0.009505175051689591 val loss 0.011233647178548078\n",
      "Epoch 104: train loss 0.009998628068327282 val loss 0.010714468473258118\n",
      "Epoch 105: train loss 0.011390621048298532 val loss 0.012581436655018478\n",
      "Epoch 106: train loss 0.013084439769265287 val loss 0.016472528383601456\n",
      "Epoch 107: train loss 0.011700915804886747 val loss 0.01285111199443539\n",
      "Epoch 108: train loss 0.01204430758409823 val loss 0.015581546193764855\n",
      "Epoch 109: train loss 0.052875310430037126 val loss 4.912586014686773\n",
      "Epoch 110: train loss 1.1012197257007939 val loss 0.009099590068993468\n",
      "Epoch 111: train loss 0.008536394841337044 val loss 0.007037900705666592\n",
      "Epoch 112: train loss 0.01024526143535262 val loss 0.007223681963514536\n",
      "Epoch 113: train loss 0.008117329637253923 val loss 0.007253452598427732\n",
      "Epoch 114: train loss 0.009669072446690517 val loss 0.009133797391162565\n",
      "Epoch 115: train loss 0.010052639915458192 val loss 0.006666996174026281\n",
      "Epoch 116: train loss 0.009897365033171983 val loss 0.008121649994670103\n",
      "Epoch 117: train loss 0.009986801911699808 val loss 0.008234025657487412\n"
     ]
    },
    {
     "name": "stdout",
     "output_type": "stream",
     "text": [
      "Epoch 118: train loss 0.010191293994264146 val loss 0.00857501927142342\n",
      "Epoch 119: train loss 0.009864956755634575 val loss 0.008074396188991766\n",
      "Epoch 120: train loss 0.009662691714862982 val loss 0.008960107261470208\n",
      "Epoch 121: train loss 0.010291289408037084 val loss 0.009816943405506512\n",
      "Epoch 122: train loss 0.00990407170567085 val loss 0.00894704477939134\n",
      "Epoch 123: train loss 0.00974060616001398 val loss 0.008629404391006876\n",
      "Epoch 124: train loss 0.00967455258354589 val loss 0.009649477891313533\n",
      "Epoch 125: train loss 0.010075054896851291 val loss 0.00940046003398796\n",
      "Epoch 126: train loss 0.00939349937177862 val loss 0.008873293266321221\n",
      "Epoch 127: train loss 0.009816896659294364 val loss 0.00942448843891422\n",
      "Epoch 128: train loss 0.009355261476871202 val loss 0.008574995781915883\n",
      "Epoch 129: train loss 0.00972086815582034 val loss 0.008853263476242622\n",
      "Epoch 130: train loss 0.009570053876932001 val loss 0.00812633172608912\n",
      "Epoch 131: train loss 0.009667934919929221 val loss 0.007945469765303036\n",
      "Epoch 132: train loss 0.009246895979103144 val loss 0.00826099954933549\n",
      "Epoch 133: train loss 0.009678059135940635 val loss 0.00815141028103729\n",
      "Epoch 134: train loss 0.009433488333098856 val loss 0.008691590155164401\n",
      "Epoch 135: train loss 0.5307035031755055 val loss 0.3000976606939609\n",
      "Epoch 136: train loss 0.05224734968400472 val loss 0.009718755203454445\n",
      "Epoch 137: train loss 0.00973047869424114 val loss 0.008369388376207402\n",
      "Epoch 138: train loss 0.008642162682732478 val loss 0.008274730228974174\n",
      "Epoch 139: train loss 0.008750122134806589 val loss 0.009366583976273735\n",
      "Epoch 140: train loss 0.008648664198449946 val loss 0.010041104870227475\n",
      "Epoch 141: train loss 0.008733040817259324 val loss 0.010420671246635416\n",
      "Epoch 142: train loss 0.009298432554351166 val loss 0.011368457926437259\n",
      "Epoch 143: train loss 0.008992503150698862 val loss 0.01071163038102289\n",
      "Epoch 144: train loss 0.009051643910019525 val loss 0.010843666209063182\n",
      "Epoch 145: train loss 0.012432552011617061 val loss 0.009467873393247525\n",
      "Epoch 146: train loss 0.007711789389750699 val loss 0.00766956303268671\n",
      "Epoch 147: train loss 0.009106112280029005 val loss 0.013844716302119196\n",
      "Epoch 148: train loss 0.009121778130952624 val loss 0.008857693248428404\n",
      "Epoch 149: train loss 0.009334940211071322 val loss 0.013164642611518501\n",
      "Epoch 150: train loss 0.008945241978702445 val loss 0.010666287910814087\n",
      "Epoch 151: train loss 0.009260504671062032 val loss 0.011042692315919946\n",
      "Epoch 152: train loss 0.008602393443219452 val loss 0.01235457548716416\n",
      "Epoch 153: train loss 0.009408352788914704 val loss 0.011527527182673414\n",
      "Epoch 154: train loss 0.008674567745322184 val loss 0.012357525097516676\n",
      "Epoch 155: train loss 0.00904437200609772 val loss 0.013408643493118386\n",
      "Epoch 156: train loss 0.009073459512576284 val loss 0.01784722674366397\n",
      "Epoch 157: train loss 0.3120776289877748 val loss 0.014736892871636277\n",
      "Epoch 158: train loss 0.008017845192974033 val loss 0.006919469045242294\n",
      "Epoch 159: train loss 0.008466968538760696 val loss 0.009014061616035178\n",
      "Epoch 160: train loss 0.008171348767632263 val loss 0.010496595922935134\n",
      "Epoch 161: train loss 0.008716877629381737 val loss 0.01050243227936638\n",
      "Epoch 162: train loss 0.008148383060858274 val loss 0.01002546450161996\n",
      "Epoch 163: train loss 0.008551806255487637 val loss 0.011880633243514845\n",
      "Epoch 164: train loss 0.008648217496894567 val loss 0.010638368163878718\n",
      "Epoch 165: train loss 0.008644630084606995 val loss 0.01099429772584699\n",
      "Epoch 166: train loss 0.008421956607406692 val loss 0.010931652882136404\n",
      "Epoch 167: train loss 0.008573694504420495 val loss 0.011106873071985318\n",
      "Epoch 168: train loss 0.00861437968660279 val loss 0.010057218750783553\n",
      "Epoch 169: train loss 0.00863231716441944 val loss 0.01179558201576583\n",
      "Epoch 170: train loss 0.008760583812781123 val loss 0.010137773516277471\n",
      "Epoch 171: train loss 0.008858337706076868 val loss 0.011017867090413348\n",
      "Epoch 172: train loss 0.008584731671171972 val loss 0.010469852207461373\n",
      "Epoch 173: train loss 0.008945430611964272 val loss 0.010347583044786007\n",
      "Epoch 174: train loss 0.008312241044893328 val loss 0.011534676006995141\n",
      "Epoch 175: train loss 0.00896469245964129 val loss 0.012067036719915146\n",
      "Epoch 176: train loss 0.008377615785797215 val loss 0.009498996994225309\n",
      "Epoch 177: train loss 0.00890043716459158 val loss 0.01300180599753124\n",
      "Epoch 178: train loss 0.008719261708791323 val loss 0.009761904459446668\n",
      "Epoch 179: train loss 0.008860999693168283 val loss 0.011009042364700386\n",
      "Epoch 180: train loss 0.010442407589899155 val loss 0.014440990296425298\n",
      "Epoch 181: train loss 0.011620841336968755 val loss 0.014053960118132333\n",
      "Epoch 182: train loss 0.011288119143046926 val loss 0.009360423679075514\n",
      "Epoch 183: train loss 0.007476082787782486 val loss 0.00836293981061317\n",
      "Epoch 184: train loss 0.008493976815356984 val loss 0.011825864826484274\n",
      "Epoch 185: train loss 0.008207976678372472 val loss 0.01051994200446643\n",
      "Epoch 186: train loss 0.00837329915800919 val loss 0.013919679710331062\n",
      "Epoch 187: train loss 0.008606456925100203 val loss 0.010955197183260074\n",
      "Epoch 188: train loss 0.008592468049076464 val loss 0.013511525110419219\n",
      "Epoch 189: train loss 0.009208179486851717 val loss 0.016209095480541388\n",
      "Epoch 190: train loss 0.009167073342333814 val loss 0.011135127931678047\n",
      "Epoch 191: train loss 0.007600926625060051 val loss 0.010983623947637777\n",
      "Epoch 192: train loss 0.009211052021897297 val loss 0.014280601139568413\n",
      "Epoch 193: train loss 0.008324071741746073 val loss 0.01172528229188174\n",
      "Epoch 194: train loss 0.008375443474450591 val loss 0.012786059282564868\n",
      "Epoch 195: train loss 0.008777482617352646 val loss 0.01128517153013187\n",
      "Epoch 196: train loss 0.008274555319166254 val loss 0.012349299900233746\n",
      "Epoch 197: train loss 0.008427865524038984 val loss 0.012924920911124597\n",
      "Epoch 198: train loss 0.009018144893648458 val loss 0.011330402268407246\n",
      "Epoch 199: train loss 0.008218430446577258 val loss 0.012099071050761268\n",
      "Epoch 200: train loss 0.008688043393970777 val loss 0.013395561980238805\n"
     ]
    }
   ],
   "source": [
    "model, history = train_model(\n",
    "  model, \n",
    "  train_dataset_1d, \n",
    "  val_dataset_1d, \n",
    "  n_epochs= 200\n",
    ")"
   ]
  },
  {
   "cell_type": "code",
   "execution_count": null,
   "metadata": {},
   "outputs": [],
   "source": []
  },
  {
   "cell_type": "raw",
   "metadata": {},
   "source": [
    "class F1_Loss(nn.Module):\n",
    "\n",
    "    def __init__(self, epsilon=1e-1):\n",
    "        super().__init__()\n",
    "        self.epsilon = epsilon\n",
    "        \n",
    "    def forward(self, y_pred, y_true):\n",
    "      \n",
    "        print(y_pred);\n",
    "        y_true = y_true.flatten().to(torch.long)\n",
    "        assert y_pred.ndim == 2\n",
    "        assert y_true.ndim == 1\n",
    "        \n",
    "        y_true = F.one_hot(y_true, 10).to(torch.float64)\n",
    "        y_pred = F.softmax(y_pred, dim=1)\n",
    "        tp = (y_true * y_pred).sum(dim=0).to(torch.float64)\n",
    "        tn = ((1 - y_true) * (1 - y_pred)).sum(dim=0).to(torch.float64)\n",
    "        fp = ((1 - y_true) * y_pred).sum(dim=0).to(torch.float64)\n",
    "        fn = (y_true * (1 - y_pred)).sum(dim=0).to(torch.float64)\n",
    "        \n",
    "        precision = tp / (tp + fp + self.epsilon)\n",
    "        recall = tp / (tp + fn + self.epsilon)\n",
    "        f1 = 2* (precision*recall) / (precision + recall + self.epsilon)\n",
    "        \n",
    "        print(precision);\n",
    "        print(recall);\n",
    "     \n",
    "        f1 = f1.clamp(min=self.epsilon, max=1-self.epsilon)\n",
    "        '''\n",
    "        precision = precision.clamp(min=self.epsilon, max=1-self.epsilon)\n",
    "        recall = recall.clamp(min=self.epsilon, max=1-self.epsilon)\n",
    "        '''\n",
    "        \n",
    "        '''\n",
    "        for i in range(len(y_pred_pc)):\n",
    "            y_pred_pc[i] = round(y_pred_pc[i])\n",
    "            \n",
    "        precision_pc = precision_score(y_true_pc, y_pred_pc, average='macro')\n",
    "        recall_pc = recall_score(y_true_pc, y_pred_pc, average='macro')\n",
    "        '''\n",
    "        return 1 - f1.mean(), 1\n"
   ]
  },
  {
   "cell_type": "code",
   "execution_count": 427,
   "metadata": {},
   "outputs": [
    {
     "data": {
      "image/png": "[encoded data removed]",
      "text/plain": [
       "<Figure size 864x576 with 1 Axes>"
      ]
     },
     "metadata": {
      "image/png": {
       "height": 506,
       "width": 728
      }
     },
     "output_type": "display_data"
    },
    {
     "data": {
      "text/plain": [
       "<Figure size 864x576 with 0 Axes>"
      ]
     },
     "metadata": {},
     "output_type": "display_data"
    }
   ],
   "source": [
    "ax = plt.figure().gca()\n",
    "\n",
    "ax.plot(history['train'])\n",
    "ax.plot(history['val'])\n",
    "plt.ylabel('Loss (Reconstruction Error)')\n",
    "plt.xlabel('Epoch')\n",
    "plt.legend(['train', 'test'])\n",
    "plt.title('Loss over training epochs')\n",
    "plt.show()\n",
    "plt.savefig('model_onehot_x1data_MSE_epoch200.png', dpi =200)"
   ]
  },
  {
   "cell_type": "code",
   "execution_count": 428,
   "metadata": {},
   "outputs": [],
   "source": [
    "model_path =  './models/model_onehot_x1data_MSE_epoch200.pth'\n",
    "torch.save(model, model_path)"
   ]
  },
  {
   "cell_type": "code",
   "execution_count": 126,
   "metadata": {},
   "outputs": [],
   "source": [
    "model = torch.load(model_path)  \n"
   ]
  },
  {
   "cell_type": "code",
   "execution_count": 127,
   "metadata": {},
   "outputs": [],
   "source": [
    "def predict(model, dataset):\n",
    "    predictions, losses = [], []\n",
    "    criterion = nn.MSELoss(reduction='mean').to(device)\n",
    "    with torch.no_grad():\n",
    "        model = model.eval()\n",
    "        for seq_true in dataset:\n",
    "            seq_true = seq_true.to(device)\n",
    "            seq_pred = model(seq_true)\n",
    "            loss = criterion(seq_pred, seq_true)\n",
    "            predictions.append(seq_pred.cpu().numpy().flatten())\n",
    "            losses.append(loss.item())\n",
    "    return predictions, losses"
   ]
  },
  {
   "cell_type": "raw",
   "metadata": {},
   "source": [
    "_, losses = predict(model, train_dataset)\n",
    "\n",
    "sns.distplot(losses, bins=50, kde=True);"
   ]
  },
  {
   "cell_type": "code",
   "execution_count": 121,
   "metadata": {},
   "outputs": [
    {
     "ename": "NameError",
     "evalue": "name 'test_normal_dataset' is not defined",
     "output_type": "error",
     "traceback": [
      "\u001b[0;31m---------------------------------------------------------------------------\u001b[0m",
      "\u001b[0;31mNameError\u001b[0m                                 Traceback (most recent call last)",
      "\u001b[0;32m<ipython-input-121-c085ab0c282c>\u001b[0m in \u001b[0;36m<module>\u001b[0;34m\u001b[0m\n\u001b[1;32m      1\u001b[0m \u001b[0mTHRESHOLD\u001b[0m \u001b[0;34m=\u001b[0m \u001b[0;36m26\u001b[0m\u001b[0;34m\u001b[0m\u001b[0;34m\u001b[0m\u001b[0m\n\u001b[0;32m----> 2\u001b[0;31m \u001b[0mpredictions\u001b[0m\u001b[0;34m,\u001b[0m \u001b[0mpred_losses\u001b[0m \u001b[0;34m=\u001b[0m \u001b[0mpredict\u001b[0m\u001b[0;34m(\u001b[0m\u001b[0mmodel\u001b[0m\u001b[0;34m,\u001b[0m \u001b[0mtest_normal_dataset\u001b[0m\u001b[0;34m)\u001b[0m\u001b[0;34m\u001b[0m\u001b[0;34m\u001b[0m\u001b[0m\n\u001b[0m\u001b[1;32m      3\u001b[0m \u001b[0msns\u001b[0m\u001b[0;34m.\u001b[0m\u001b[0mdistplot\u001b[0m\u001b[0;34m(\u001b[0m\u001b[0mpred_losses\u001b[0m\u001b[0;34m,\u001b[0m \u001b[0mbins\u001b[0m\u001b[0;34m=\u001b[0m\u001b[0;36m50\u001b[0m\u001b[0;34m,\u001b[0m \u001b[0mkde\u001b[0m\u001b[0;34m=\u001b[0m\u001b[0;32mTrue\u001b[0m\u001b[0;34m)\u001b[0m\u001b[0;34m;\u001b[0m\u001b[0;34m\u001b[0m\u001b[0;34m\u001b[0m\u001b[0m\n",
      "\u001b[0;31mNameError\u001b[0m: name 'test_normal_dataset' is not defined"
     ]
    }
   ],
   "source": [
    "THRESHOLD = 26\n",
    "predictions, pred_losses = predict(model, test_normal_dataset)\n",
    "sns.distplot(pred_losses, bins=50, kde=True);"
   ]
  },
  {
   "cell_type": "code",
   "execution_count": 128,
   "metadata": {},
   "outputs": [
    {
     "data": {
      "image/png": "[encoded data removed]",
      "text/plain": [
       "<Figure size 864x576 with 1 Axes>"
      ]
     },
     "metadata": {
      "image/png": {
       "height": 471,
       "width": 722
      }
     },
     "output_type": "display_data"
    }
   ],
   "source": [
    "_, losses = predict(model, train_dataset)\n",
    "\n",
    "sns.distplot(losses, bins=50, kde=True);"
   ]
  },
  {
   "cell_type": "code",
   "execution_count": null,
   "metadata": {},
   "outputs": [],
   "source": []
  }
 ],
 "metadata": {
  "kernelspec": {
   "display_name": "Python 3",
   "language": "python",
   "name": "python3"
  },
  "language_info": {
   "codemirror_mode": {
    "name": "ipython",
    "version": 3
   },
   "file_extension": ".py",
   "mimetype": "text/x-python",
   "name": "python",
   "nbconvert_exporter": "python",
   "pygments_lexer": "ipython3",
   "version": "3.8.5"
  }
 },
 "nbformat": 4,
 "nbformat_minor": 4
}
