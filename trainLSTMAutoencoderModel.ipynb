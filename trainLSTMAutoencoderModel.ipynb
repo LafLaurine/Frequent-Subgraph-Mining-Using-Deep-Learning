{
 "cells": [
  {
   "cell_type": "code",
   "execution_count": 1,
   "metadata": {},
   "outputs": [],
   "source": [
    "import torch\n",
    "import copy\n",
    "\n",
    "import seaborn as sns\n",
    "from pylab import rcParams\n",
    "import matplotlib.pyplot as plt\n",
    "from matplotlib import rc\n",
    "\n",
    "import numpy as np\n",
    "import glob, os\n",
    "import string\n",
    "from sklearn.model_selection import train_test_split\n",
    "from sklearn.metrics import f1_score, precision_score, recall_score, confusion_matrix\n",
    "from sklearn.metrics import precision_recall_fscore_support\n",
    "\n",
    "from torch import nn, optim\n",
    "\n",
    "import torch.nn.functional as F"
   ]
  },
  {
   "cell_type": "code",
   "execution_count": 2,
   "metadata": {},
   "outputs": [
    {
     "data": {
      "text/plain": [
       "'1.7.1'"
      ]
     },
     "execution_count": 2,
     "metadata": {},
     "output_type": "execute_result"
    }
   ],
   "source": [
    "torch.__version__"
   ]
  },
  {
   "cell_type": "code",
   "execution_count": 3,
   "metadata": {},
   "outputs": [
    {
     "data": {
      "text/plain": [
       "'/home/laurine/Téléchargements/Frequent-Subgraph-Mining-Using-Deep-Learning-master'"
      ]
     },
     "execution_count": 3,
     "metadata": {},
     "output_type": "execute_result"
    }
   ],
   "source": [
    "RANDOM_SEED = 42\n",
    "np.random.seed(RANDOM_SEED)\n",
    "torch.manual_seed(RANDOM_SEED)\n",
    "dir = './datasets/fsm/seq/*'\n",
    "os.getcwd()"
   ]
  },
  {
   "cell_type": "code",
   "execution_count": 4,
   "metadata": {},
   "outputs": [
    {
     "name": "stdout",
     "output_type": "stream",
     "text": [
      "./datasets/fsm/seq/*\n"
     ]
    }
   ],
   "source": [
    "print(dir)"
   ]
  },
  {
   "cell_type": "code",
   "execution_count": 5,
   "metadata": {},
   "outputs": [],
   "source": [
    "alpha = list(string.ascii_uppercase)\n",
    "chr2index = {alpha[i]:i for i in range(len(alpha))}"
   ]
  },
  {
   "cell_type": "code",
   "execution_count": 6,
   "metadata": {},
   "outputs": [
    {
     "data": {
      "text/plain": [
       "<torch._C.Generator at 0x7ff22596c970>"
      ]
     },
     "execution_count": 6,
     "metadata": {},
     "output_type": "execute_result"
    }
   ],
   "source": [
    "%matplotlib inline\n",
    "%config InlineBackend.figure_format='retina'\n",
    "\n",
    "sns.set(style='whitegrid', palette='muted', font_scale=1.2)\n",
    "\n",
    "HAPPY_COLORS_PALETTE = [\"#01BEFE\", \"#FFDD00\", \"#FF7D00\", \"#FF006D\", \"#ADFF02\", \"#8F00FF\"]\n",
    "\n",
    "sns.set_palette(sns.color_palette(HAPPY_COLORS_PALETTE))\n",
    "\n",
    "rcParams['figure.figsize'] = 12, 8\n",
    "\n",
    "RANDOM_SEED = 42\n",
    "np.random.seed(RANDOM_SEED)\n",
    "torch.manual_seed(RANDOM_SEED)"
   ]
  },
  {
   "cell_type": "code",
   "execution_count": 7,
   "metadata": {},
   "outputs": [],
   "source": [
    "def chr2OH(alphabet):\n",
    "    oh = [0 for i in range(len(alpha))]\n",
    "    index = chr2index[alphabet]\n",
    "    oh[index] = 1\n",
    "    return oh\n"
   ]
  },
  {
   "cell_type": "code",
   "execution_count": 8,
   "metadata": {},
   "outputs": [],
   "source": [
    "# file read\n",
    "all_names = []\n",
    "all_data = []\n",
    "sequence_length = []\n",
    "alpha = list(string.ascii_uppercase)\n",
    "data_length = len(glob.glob(dir))\n",
    "file_predix = './datasets/fsm/seq'\n",
    "files = glob.glob(dir)\n"
   ]
  },
  {
   "cell_type": "code",
   "execution_count": 9,
   "metadata": {},
   "outputs": [
    {
     "name": "stdout",
     "output_type": "stream",
     "text": [
      "<class 'numpy.ndarray'>\n"
     ]
    },
    {
     "data": {
      "text/plain": [
       "array([  0.    ,   0.    ,   1.    ,   0.    ,   0.    ,   0.    ,\n",
       "         0.    ,   0.    ,   0.    ,   0.    ,   0.    ,   0.    ,\n",
       "         0.    ,   0.    ,   0.    ,   0.    ,   0.    ,   0.    ,\n",
       "         0.    ,   0.    ,   0.    ,   0.    ,   0.    ,   0.    ,\n",
       "         0.    ,   0.    ,   0.    ,   1.    ,   0.    ,   0.    ,\n",
       "         0.    ,   0.    ,   0.    ,   0.    ,   0.    ,   0.    ,\n",
       "         0.    ,   0.    ,   0.    ,   0.    ,   0.    ,   0.    ,\n",
       "         0.    ,   0.    ,   0.    ,   0.    ,   0.    ,   0.    ,\n",
       "         0.    ,   0.    ,   0.    ,   0.    ,   2.1129,   0.    ,\n",
       "         0.    ,   1.    ,   0.    ,   0.    ,   0.    ,   0.    ,\n",
       "         0.    ,   0.    ,   0.    ,   0.    ,   0.    ,   0.    ,\n",
       "         0.    ,   0.    ,   0.    ,   0.    ,   0.    ,   0.    ,\n",
       "         0.    ,   0.    ,   0.    ,   0.    ,   0.    ,   0.    ,\n",
       "         0.    ,   0.    ,   0.    ,   0.    ,   1.    ,   0.    ,\n",
       "         0.    ,   0.    ,   0.    ,   0.    ,   0.    ,   0.    ,\n",
       "         0.    ,   0.    ,   0.    ,   0.    ,   0.    ,   0.    ,\n",
       "         0.    ,   0.    ,   0.    ,   0.    ,   0.    ,   0.    ,\n",
       "         0.    ,   0.    ,   0.    ,   7.7421,   0.    ,   1.    ,\n",
       "         0.    ,   0.    ,   0.    ,   0.    ,   0.    ,   0.    ,\n",
       "         0.    ,   0.    ,   0.    ,   0.    ,   0.    ,   0.    ,\n",
       "         0.    ,   0.    ,   0.    ,   0.    ,   0.    ,   0.    ,\n",
       "         0.    ,   0.    ,   0.    ,   0.    ,   0.    ,   0.    ,\n",
       "         1.    ,   0.    ,   0.    ,   0.    ,   0.    ,   0.    ,\n",
       "         0.    ,   0.    ,   0.    ,   0.    ,   0.    ,   0.    ,\n",
       "         0.    ,   0.    ,   0.    ,   0.    ,   0.    ,   0.    ,\n",
       "         0.    ,   0.    ,   0.    ,   0.    ,   0.    ,   0.    ,\n",
       "         0.    ,   0.    , 100.8838,   0.    ,   1.    ,   0.    ,\n",
       "         0.    ,   0.    ,   0.    ,   0.    ,   0.    ,   0.    ,\n",
       "         0.    ,   0.    ,   0.    ,   0.    ,   0.    ,   0.    ,\n",
       "         0.    ,   0.    ,   0.    ,   0.    ,   0.    ,   0.    ,\n",
       "         0.    ,   0.    ,   0.    ,   0.    ,   0.    ,   0.    ,\n",
       "         0.    ,   0.    ,   1.    ,   0.    ,   0.    ,   0.    ,\n",
       "         0.    ,   0.    ,   0.    ,   0.    ,   0.    ,   0.    ,\n",
       "         0.    ,   0.    ,   0.    ,   0.    ,   0.    ,   0.    ,\n",
       "         0.    ,   0.    ,   0.    ,   0.    ,   0.    ,   0.    ,\n",
       "         0.    ,   4.3936,   0.    ,   0.    ,   0.    ,   1.    ,\n",
       "         0.    ,   0.    ,   0.    ,   0.    ,   0.    ,   0.    ,\n",
       "         0.    ,   0.    ,   0.    ,   0.    ,   0.    ,   0.    ,\n",
       "         0.    ,   0.    ,   0.    ,   0.    ,   0.    ,   0.    ,\n",
       "         0.    ,   0.    ,   0.    ,   0.    ,   0.    ,   0.    ,\n",
       "         0.    ,   0.    ,   1.    ,   0.    ,   0.    ,   0.    ,\n",
       "         0.    ,   0.    ,   0.    ,   0.    ,   0.    ,   0.    ,\n",
       "         0.    ,   0.    ,   0.    ,   0.    ,   0.    ,   0.    ,\n",
       "         0.    ,   0.    ,   0.    ,   0.    ,   0.    ,   0.    ,\n",
       "        30.7458])"
      ]
     },
     "execution_count": 9,
     "metadata": {},
     "output_type": "execute_result"
    }
   ],
   "source": [
    "files = glob.glob(dir)\n",
    "for file in files:\n",
    "    datasets = []\n",
    "    all_names.append(file.split('\\\\')[-1].replace('.txt', ''))\n",
    "    for rf in open(file, 'r'):\n",
    "        (u, v, w) = rf[1:-2].split(', ')\n",
    "        datasets.append(chr2OH(u[1]) + chr2OH(v[1]) +[float(w)])\n",
    "        #datasets.append([chr2index[u[1]], chr2index[v[1]], float(w)])\n",
    "    sequence_length.append(len(datasets))\n",
    "    all_data.append(datasets)\n",
    "all_data = np.array([np.array(arr) for arr in all_data])\n",
    "\n",
    "max_sequence_length = max(sequence_length)\n",
    "zeros = np.zeros(53)\n",
    "     \n",
    "\n",
    "for ind, data in enumerate(all_data):\n",
    "    if len(data) != max_sequence_length:\n",
    "        for i in range(len(data), max_sequence_length):\n",
    "            all_data[ind] = np.vstack([all_data[ind], zeros])\n",
    "\n",
    "all_d = []\n",
    "for ind, data in enumerate(all_data):\n",
    "    all_d.append(data.flatten())\n",
    "    #all_d[ind] = data.flatten()\n",
    "    \n",
    "all_d[0]\n",
    "all_d = np.array(all_d)\n",
    "print(type(all_d))\n",
    "all_d[0]"
   ]
  },
  {
   "cell_type": "code",
   "execution_count": 10,
   "metadata": {},
   "outputs": [
    {
     "data": {
      "text/plain": [
       "device(type='cuda')"
      ]
     },
     "execution_count": 10,
     "metadata": {},
     "output_type": "execute_result"
    }
   ],
   "source": [
    "device = torch.device(\"cuda\" if torch.cuda.is_available() else \"cpu\")\n",
    "device\n"
   ]
  },
  {
   "cell_type": "code",
   "execution_count": 11,
   "metadata": {},
   "outputs": [
    {
     "data": {
      "text/plain": [
       "numpy.ndarray"
      ]
     },
     "execution_count": 11,
     "metadata": {},
     "output_type": "execute_result"
    }
   ],
   "source": [
    "x_train, x_test, train_name, test_name = train_test_split(all_data, all_names, test_size=0.3)\n",
    "x_test, x_val, test_name, val_name = train_test_split(x_test, test_name, test_size=0.33)\n",
    "type(x_train)"
   ]
  },
  {
   "cell_type": "code",
   "execution_count": 12,
   "metadata": {},
   "outputs": [],
   "source": [
    "tr_names= []\n",
    "for name in train_name:\n",
    "    tr_names.append(name.split('graph')[0])\n",
    "    #tr_names.append(name.split('-')[0].replace('graph', ''))"
   ]
  },
  {
   "cell_type": "code",
   "execution_count": 13,
   "metadata": {},
   "outputs": [
    {
     "data": {
      "text/plain": [
       "'./datasets/fsm/seq/1'"
      ]
     },
     "execution_count": 13,
     "metadata": {},
     "output_type": "execute_result"
    }
   ],
   "source": [
    "tr_names[0]"
   ]
  },
  {
   "cell_type": "code",
   "execution_count": 14,
   "metadata": {},
   "outputs": [
    {
     "data": {
      "text/plain": [
       "5"
      ]
     },
     "execution_count": 14,
     "metadata": {},
     "output_type": "execute_result"
    }
   ],
   "source": [
    "max_sequence_length = max(sequence_length) #sequence_len\n",
    "n_features = 3\n",
    "batch_size = 32\n",
    "#epochs = 200\n",
    "epochs = 10\n",
    "steps_per_epoch = len(x_train) #n_sequence\n",
    "max_sequence_length"
   ]
  },
  {
   "cell_type": "code",
   "execution_count": 15,
   "metadata": {},
   "outputs": [],
   "source": [
    "\n",
    "def create_dataset_1(nparrays):\n",
    "    dataset = [torch.tensor(s).unsqueeze(0).float() for s in nparrays]\n",
    "  #step_per_epoch, seq_len, llen, n_features = torch.stack(dataset).shape\n",
    "    #n_seq, m ,seq_len, n_features = print(torch.stack(dataset).shape)\n",
    "    print(torch.stack(dataset).shape)\n",
    "    n_seq, seq_len, n_features = torch.stack(dataset).shape\n",
    "    #print( n_seq, m , seq_len, n_features )\n",
    "    return dataset, seq_len, n_features"
   ]
  },
  {
   "cell_type": "code",
   "execution_count": 16,
   "metadata": {},
   "outputs": [],
   "source": [
    "\n",
    "def create_dataset_0(nparrays):\n",
    "    #dataset = [torch.tensor(s).float() for s in nparrays]\n",
    "  #step_per_epoch, seq_len, llen, n_features = torch.stack(dataset).shape\n",
    "    dataset = torch.from_numpy(nparrays)\n",
    "    #n_features  = torch.stack(dataset).shape\n",
    "    shape_list = list(dataset.shape)\n",
    "    print(\"dataset: \" , shape_list)\n",
    "    seq_len = shape_list[1]\n",
    "    n_features = shape_list[2]\n",
    "    return dataset, seq_len, n_features"
   ]
  },
  {
   "cell_type": "code",
   "execution_count": 17,
   "metadata": {},
   "outputs": [],
   "source": [
    "x_train_2d, x_test_2d, train_name_2d, test_name_2d = train_test_split(all_data, all_names, test_size=0.3)\n",
    "x_test_2d, x_val_2d, test_name_2d, val_name_2d = train_test_split(x_test_2d, test_name_2d, test_size=0.33)"
   ]
  },
  {
   "cell_type": "code",
   "execution_count": 18,
   "metadata": {},
   "outputs": [
    {
     "name": "stdout",
     "output_type": "stream",
     "text": [
      "dataset:  [617, 5, 53]\n",
      "dataset:  [88, 5, 53]\n",
      "5\n",
      "53\n",
      "tensor([[ 1.0000,  0.0000,  0.0000,  0.0000,  0.0000,  0.0000,  0.0000,  0.0000,\n",
      "          0.0000,  0.0000,  0.0000,  0.0000,  0.0000,  0.0000,  0.0000,  0.0000,\n",
      "          0.0000,  0.0000,  0.0000,  0.0000,  0.0000,  0.0000,  0.0000,  0.0000,\n",
      "          0.0000,  0.0000,  0.0000,  1.0000,  0.0000,  0.0000,  0.0000,  0.0000,\n",
      "          0.0000,  0.0000,  0.0000,  0.0000,  0.0000,  0.0000,  0.0000,  0.0000,\n",
      "          0.0000,  0.0000,  0.0000,  0.0000,  0.0000,  0.0000,  0.0000,  0.0000,\n",
      "          0.0000,  0.0000,  0.0000,  0.0000, 10.0133],\n",
      "        [ 0.0000,  1.0000,  0.0000,  0.0000,  0.0000,  0.0000,  0.0000,  0.0000,\n",
      "          0.0000,  0.0000,  0.0000,  0.0000,  0.0000,  0.0000,  0.0000,  0.0000,\n",
      "          0.0000,  0.0000,  0.0000,  0.0000,  0.0000,  0.0000,  0.0000,  0.0000,\n",
      "          0.0000,  0.0000,  0.0000,  0.0000,  1.0000,  0.0000,  0.0000,  0.0000,\n",
      "          0.0000,  0.0000,  0.0000,  0.0000,  0.0000,  0.0000,  0.0000,  0.0000,\n",
      "          0.0000,  0.0000,  0.0000,  0.0000,  0.0000,  0.0000,  0.0000,  0.0000,\n",
      "          0.0000,  0.0000,  0.0000,  0.0000,  2.6324],\n",
      "        [ 0.0000,  1.0000,  0.0000,  0.0000,  0.0000,  0.0000,  0.0000,  0.0000,\n",
      "          0.0000,  0.0000,  0.0000,  0.0000,  0.0000,  0.0000,  0.0000,  0.0000,\n",
      "          0.0000,  0.0000,  0.0000,  0.0000,  0.0000,  0.0000,  0.0000,  0.0000,\n",
      "          0.0000,  0.0000,  0.0000,  0.0000,  0.0000,  1.0000,  0.0000,  0.0000,\n",
      "          0.0000,  0.0000,  0.0000,  0.0000,  0.0000,  0.0000,  0.0000,  0.0000,\n",
      "          0.0000,  0.0000,  0.0000,  0.0000,  0.0000,  0.0000,  0.0000,  0.0000,\n",
      "          0.0000,  0.0000,  0.0000,  0.0000,  4.2282],\n",
      "        [ 0.0000,  0.0000,  1.0000,  0.0000,  0.0000,  0.0000,  0.0000,  0.0000,\n",
      "          0.0000,  0.0000,  0.0000,  0.0000,  0.0000,  0.0000,  0.0000,  0.0000,\n",
      "          0.0000,  0.0000,  0.0000,  0.0000,  0.0000,  0.0000,  0.0000,  0.0000,\n",
      "          0.0000,  0.0000,  0.0000,  0.0000,  0.0000,  1.0000,  0.0000,  0.0000,\n",
      "          0.0000,  0.0000,  0.0000,  0.0000,  0.0000,  0.0000,  0.0000,  0.0000,\n",
      "          0.0000,  0.0000,  0.0000,  0.0000,  0.0000,  0.0000,  0.0000,  0.0000,\n",
      "          0.0000,  0.0000,  0.0000,  0.0000,  7.8390],\n",
      "        [ 0.0000,  0.0000,  1.0000,  0.0000,  0.0000,  0.0000,  0.0000,  0.0000,\n",
      "          0.0000,  0.0000,  0.0000,  0.0000,  0.0000,  0.0000,  0.0000,  0.0000,\n",
      "          0.0000,  0.0000,  0.0000,  0.0000,  0.0000,  0.0000,  0.0000,  0.0000,\n",
      "          0.0000,  0.0000,  0.0000,  0.0000,  0.0000,  0.0000,  1.0000,  0.0000,\n",
      "          0.0000,  0.0000,  0.0000,  0.0000,  0.0000,  0.0000,  0.0000,  0.0000,\n",
      "          0.0000,  0.0000,  0.0000,  0.0000,  0.0000,  0.0000,  0.0000,  0.0000,\n",
      "          0.0000,  0.0000,  0.0000,  0.0000,  2.1824]], dtype=torch.float64)\n"
     ]
    }
   ],
   "source": [
    "x_train_2d, x_test_2d, train_name_2d, test_name_2d = train_test_split(all_data, all_names, test_size=0.3)\n",
    "x_test_2d, x_val_2d, test_name_2d, val_name_2d = train_test_split(x_test_2d, test_name_2d, test_size=0.33)\n",
    "type(x_train_2d)\n",
    "train_dataset_2d, seq_len_2d, n_features_2d = create_dataset_0(x_train_2d)\n",
    "val_dataset_2d, _, _ = create_dataset_0(x_val_2d)\n",
    "\n",
    "print(seq_len_2d)\n",
    "print(n_features_2d)\n",
    "print(train_dataset_2d[0])"
   ]
  },
  {
   "cell_type": "code",
   "execution_count": 19,
   "metadata": {},
   "outputs": [
    {
     "name": "stdout",
     "output_type": "stream",
     "text": [
      "torch.Size([617, 1, 265])\n",
      "torch.Size([88, 1, 265])\n",
      "1\n",
      "265\n"
     ]
    }
   ],
   "source": [
    "x_train_1d , x_test_1d , train_name_1d , test_name_1d = train_test_split(all_d, all_names, test_size=0.3)\n",
    "x_test_1d , x_val_1d , test_name_1d , val_name_1d  = train_test_split(x_test_1d, test_name_1d, test_size=0.33)\n",
    "type(x_train_1d )\n",
    "train_dataset_1d , seq_len_1d , n_features_1d  = create_dataset_1(x_train_1d )\n",
    "val_dataset_1d , _, _ = create_dataset_1(x_val_1d )\n",
    "train_dataset_1d[0]\n",
    "print(seq_len_1d)\n",
    "print(n_features_1d)"
   ]
  },
  {
   "cell_type": "code",
   "execution_count": null,
   "metadata": {},
   "outputs": [],
   "source": []
  },
  {
   "cell_type": "code",
   "execution_count": null,
   "metadata": {},
   "outputs": [],
   "source": []
  },
  {
   "cell_type": "code",
   "execution_count": 20,
   "metadata": {},
   "outputs": [],
   "source": [
    "class Encoder(nn.Module):\n",
    "    def __init__(self, seq_len, n_features, embedding_dim=64):\n",
    "        super(Encoder, self).__init__()\n",
    "        \n",
    "        self.seq_len, self.n_features = seq_len, n_features\n",
    "        self.embedding_dim, self.hidden_dim = embedding_dim, 2 * embedding_dim\n",
    "        \n",
    "        self.rnn1 = nn.LSTM(\n",
    "          input_size=n_features,\n",
    "          hidden_size=self.hidden_dim,\n",
    "          num_layers=1,\n",
    "          batch_first=True\n",
    "        )\n",
    "        self.rnn2 = nn.LSTM(\n",
    "          input_size=self.hidden_dim,\n",
    "          hidden_size=embedding_dim,\n",
    "          num_layers=1,\n",
    "          batch_first=True\n",
    "        )\n",
    "    def forward(self, x):\n",
    "\n",
    "        x = x.reshape((1, self.seq_len, self.n_features))\n",
    "        \n",
    "        x, (_, _) = self.rnn1(x)\n",
    "        x, (hidden_n, _) = self.rnn2(x)\n",
    "        \n",
    "        return hidden_n.reshape((self.seq_len, self.embedding_dim))"
   ]
  },
  {
   "cell_type": "code",
   "execution_count": 21,
   "metadata": {},
   "outputs": [],
   "source": [
    "class Decoder(nn.Module):\n",
    "    def __init__(self, seq_len, input_dim=64, n_features=1):\n",
    "        super(Decoder, self).__init__()\n",
    "        \n",
    "        self.seq_len, self.input_dim = seq_len, input_dim\n",
    "        self.hidden_dim, self.n_features = 2 * input_dim, n_features\n",
    "       \n",
    "        self.rnn1 = nn.LSTM(\n",
    "            input_size=input_dim,\n",
    "            hidden_size=input_dim,\n",
    "            num_layers=1,\n",
    "            batch_first=True\n",
    "        )\n",
    "        self.rnn2 = nn.LSTM(\n",
    "            input_size=input_dim,\n",
    "            hidden_size=self.hidden_dim,\n",
    "            num_layers=1,\n",
    "            batch_first=True\n",
    "        )\n",
    "        \n",
    "        self.output_layer = nn.Linear(self.hidden_dim, n_features)\n",
    "    def forward(self, x):\n",
    "        x = x.repeat(self.seq_len, self.n_features)\n",
    "        x = x.reshape((self.n_features, self.seq_len, self.input_dim))\n",
    "        \n",
    "        x, (hidden_n, cell_n) = self.rnn1(x)\n",
    "        x, (hidden_n, cell_n) = self.rnn2(x)\n",
    "        x = x.reshape((self.n_features, self.hidden_dim))\n",
    "        return self.output_layer(x)"
   ]
  },
  {
   "cell_type": "code",
   "execution_count": 22,
   "metadata": {},
   "outputs": [],
   "source": [
    "class RecurrentAutoencoder(nn.Module):\n",
    "    def __init__(self, seq_len, n_features, embedding_dim=64):\n",
    "        super(RecurrentAutoencoder, self).__init__()\n",
    "        self.encoder = Encoder(seq_len, n_features, embedding_dim).to(device)\n",
    "        self.decoder = Decoder(seq_len, embedding_dim, n_features).to(device)\n",
    "    def forward(self, x):\n",
    "        x = self.encoder(x)\n",
    "        x = self.decoder(x)\n",
    "        return x"
   ]
  },
  {
   "cell_type": "code",
   "execution_count": 23,
   "metadata": {},
   "outputs": [],
   "source": [
    "\n",
    "model = RecurrentAutoencoder(seq_len_1d  , n_features_1d , 128) #alphabe 26 -> 26  weight 1\n",
    "model = model.to(device)"
   ]
  },
  {
   "cell_type": "code",
   "execution_count": 27,
   "metadata": {},
   "outputs": [],
   "source": [
    "class F1_Loss(nn.Module):\n",
    "\n",
    "    def __init__(self, epsilon=1e-1):\n",
    "        super().__init__()\n",
    "        self.epsilon = epsilon\n",
    "        \n",
    "    def forward(self, y_pred, y_true):\n",
    "      \n",
    "        print(y_pred);\n",
    "        y_true = y_true.flatten().to(torch.long)\n",
    "        assert y_pred.ndim == 2\n",
    "        assert y_true.ndim == 1\n",
    "        \n",
    "        y_true = F.one_hot(y_true, 10).to(torch.float64)\n",
    "        y_pred = F.softmax(y_pred, dim=1)\n",
    "        tp = (y_true * y_pred).sum(dim=0).to(torch.float64)\n",
    "        tn = ((1 - y_true) * (1 - y_pred)).sum(dim=0).to(torch.float64)\n",
    "        fp = ((1 - y_true) * y_pred).sum(dim=0).to(torch.float64)\n",
    "        fn = (y_true * (1 - y_pred)).sum(dim=0).to(torch.float64)\n",
    "        \n",
    "        precision = tp / (tp + fp + self.epsilon)\n",
    "        recall = tp / (tp + fn + self.epsilon)\n",
    "        f1 = 2* (precision*recall) / (precision + recall + self.epsilon)\n",
    "        \n",
    "        print(precision);\n",
    "        print(recall);\n",
    "     \n",
    "        f1 = f1.clamp(min=self.epsilon, max=1-self.epsilon)\n",
    "        '''\n",
    "        precision = precision.clamp(min=self.epsilon, max=1-self.epsilon)\n",
    "        recall = recall.clamp(min=self.epsilon, max=1-self.epsilon)\n",
    "        '''\n",
    "        \n",
    "        '''\n",
    "        for i in range(len(y_pred_pc)):\n",
    "            y_pred_pc[i] = round(y_pred_pc[i])\n",
    "            \n",
    "        precision_pc = precision_score(y_true_pc, y_pred_pc, average='macro')\n",
    "        recall_pc = recall_score(y_true_pc, y_pred_pc, average='macro')\n",
    "        '''\n",
    "        return 1 - f1.mean(), 1- precision.mean(), 1- recall.mean()\n",
    "    \n",
    "f1_loss = F1_Loss().cuda()"
   ]
  },
  {
   "cell_type": "code",
   "execution_count": 28,
   "metadata": {},
   "outputs": [],
   "source": [
    "def train_model(model, train_dataset, val_dataset, n_epochs):\n",
    "    optimizer = torch.optim.Adam(model.parameters(), lr=1e-3)\n",
    "  #criterion = nn.L1Loss(reduction='sum').to(device)\n",
    "    criterion = nn.MSELoss(reduction='mean').to(device)\n",
    "    history = dict(train=[], val=[])\n",
    "    \n",
    "    best_model_wts = copy.deepcopy(model.state_dict())\n",
    "    best_loss = 10000.0\n",
    "    \n",
    "    for epoch in range(1, n_epochs + 1):\n",
    "        model = model.train()\n",
    "        \n",
    "        train_losses = []\n",
    "        for seq_true in train_dataset:\n",
    "            optimizer.zero_grad()\n",
    "            \n",
    "            seq_true = seq_true.to(device)\n",
    "            seq_pred = model(seq_true)\n",
    "            \n",
    "            loss = criterion(seq_pred, seq_true)\n",
    "            \n",
    "            loss.backward()\n",
    "            optimizer.step()\n",
    "            \n",
    "        \n",
    "            train_losses.append(loss.item())\n",
    "            \n",
    "        val_losses = []\n",
    "        model = model.eval()\n",
    "    \n",
    "        with torch.no_grad():\n",
    "            for seq_true in val_dataset:\n",
    "            \n",
    "                seq_true = seq_true.to(device)\n",
    "                seq_pred = model(seq_true)\n",
    "\n",
    "                loss = criterion(seq_pred, seq_true)\n",
    "                val_losses.append(loss.item())\n",
    "            \n",
    "        train_loss = np.mean(train_losses)\n",
    "        val_loss = np.mean(val_losses)\n",
    "    \n",
    "        history['train'].append(train_loss)\n",
    "        history['val'].append(val_loss)\n",
    "\n",
    "        if val_loss < best_loss:\n",
    "            best_loss = val_loss\n",
    "            best_model_wts = copy.deepcopy(model.state_dict())\n",
    "        \n",
    "        print(f'Epoch {epoch}: train loss {train_loss} val loss {val_loss}')\n",
    "    \n",
    "    model.load_state_dict(best_model_wts)\n",
    "    return model.eval(), history"
   ]
  },
  {
   "cell_type": "code",
   "execution_count": 29,
   "metadata": {
    "scrolled": true
   },
   "outputs": [
    {
     "name": "stdout",
     "output_type": "stream",
     "text": [
      "Epoch 1: train loss 0.019265967371658085 val loss 0.021110963614773937\n",
      "Epoch 2: train loss 0.010708698069699776 val loss 0.01997690244752448\n",
      "Epoch 3: train loss 0.01393692079467157 val loss 0.020780988753275862\n",
      "Epoch 4: train loss 1.5561200330909184 val loss 1.2056141508139924\n",
      "Epoch 5: train loss 0.602420238431485 val loss 0.05810032385158014\n",
      "Epoch 6: train loss 0.017375714623950787 val loss 0.014860871618359604\n",
      "Epoch 7: train loss 0.01324157880250677 val loss 0.02419667506050742\n",
      "Epoch 8: train loss 0.010794371156736293 val loss 0.01626975123839326\n",
      "Epoch 9: train loss 0.012889018121822261 val loss 0.02492055290151091\n",
      "Epoch 10: train loss 0.010434626760127285 val loss 0.016819367426003075\n",
      "Epoch 11: train loss 0.011706716108135501 val loss 0.022419715724853715\n",
      "Epoch 12: train loss 0.011315754907412493 val loss 0.0179814787420169\n",
      "Epoch 13: train loss 0.010905850831937344 val loss 0.0231850771775829\n",
      "Epoch 14: train loss 0.011055271194391541 val loss 0.020331478503067046\n",
      "Epoch 15: train loss 0.010677753549136713 val loss 0.019782204942947083\n",
      "Epoch 16: train loss 0.010321697439310462 val loss 0.019977666964140637\n",
      "Epoch 17: train loss 0.010746792114092222 val loss 0.017736879230307586\n",
      "Epoch 18: train loss 0.010649752989184939 val loss 0.0216051779279951\n",
      "Epoch 19: train loss 0.7675881103698898 val loss 1.1091206747236853\n",
      "Epoch 20: train loss 0.438081928590402 val loss 0.024068881389790808\n",
      "Epoch 21: train loss 0.011026425237693436 val loss 0.022891820926981218\n",
      "Epoch 22: train loss 0.011166082911023181 val loss 0.030864670584295793\n",
      "Epoch 23: train loss 0.010996847495414405 val loss 0.02930272618753158\n",
      "Epoch 24: train loss 0.01172719131170744 val loss 0.03044497842016757\n",
      "Epoch 25: train loss 0.011546719910109391 val loss 0.03038097833103331\n",
      "Epoch 26: train loss 0.011477988267498924 val loss 0.029829396739263426\n",
      "Epoch 27: train loss 0.01167380511905995 val loss 0.028956015178912574\n",
      "Epoch 28: train loss 0.011477767135368697 val loss 0.031117564829235726\n",
      "Epoch 29: train loss 0.011880345363132172 val loss 0.030146002694064835\n",
      "Epoch 30: train loss 0.011751626269149214 val loss 0.02933797181652732\n",
      "Epoch 31: train loss 0.011670767880648464 val loss 0.03379041539764413\n",
      "Epoch 32: train loss 0.011436943995383888 val loss 0.0295632541555361\n",
      "Epoch 33: train loss 0.010885714571598488 val loss 0.031526427242418074\n",
      "Epoch 34: train loss 0.010455936028088504 val loss 0.033539765933793125\n",
      "Epoch 35: train loss 0.009686149064979005 val loss 0.02900700086584865\n",
      "Epoch 36: train loss 0.009717767628227139 val loss 0.029119088346223263\n",
      "Epoch 37: train loss 0.00953301980405083 val loss 0.02716037206912667\n",
      "Epoch 38: train loss 0.00955712205963964 val loss 0.027979767955416304\n",
      "Epoch 39: train loss 0.009924731694589817 val loss 0.02838302879932929\n",
      "Epoch 40: train loss 0.009570817875600763 val loss 0.026266590972558002\n",
      "Epoch 41: train loss 0.00953715791746731 val loss 0.026318292408673602\n",
      "Epoch 42: train loss 0.12887016101513885 val loss 0.03467674438434187\n",
      "Epoch 43: train loss 0.011080921002391218 val loss 0.02516286844646939\n",
      "Epoch 44: train loss 0.010724519607361944 val loss 0.03138948846026324\n",
      "Epoch 45: train loss 0.011629417003547499 val loss 0.02926127400661988\n",
      "Epoch 46: train loss 0.01128575136614103 val loss 0.025868425755602817\n",
      "Epoch 47: train loss 0.01021599648431671 val loss 0.029350254086735236\n",
      "Epoch 48: train loss 0.009667744530618456 val loss 0.027836622956039555\n",
      "Epoch 49: train loss 0.008965599801622684 val loss 0.027207526576768778\n",
      "Epoch 50: train loss 0.008749567030463368 val loss 0.030051936638880183\n",
      "Epoch 51: train loss 0.009572849595325665 val loss 0.026909233200554314\n",
      "Epoch 52: train loss 0.009304498948535703 val loss 0.029424514243146405\n",
      "Epoch 53: train loss 0.00902411573316213 val loss 0.025776472123900683\n",
      "Epoch 54: train loss 0.00972121208064191 val loss 0.03260785447094928\n",
      "Epoch 55: train loss 0.009638026617169289 val loss 0.02472192746460099\n",
      "Epoch 56: train loss 0.009397456924430272 val loss 0.03047108011246151\n",
      "Epoch 57: train loss 0.008720243549105717 val loss 0.02614478155076292\n",
      "Epoch 58: train loss 0.009285832427224526 val loss 0.026390403374204074\n",
      "Epoch 59: train loss 0.00937759071009081 val loss 0.026464086154274726\n",
      "Epoch 60: train loss 0.009148132867933397 val loss 0.026895861666575496\n",
      "Epoch 61: train loss 0.00936543722608224 val loss 0.02562406002041164\n",
      "Epoch 62: train loss 0.00877941959844453 val loss 0.02976808882456019\n",
      "Epoch 63: train loss 0.008899605789927862 val loss 0.024336821333484047\n",
      "Epoch 64: train loss 0.00932558518278279 val loss 0.02660944517596032\n",
      "Epoch 65: train loss 0.010258467251506998 val loss 0.02900504596817138\n",
      "Epoch 66: train loss 0.008173997721308767 val loss 0.02287229007263456\n",
      "Epoch 67: train loss 0.007997779835168743 val loss 0.02290535761263031\n",
      "Epoch 68: train loss 0.00924418683518445 val loss 0.023348919641152446\n",
      "Epoch 69: train loss 0.00884933329298749 val loss 0.024746202359065963\n",
      "Epoch 70: train loss 0.008372406533123425 val loss 0.022299928090598605\n",
      "Epoch 71: train loss 0.6071392314110821 val loss 0.025028701036221304\n",
      "Epoch 72: train loss 0.008785836298589544 val loss 0.022244337733850858\n",
      "Epoch 73: train loss 0.009160436714311264 val loss 0.02414063632485605\n",
      "Epoch 74: train loss 0.007923691671006185 val loss 0.02723733490711311\n",
      "Epoch 75: train loss 0.007594755328160551 val loss 0.0218096270751134\n",
      "Epoch 76: train loss 0.008188470580321329 val loss 0.027633416212417862\n",
      "Epoch 77: train loss 0.00790864423728594 val loss 0.022307837403125384\n",
      "Epoch 78: train loss 0.007928047017995748 val loss 0.02592831808182051\n",
      "Epoch 79: train loss 0.007892748224336731 val loss 0.02264312120744514\n",
      "Epoch 80: train loss 0.008648432343685019 val loss 0.023923190407830672\n",
      "Epoch 81: train loss 0.007961144125913767 val loss 0.0205285513002309\n",
      "Epoch 82: train loss 0.008278784240400053 val loss 0.023264597361214164\n",
      "Epoch 83: train loss 0.00806329106000034 val loss 0.021950455774045127\n",
      "Epoch 84: train loss 0.008690707017402497 val loss 0.020163740114102522\n",
      "Epoch 85: train loss 0.008107425947305694 val loss 0.021420924183489246\n",
      "Epoch 86: train loss 0.008152136721137331 val loss 0.019835328208996958\n",
      "Epoch 87: train loss 0.008407961488509422 val loss 0.024953677783990068\n",
      "Epoch 88: train loss 0.007753383255564808 val loss 0.017847073919256218\n",
      "Epoch 89: train loss 0.008678153976657964 val loss 0.023774312892452475\n",
      "Epoch 90: train loss 0.00734866161573553 val loss 0.01526916602597339\n",
      "Epoch 91: train loss 0.008877501121827445 val loss 0.017973657659075052\n",
      "Epoch 92: train loss 0.008084228750902913 val loss 0.01606699212755881\n",
      "Epoch 93: train loss 0.007545392230638745 val loss 0.01762388358342419\n",
      "Epoch 94: train loss 0.007901720501621827 val loss 0.01858923818905499\n",
      "Epoch 95: train loss 0.0079463547619431 val loss 0.015847199081194543\n",
      "Epoch 96: train loss 0.008333974177951961 val loss 0.01869552629002349\n",
      "Epoch 97: train loss 0.0075358934017350915 val loss 0.015963947305532532\n",
      "Epoch 98: train loss 0.007407236392743738 val loss 0.017862940418787977\n",
      "Epoch 99: train loss 0.007829560761133263 val loss 0.016394461181004193\n",
      "Epoch 100: train loss 0.007988951382020826 val loss 0.018526488274140072\n"
     ]
    }
   ],
   "source": [
    "model, history = train_model(\n",
    "  model, \n",
    "  train_dataset_1d, \n",
    "  val_dataset_1d, \n",
    "  n_epochs= 100\n",
    ")"
   ]
  },
  {
   "cell_type": "code",
   "execution_count": null,
   "metadata": {},
   "outputs": [],
   "source": []
  },
  {
   "cell_type": "raw",
   "metadata": {},
   "source": [
    "class F1_Loss(nn.Module):\n",
    "\n",
    "    def __init__(self, epsilon=1e-1):\n",
    "        super().__init__()\n",
    "        self.epsilon = epsilon\n",
    "        \n",
    "    def forward(self, y_pred, y_true):\n",
    "      \n",
    "        print(y_pred);\n",
    "        y_true = y_true.flatten().to(torch.long)\n",
    "        assert y_pred.ndim == 2\n",
    "        assert y_true.ndim == 1\n",
    "        \n",
    "        y_true = F.one_hot(y_true, 10).to(torch.float64)\n",
    "        y_pred = F.softmax(y_pred, dim=1)\n",
    "        tp = (y_true * y_pred).sum(dim=0).to(torch.float64)\n",
    "        tn = ((1 - y_true) * (1 - y_pred)).sum(dim=0).to(torch.float64)\n",
    "        fp = ((1 - y_true) * y_pred).sum(dim=0).to(torch.float64)\n",
    "        fn = (y_true * (1 - y_pred)).sum(dim=0).to(torch.float64)\n",
    "        \n",
    "        precision = tp / (tp + fp + self.epsilon)\n",
    "        recall = tp / (tp + fn + self.epsilon)\n",
    "        f1 = 2* (precision*recall) / (precision + recall + self.epsilon)\n",
    "        \n",
    "        print(precision);\n",
    "        print(recall);\n",
    "     \n",
    "        f1 = f1.clamp(min=self.epsilon, max=1-self.epsilon)\n",
    "        '''\n",
    "        precision = precision.clamp(min=self.epsilon, max=1-self.epsilon)\n",
    "        recall = recall.clamp(min=self.epsilon, max=1-self.epsilon)\n",
    "        '''\n",
    "        \n",
    "        '''\n",
    "        for i in range(len(y_pred_pc)):\n",
    "            y_pred_pc[i] = round(y_pred_pc[i])\n",
    "            \n",
    "        precision_pc = precision_score(y_true_pc, y_pred_pc, average='macro')\n",
    "        recall_pc = recall_score(y_true_pc, y_pred_pc, average='macro')\n",
    "        '''\n",
    "        return 1 - f1.mean(), 1\n"
   ]
  },
  {
   "cell_type": "code",
   "execution_count": 48,
   "metadata": {},
   "outputs": [
    {
     "data": {
      "image/png": "[encoded data removed]",
      "text/plain": [
       "<Figure size 864x576 with 1 Axes>"
      ]
     },
     "metadata": {
      "image/png": {
       "height": 506,
       "width": 732
      }
     },
     "output_type": "display_data"
    },
    {
     "data": {
      "text/plain": [
       "<Figure size 864x576 with 0 Axes>"
      ]
     },
     "metadata": {},
     "output_type": "display_data"
    }
   ],
   "source": [
    "ax = plt.figure().gca()\n",
    "\n",
    "ax.plot(history['train'])\n",
    "ax.plot(history['val'])\n",
    "plt.ylabel('Loss (Reconstruction Error)')\n",
    "plt.xlabel('Epoch')\n",
    "plt.legend(['train', 'test'])\n",
    "plt.title('Loss over training epochs')\n",
    "plt.show()\n",
    "plt.savefig('image/model_onehot_x1data_MSE_epoch200.png', dpi =200)"
   ]
  },
  {
   "cell_type": "code",
   "execution_count": 41,
   "metadata": {},
   "outputs": [],
   "source": [
    "model_path =  './models/model_onehot_x1data_MSE_epoch200.pth'\n",
    "torch.save(model, model_path)"
   ]
  },
  {
   "cell_type": "code",
   "execution_count": 42,
   "metadata": {},
   "outputs": [],
   "source": [
    "model = torch.load(model_path)"
   ]
  },
  {
   "cell_type": "code",
   "execution_count": 43,
   "metadata": {},
   "outputs": [],
   "source": [
    "def predict(model, dataset):\n",
    "    predictions, losses = [], []\n",
    "    criterion = nn.MSELoss(reduction='mean').to(device)\n",
    "    with torch.no_grad():\n",
    "        model = model.eval()\n",
    "        for seq_true in dataset:\n",
    "            seq_true = seq_true.to(device)\n",
    "            seq_pred = model(seq_true)\n",
    "            loss = criterion(seq_pred, seq_true)\n",
    "            predictions.append(seq_pred.cpu().numpy().flatten())\n",
    "            losses.append(loss.item())\n",
    "    return predictions, losses"
   ]
  },
  {
   "cell_type": "raw",
   "metadata": {},
   "source": [
    "_, losses = predict(model, train_dataset)\n",
    "\n",
    "sns.distplot(losses, bins=50, kde=True);"
   ]
  },
  {
   "cell_type": "code",
   "execution_count": 44,
   "metadata": {},
   "outputs": [
    {
     "ename": "NameError",
     "evalue": "name 'test_normal_dataset' is not defined",
     "output_type": "error",
     "traceback": [
      "\u001b[0;31m---------------------------------------------------------------------------\u001b[0m",
      "\u001b[0;31mNameError\u001b[0m                                 Traceback (most recent call last)",
      "\u001b[0;32m<ipython-input-44-c085ab0c282c>\u001b[0m in \u001b[0;36m<module>\u001b[0;34m\u001b[0m\n\u001b[1;32m      1\u001b[0m \u001b[0mTHRESHOLD\u001b[0m \u001b[0;34m=\u001b[0m \u001b[0;36m26\u001b[0m\u001b[0;34m\u001b[0m\u001b[0;34m\u001b[0m\u001b[0m\n\u001b[0;32m----> 2\u001b[0;31m \u001b[0mpredictions\u001b[0m\u001b[0;34m,\u001b[0m \u001b[0mpred_losses\u001b[0m \u001b[0;34m=\u001b[0m \u001b[0mpredict\u001b[0m\u001b[0;34m(\u001b[0m\u001b[0mmodel\u001b[0m\u001b[0;34m,\u001b[0m \u001b[0mtest_normal_dataset\u001b[0m\u001b[0;34m)\u001b[0m\u001b[0;34m\u001b[0m\u001b[0;34m\u001b[0m\u001b[0m\n\u001b[0m\u001b[1;32m      3\u001b[0m \u001b[0msns\u001b[0m\u001b[0;34m.\u001b[0m\u001b[0mdistplot\u001b[0m\u001b[0;34m(\u001b[0m\u001b[0mpred_losses\u001b[0m\u001b[0;34m,\u001b[0m \u001b[0mbins\u001b[0m\u001b[0;34m=\u001b[0m\u001b[0;36m50\u001b[0m\u001b[0;34m,\u001b[0m \u001b[0mkde\u001b[0m\u001b[0;34m=\u001b[0m\u001b[0;32mTrue\u001b[0m\u001b[0;34m)\u001b[0m\u001b[0;34m;\u001b[0m\u001b[0;34m\u001b[0m\u001b[0;34m\u001b[0m\u001b[0m\n",
      "\u001b[0;31mNameError\u001b[0m: name 'test_normal_dataset' is not defined"
     ]
    }
   ],
   "source": [
    "THRESHOLD = 26\n",
    "predictions, pred_losses = predict(model, test_normal_dataset)\n",
    "sns.distplot(pred_losses, bins=50, kde=True);"
   ]
  },
  {
   "cell_type": "code",
   "execution_count": 45,
   "metadata": {},
   "outputs": [
    {
     "ename": "NameError",
     "evalue": "name 'train_dataset' is not defined",
     "output_type": "error",
     "traceback": [
      "\u001b[0;31m---------------------------------------------------------------------------\u001b[0m",
      "\u001b[0;31mNameError\u001b[0m                                 Traceback (most recent call last)",
      "\u001b[0;32m<ipython-input-45-b1e9518eed74>\u001b[0m in \u001b[0;36m<module>\u001b[0;34m\u001b[0m\n\u001b[0;32m----> 1\u001b[0;31m \u001b[0m_\u001b[0m\u001b[0;34m,\u001b[0m \u001b[0mlosses\u001b[0m \u001b[0;34m=\u001b[0m \u001b[0mpredict\u001b[0m\u001b[0;34m(\u001b[0m\u001b[0mmodel\u001b[0m\u001b[0;34m,\u001b[0m \u001b[0mtrain_dataset\u001b[0m\u001b[0;34m)\u001b[0m\u001b[0;34m\u001b[0m\u001b[0;34m\u001b[0m\u001b[0m\n\u001b[0m\u001b[1;32m      2\u001b[0m \u001b[0;34m\u001b[0m\u001b[0m\n\u001b[1;32m      3\u001b[0m \u001b[0msns\u001b[0m\u001b[0;34m.\u001b[0m\u001b[0mdistplot\u001b[0m\u001b[0;34m(\u001b[0m\u001b[0mlosses\u001b[0m\u001b[0;34m,\u001b[0m \u001b[0mbins\u001b[0m\u001b[0;34m=\u001b[0m\u001b[0;36m50\u001b[0m\u001b[0;34m,\u001b[0m \u001b[0mkde\u001b[0m\u001b[0;34m=\u001b[0m\u001b[0;32mTrue\u001b[0m\u001b[0;34m)\u001b[0m\u001b[0;34m;\u001b[0m\u001b[0;34m\u001b[0m\u001b[0;34m\u001b[0m\u001b[0m\n",
      "\u001b[0;31mNameError\u001b[0m: name 'train_dataset' is not defined"
     ]
    }
   ],
   "source": [
    "_, losses = predict(model, train_dataset)\n",
    "\n",
    "sns.distplot(losses, bins=50, kde=True);"
   ]
  },
  {
   "cell_type": "code",
   "execution_count": null,
   "metadata": {},
   "outputs": [],
   "source": []
  }
 ],
 "metadata": {
  "kernelspec": {
   "display_name": "Python 3",
   "language": "python",
   "name": "python3"
  },
  "language_info": {
   "codemirror_mode": {
    "name": "ipython",
    "version": 3
   },
   "file_extension": ".py",
   "mimetype": "text/x-python",
   "name": "python",
   "nbconvert_exporter": "python",
   "pygments_lexer": "ipython3",
   "version": "3.8.2"
  }
 },
 "nbformat": 4,
 "nbformat_minor": 4
}
